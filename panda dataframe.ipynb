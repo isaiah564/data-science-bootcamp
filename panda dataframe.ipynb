{
 "cells": [
  {
   "cell_type": "code",
   "execution_count": 33,
   "id": "e1007002",
   "metadata": {},
   "outputs": [],
   "source": [
    "import pandas as pd\n",
    "import numpy as np\n"
   ]
  },
  {
   "cell_type": "code",
   "execution_count": 34,
   "id": "8a4b6ab8",
   "metadata": {},
   "outputs": [],
   "source": [
    "df=pd.DataFrame({\n",
    "    'population':[34.600,89.906,67.543,23.400,54.8],\n",
    "    'Gdp': [\n",
    "        6775578,\n",
    "        7557847,\n",
    "        5464774,\n",
    "        4664844,\n",
    "        7595784,\n",
    "    ],\n",
    "    'surface area': [\n",
    "        636736,\n",
    "        734794,\n",
    "        713893,\n",
    "        307330,\n",
    "        54321,\n",
    "    ],\n",
    "    'HDI': [\n",
    "        0.78,\n",
    "        0.87,\n",
    "        0.76,\n",
    "        0.32,\n",
    "        0.76,\n",
    "    ],\n",
    "    'continent':[\n",
    "        'America',\n",
    "        'Europe',\n",
    "        'Europe',\n",
    "        'Europe',\n",
    "        'America',\n",
    "    ]\n",
    "}, columns=['population','Gdp','surface area','HDI','continent'])"
   ]
  },
  {
   "cell_type": "code",
   "execution_count": 5,
   "id": "f3b46e60",
   "metadata": {},
   "outputs": [
    {
     "data": {
      "text/html": [
       "<div>\n",
       "<style scoped>\n",
       "    .dataframe tbody tr th:only-of-type {\n",
       "        vertical-align: middle;\n",
       "    }\n",
       "\n",
       "    .dataframe tbody tr th {\n",
       "        vertical-align: top;\n",
       "    }\n",
       "\n",
       "    .dataframe thead th {\n",
       "        text-align: right;\n",
       "    }\n",
       "</style>\n",
       "<table border=\"1\" class=\"dataframe\">\n",
       "  <thead>\n",
       "    <tr style=\"text-align: right;\">\n",
       "      <th></th>\n",
       "      <th>population</th>\n",
       "      <th>Gdp</th>\n",
       "      <th>surface area</th>\n",
       "      <th>HDI</th>\n",
       "      <th>continent</th>\n",
       "    </tr>\n",
       "  </thead>\n",
       "  <tbody>\n",
       "    <tr>\n",
       "      <th>0</th>\n",
       "      <td>34.600</td>\n",
       "      <td>6775578</td>\n",
       "      <td>636736</td>\n",
       "      <td>0.78</td>\n",
       "      <td>America</td>\n",
       "    </tr>\n",
       "    <tr>\n",
       "      <th>1</th>\n",
       "      <td>89.906</td>\n",
       "      <td>7557847</td>\n",
       "      <td>734794</td>\n",
       "      <td>0.87</td>\n",
       "      <td>Europe</td>\n",
       "    </tr>\n",
       "    <tr>\n",
       "      <th>2</th>\n",
       "      <td>67.543</td>\n",
       "      <td>5464774</td>\n",
       "      <td>713893</td>\n",
       "      <td>0.76</td>\n",
       "      <td>Europe</td>\n",
       "    </tr>\n",
       "    <tr>\n",
       "      <th>3</th>\n",
       "      <td>23.400</td>\n",
       "      <td>4664844</td>\n",
       "      <td>307330</td>\n",
       "      <td>0.32</td>\n",
       "      <td>Europe</td>\n",
       "    </tr>\n",
       "    <tr>\n",
       "      <th>4</th>\n",
       "      <td>54.800</td>\n",
       "      <td>7595784</td>\n",
       "      <td>54321</td>\n",
       "      <td>0.76</td>\n",
       "      <td>America</td>\n",
       "    </tr>\n",
       "  </tbody>\n",
       "</table>\n",
       "</div>"
      ],
      "text/plain": [
       "   population      Gdp  surface area   HDI continent\n",
       "0      34.600  6775578        636736  0.78   America\n",
       "1      89.906  7557847        734794  0.87    Europe\n",
       "2      67.543  5464774        713893  0.76    Europe\n",
       "3      23.400  4664844        307330  0.32    Europe\n",
       "4      54.800  7595784         54321  0.76   America"
      ]
     },
     "execution_count": 5,
     "metadata": {},
     "output_type": "execute_result"
    }
   ],
   "source": [
    "df"
   ]
  },
  {
   "cell_type": "code",
   "execution_count": 6,
   "id": "503e50a4",
   "metadata": {},
   "outputs": [],
   "source": [
    "df.index=[\n",
    "    'canada',\n",
    "    'russia',\n",
    "    'united kingdom',\n",
    "    'hungary',\n",
    "    'mexico',\n",
    "]"
   ]
  },
  {
   "cell_type": "code",
   "execution_count": 8,
   "id": "f503887f",
   "metadata": {},
   "outputs": [
    {
     "data": {
      "text/html": [
       "<div>\n",
       "<style scoped>\n",
       "    .dataframe tbody tr th:only-of-type {\n",
       "        vertical-align: middle;\n",
       "    }\n",
       "\n",
       "    .dataframe tbody tr th {\n",
       "        vertical-align: top;\n",
       "    }\n",
       "\n",
       "    .dataframe thead th {\n",
       "        text-align: right;\n",
       "    }\n",
       "</style>\n",
       "<table border=\"1\" class=\"dataframe\">\n",
       "  <thead>\n",
       "    <tr style=\"text-align: right;\">\n",
       "      <th></th>\n",
       "      <th>population</th>\n",
       "      <th>Gdp</th>\n",
       "      <th>surface area</th>\n",
       "      <th>HDI</th>\n",
       "      <th>continent</th>\n",
       "    </tr>\n",
       "  </thead>\n",
       "  <tbody>\n",
       "    <tr>\n",
       "      <th>canada</th>\n",
       "      <td>34.600</td>\n",
       "      <td>6775578</td>\n",
       "      <td>636736</td>\n",
       "      <td>0.78</td>\n",
       "      <td>America</td>\n",
       "    </tr>\n",
       "    <tr>\n",
       "      <th>russia</th>\n",
       "      <td>89.906</td>\n",
       "      <td>7557847</td>\n",
       "      <td>734794</td>\n",
       "      <td>0.87</td>\n",
       "      <td>Europe</td>\n",
       "    </tr>\n",
       "    <tr>\n",
       "      <th>united kingdom</th>\n",
       "      <td>67.543</td>\n",
       "      <td>5464774</td>\n",
       "      <td>713893</td>\n",
       "      <td>0.76</td>\n",
       "      <td>Europe</td>\n",
       "    </tr>\n",
       "    <tr>\n",
       "      <th>hungary</th>\n",
       "      <td>23.400</td>\n",
       "      <td>4664844</td>\n",
       "      <td>307330</td>\n",
       "      <td>0.32</td>\n",
       "      <td>Europe</td>\n",
       "    </tr>\n",
       "    <tr>\n",
       "      <th>mexico</th>\n",
       "      <td>54.800</td>\n",
       "      <td>7595784</td>\n",
       "      <td>54321</td>\n",
       "      <td>0.76</td>\n",
       "      <td>America</td>\n",
       "    </tr>\n",
       "  </tbody>\n",
       "</table>\n",
       "</div>"
      ],
      "text/plain": [
       "                population      Gdp  surface area   HDI continent\n",
       "canada              34.600  6775578        636736  0.78   America\n",
       "russia              89.906  7557847        734794  0.87    Europe\n",
       "united kingdom      67.543  5464774        713893  0.76    Europe\n",
       "hungary             23.400  4664844        307330  0.32    Europe\n",
       "mexico              54.800  7595784         54321  0.76   America"
      ]
     },
     "execution_count": 8,
     "metadata": {},
     "output_type": "execute_result"
    }
   ],
   "source": [
    "df"
   ]
  },
  {
   "cell_type": "code",
   "execution_count": 10,
   "id": "d44a9f38",
   "metadata": {},
   "outputs": [
    {
     "data": {
      "text/plain": [
       "Index(['population', 'Gdp', 'surface area', 'HDI', 'continent'], dtype='object')"
      ]
     },
     "execution_count": 10,
     "metadata": {},
     "output_type": "execute_result"
    }
   ],
   "source": [
    "df.columns"
   ]
  },
  {
   "cell_type": "code",
   "execution_count": 11,
   "id": "e9e43570",
   "metadata": {},
   "outputs": [
    {
     "data": {
      "text/plain": [
       "['Gdp',\n",
       " 'HDI',\n",
       " 'T',\n",
       " '_AXIS_LEN',\n",
       " '_AXIS_ORDERS',\n",
       " '_AXIS_TO_AXIS_NUMBER',\n",
       " '_HANDLED_TYPES',\n",
       " '__abs__',\n",
       " '__add__',\n",
       " '__and__',\n",
       " '__annotations__',\n",
       " '__array__',\n",
       " '__array_priority__',\n",
       " '__array_ufunc__',\n",
       " '__array_wrap__',\n",
       " '__bool__',\n",
       " '__class__',\n",
       " '__contains__',\n",
       " '__copy__',\n",
       " '__deepcopy__',\n",
       " '__delattr__',\n",
       " '__delitem__',\n",
       " '__dict__',\n",
       " '__dir__',\n",
       " '__divmod__',\n",
       " '__doc__',\n",
       " '__eq__',\n",
       " '__finalize__',\n",
       " '__floordiv__',\n",
       " '__format__',\n",
       " '__ge__',\n",
       " '__getattr__',\n",
       " '__getattribute__',\n",
       " '__getitem__',\n",
       " '__getstate__',\n",
       " '__gt__',\n",
       " '__hash__',\n",
       " '__iadd__',\n",
       " '__iand__',\n",
       " '__ifloordiv__',\n",
       " '__imod__',\n",
       " '__imul__',\n",
       " '__init__',\n",
       " '__init_subclass__',\n",
       " '__invert__',\n",
       " '__ior__',\n",
       " '__ipow__',\n",
       " '__isub__',\n",
       " '__iter__',\n",
       " '__itruediv__',\n",
       " '__ixor__',\n",
       " '__le__',\n",
       " '__len__',\n",
       " '__lt__',\n",
       " '__matmul__',\n",
       " '__mod__',\n",
       " '__module__',\n",
       " '__mul__',\n",
       " '__ne__',\n",
       " '__neg__',\n",
       " '__new__',\n",
       " '__nonzero__',\n",
       " '__or__',\n",
       " '__pos__',\n",
       " '__pow__',\n",
       " '__radd__',\n",
       " '__rand__',\n",
       " '__rdivmod__',\n",
       " '__reduce__',\n",
       " '__reduce_ex__',\n",
       " '__repr__',\n",
       " '__rfloordiv__',\n",
       " '__rmatmul__',\n",
       " '__rmod__',\n",
       " '__rmul__',\n",
       " '__ror__',\n",
       " '__round__',\n",
       " '__rpow__',\n",
       " '__rsub__',\n",
       " '__rtruediv__',\n",
       " '__rxor__',\n",
       " '__setattr__',\n",
       " '__setitem__',\n",
       " '__setstate__',\n",
       " '__sizeof__',\n",
       " '__str__',\n",
       " '__sub__',\n",
       " '__subclasshook__',\n",
       " '__truediv__',\n",
       " '__weakref__',\n",
       " '__xor__',\n",
       " '_accessors',\n",
       " '_accum_func',\n",
       " '_add_numeric_operations',\n",
       " '_agg_by_level',\n",
       " '_agg_examples_doc',\n",
       " '_agg_summary_and_see_also_doc',\n",
       " '_align_frame',\n",
       " '_align_series',\n",
       " '_append',\n",
       " '_arith_method',\n",
       " '_as_manager',\n",
       " '_attrs',\n",
       " '_box_col_values',\n",
       " '_can_fast_transpose',\n",
       " '_check_inplace_and_allows_duplicate_labels',\n",
       " '_check_inplace_setting',\n",
       " '_check_is_chained_assignment_possible',\n",
       " '_check_label_or_level_ambiguity',\n",
       " '_check_setitem_copy',\n",
       " '_clear_item_cache',\n",
       " '_clip_with_one_bound',\n",
       " '_clip_with_scalar',\n",
       " '_cmp_method',\n",
       " '_combine_frame',\n",
       " '_consolidate',\n",
       " '_consolidate_inplace',\n",
       " '_construct_axes_dict',\n",
       " '_construct_axes_from_arguments',\n",
       " '_construct_result',\n",
       " '_constructor',\n",
       " '_constructor_sliced',\n",
       " '_convert',\n",
       " '_count_level',\n",
       " '_data',\n",
       " '_dir_additions',\n",
       " '_dir_deletions',\n",
       " '_dispatch_frame_op',\n",
       " '_drop_axis',\n",
       " '_drop_labels_or_levels',\n",
       " '_ensure_valid_index',\n",
       " '_find_valid_index',\n",
       " '_flags',\n",
       " '_from_arrays',\n",
       " '_from_mgr',\n",
       " '_get_agg_axis',\n",
       " '_get_axis',\n",
       " '_get_axis_name',\n",
       " '_get_axis_number',\n",
       " '_get_axis_resolvers',\n",
       " '_get_block_manager_axis',\n",
       " '_get_bool_data',\n",
       " '_get_cleaned_column_resolvers',\n",
       " '_get_column_array',\n",
       " '_get_index_resolvers',\n",
       " '_get_item_cache',\n",
       " '_get_label_or_level_values',\n",
       " '_get_numeric_data',\n",
       " '_get_value',\n",
       " '_getitem_bool_array',\n",
       " '_getitem_multilevel',\n",
       " '_gotitem',\n",
       " '_hidden_attrs',\n",
       " '_indexed_same',\n",
       " '_info_axis',\n",
       " '_info_axis_name',\n",
       " '_info_axis_number',\n",
       " '_info_repr',\n",
       " '_init_mgr',\n",
       " '_inplace_method',\n",
       " '_internal_names',\n",
       " '_internal_names_set',\n",
       " '_is_copy',\n",
       " '_is_homogeneous_type',\n",
       " '_is_label_or_level_reference',\n",
       " '_is_label_reference',\n",
       " '_is_level_reference',\n",
       " '_is_mixed_type',\n",
       " '_is_view',\n",
       " '_iset_item',\n",
       " '_iset_item_mgr',\n",
       " '_iset_not_inplace',\n",
       " '_item_cache',\n",
       " '_iter_column_arrays',\n",
       " '_ixs',\n",
       " '_join_compat',\n",
       " '_logical_func',\n",
       " '_logical_method',\n",
       " '_maybe_cache_changed',\n",
       " '_maybe_update_cacher',\n",
       " '_metadata',\n",
       " '_mgr',\n",
       " '_min_count_stat_function',\n",
       " '_needs_reindex_multi',\n",
       " '_protect_consolidate',\n",
       " '_reduce',\n",
       " '_reduce_axis1',\n",
       " '_reindex_axes',\n",
       " '_reindex_columns',\n",
       " '_reindex_index',\n",
       " '_reindex_multi',\n",
       " '_reindex_with_indexers',\n",
       " '_rename',\n",
       " '_replace_columnwise',\n",
       " '_repr_data_resource_',\n",
       " '_repr_fits_horizontal_',\n",
       " '_repr_fits_vertical_',\n",
       " '_repr_html_',\n",
       " '_repr_latex_',\n",
       " '_reset_cache',\n",
       " '_reset_cacher',\n",
       " '_sanitize_column',\n",
       " '_series',\n",
       " '_set_axis',\n",
       " '_set_axis_name',\n",
       " '_set_axis_nocheck',\n",
       " '_set_is_copy',\n",
       " '_set_item',\n",
       " '_set_item_frame_value',\n",
       " '_set_item_mgr',\n",
       " '_set_value',\n",
       " '_setitem_array',\n",
       " '_setitem_frame',\n",
       " '_setitem_slice',\n",
       " '_slice',\n",
       " '_stat_axis',\n",
       " '_stat_axis_name',\n",
       " '_stat_axis_number',\n",
       " '_stat_function',\n",
       " '_stat_function_ddof',\n",
       " '_take_with_is_copy',\n",
       " '_to_dict_of_blocks',\n",
       " '_typ',\n",
       " '_update_inplace',\n",
       " '_validate_dtype',\n",
       " '_values',\n",
       " '_where',\n",
       " 'abs',\n",
       " 'add',\n",
       " 'add_prefix',\n",
       " 'add_suffix',\n",
       " 'agg',\n",
       " 'aggregate',\n",
       " 'align',\n",
       " 'all',\n",
       " 'any',\n",
       " 'append',\n",
       " 'apply',\n",
       " 'applymap',\n",
       " 'asfreq',\n",
       " 'asof',\n",
       " 'assign',\n",
       " 'astype',\n",
       " 'at',\n",
       " 'at_time',\n",
       " 'attrs',\n",
       " 'axes',\n",
       " 'backfill',\n",
       " 'between_time',\n",
       " 'bfill',\n",
       " 'bool',\n",
       " 'boxplot',\n",
       " 'clip',\n",
       " 'columns',\n",
       " 'combine',\n",
       " 'combine_first',\n",
       " 'compare',\n",
       " 'continent',\n",
       " 'convert_dtypes',\n",
       " 'copy',\n",
       " 'corr',\n",
       " 'corrwith',\n",
       " 'count',\n",
       " 'cov',\n",
       " 'cummax',\n",
       " 'cummin',\n",
       " 'cumprod',\n",
       " 'cumsum',\n",
       " 'describe',\n",
       " 'diff',\n",
       " 'div',\n",
       " 'divide',\n",
       " 'dot',\n",
       " 'drop',\n",
       " 'drop_duplicates',\n",
       " 'droplevel',\n",
       " 'dropna',\n",
       " 'dtypes',\n",
       " 'duplicated',\n",
       " 'empty',\n",
       " 'eq',\n",
       " 'equals',\n",
       " 'eval',\n",
       " 'ewm',\n",
       " 'expanding',\n",
       " 'explode',\n",
       " 'ffill',\n",
       " 'fillna',\n",
       " 'filter',\n",
       " 'first',\n",
       " 'first_valid_index',\n",
       " 'flags',\n",
       " 'floordiv',\n",
       " 'from_dict',\n",
       " 'from_records',\n",
       " 'ge',\n",
       " 'get',\n",
       " 'groupby',\n",
       " 'gt',\n",
       " 'head',\n",
       " 'hist',\n",
       " 'iat',\n",
       " 'idxmax',\n",
       " 'idxmin',\n",
       " 'iloc',\n",
       " 'index',\n",
       " 'infer_objects',\n",
       " 'info',\n",
       " 'insert',\n",
       " 'interpolate',\n",
       " 'isin',\n",
       " 'isna',\n",
       " 'isnull',\n",
       " 'items',\n",
       " 'iteritems',\n",
       " 'iterrows',\n",
       " 'itertuples',\n",
       " 'join',\n",
       " 'keys',\n",
       " 'kurt',\n",
       " 'kurtosis',\n",
       " 'last',\n",
       " 'last_valid_index',\n",
       " 'le',\n",
       " 'loc',\n",
       " 'lookup',\n",
       " 'lt',\n",
       " 'mad',\n",
       " 'mask',\n",
       " 'max',\n",
       " 'mean',\n",
       " 'median',\n",
       " 'melt',\n",
       " 'memory_usage',\n",
       " 'merge',\n",
       " 'min',\n",
       " 'mod',\n",
       " 'mode',\n",
       " 'mul',\n",
       " 'multiply',\n",
       " 'ndim',\n",
       " 'ne',\n",
       " 'nlargest',\n",
       " 'notna',\n",
       " 'notnull',\n",
       " 'nsmallest',\n",
       " 'nunique',\n",
       " 'pad',\n",
       " 'pct_change',\n",
       " 'pipe',\n",
       " 'pivot',\n",
       " 'pivot_table',\n",
       " 'plot',\n",
       " 'pop',\n",
       " 'population',\n",
       " 'pow',\n",
       " 'prod',\n",
       " 'product',\n",
       " 'quantile',\n",
       " 'query',\n",
       " 'radd',\n",
       " 'rank',\n",
       " 'rdiv',\n",
       " 'reindex',\n",
       " 'reindex_like',\n",
       " 'rename',\n",
       " 'rename_axis',\n",
       " 'reorder_levels',\n",
       " 'replace',\n",
       " 'resample',\n",
       " 'reset_index',\n",
       " 'rfloordiv',\n",
       " 'rmod',\n",
       " 'rmul',\n",
       " 'rolling',\n",
       " 'round',\n",
       " 'rpow',\n",
       " 'rsub',\n",
       " 'rtruediv',\n",
       " 'sample',\n",
       " 'select_dtypes',\n",
       " 'sem',\n",
       " 'set_axis',\n",
       " 'set_flags',\n",
       " 'set_index',\n",
       " 'shape',\n",
       " 'shift',\n",
       " 'size',\n",
       " 'skew',\n",
       " 'slice_shift',\n",
       " 'sort_index',\n",
       " 'sort_values',\n",
       " 'squeeze',\n",
       " 'stack',\n",
       " 'std',\n",
       " 'style',\n",
       " 'sub',\n",
       " 'subtract',\n",
       " 'sum',\n",
       " 'swapaxes',\n",
       " 'swaplevel',\n",
       " 'tail',\n",
       " 'take',\n",
       " 'to_clipboard',\n",
       " 'to_csv',\n",
       " 'to_dict',\n",
       " 'to_excel',\n",
       " 'to_feather',\n",
       " 'to_gbq',\n",
       " 'to_hdf',\n",
       " 'to_html',\n",
       " 'to_json',\n",
       " 'to_latex',\n",
       " 'to_markdown',\n",
       " 'to_numpy',\n",
       " 'to_parquet',\n",
       " 'to_period',\n",
       " 'to_pickle',\n",
       " 'to_records',\n",
       " 'to_sql',\n",
       " 'to_stata',\n",
       " 'to_string',\n",
       " 'to_timestamp',\n",
       " 'to_xarray',\n",
       " 'to_xml',\n",
       " 'transform',\n",
       " 'transpose',\n",
       " 'truediv',\n",
       " 'truncate',\n",
       " 'tz_convert',\n",
       " 'tz_localize',\n",
       " 'unstack',\n",
       " 'update',\n",
       " 'value_counts',\n",
       " 'values',\n",
       " 'var',\n",
       " 'where',\n",
       " 'xs']"
      ]
     },
     "execution_count": 11,
     "metadata": {},
     "output_type": "execute_result"
    }
   ],
   "source": [
    "dir(df)"
   ]
  },
  {
   "cell_type": "code",
   "execution_count": 12,
   "id": "55387ed7",
   "metadata": {},
   "outputs": [
    {
     "data": {
      "text/plain": [
       "Index(['canada', 'russia', 'united kingdom', 'hungary', 'mexico'], dtype='object')"
      ]
     },
     "execution_count": 12,
     "metadata": {},
     "output_type": "execute_result"
    }
   ],
   "source": [
    "df.index"
   ]
  },
  {
   "cell_type": "code",
   "execution_count": 13,
   "id": "81b739d5",
   "metadata": {},
   "outputs": [
    {
     "data": {
      "text/plain": [
       "25"
      ]
     },
     "execution_count": 13,
     "metadata": {},
     "output_type": "execute_result"
    }
   ],
   "source": [
    "df.size"
   ]
  },
  {
   "cell_type": "code",
   "execution_count": 14,
   "id": "fe10db13",
   "metadata": {},
   "outputs": [
    {
     "data": {
      "text/plain": [
       "(5, 5)"
      ]
     },
     "execution_count": 14,
     "metadata": {},
     "output_type": "execute_result"
    }
   ],
   "source": [
    "df.shape"
   ]
  },
  {
   "cell_type": "code",
   "execution_count": 15,
   "id": "251bd6fc",
   "metadata": {},
   "outputs": [
    {
     "name": "stdout",
     "output_type": "stream",
     "text": [
      "<class 'pandas.core.frame.DataFrame'>\n",
      "Index: 5 entries, canada to mexico\n",
      "Data columns (total 5 columns):\n",
      " #   Column        Non-Null Count  Dtype  \n",
      "---  ------        --------------  -----  \n",
      " 0   population    5 non-null      float64\n",
      " 1   Gdp           5 non-null      int64  \n",
      " 2   surface area  5 non-null      int64  \n",
      " 3   HDI           5 non-null      float64\n",
      " 4   continent     5 non-null      object \n",
      "dtypes: float64(2), int64(2), object(1)\n",
      "memory usage: 240.0+ bytes\n"
     ]
    }
   ],
   "source": [
    "df.info()"
   ]
  },
  {
   "cell_type": "code",
   "execution_count": 16,
   "id": "5d52fd6c",
   "metadata": {},
   "outputs": [
    {
     "data": {
      "text/plain": [
       "<bound method NDFrame.describe of                 population      Gdp  surface area   HDI continent\n",
       "canada              34.600  6775578        636736  0.78   America\n",
       "russia              89.906  7557847        734794  0.87    Europe\n",
       "united kingdom      67.543  5464774        713893  0.76    Europe\n",
       "hungary             23.400  4664844        307330  0.32    Europe\n",
       "mexico              54.800  7595784         54321  0.76   America>"
      ]
     },
     "execution_count": 16,
     "metadata": {},
     "output_type": "execute_result"
    }
   ],
   "source": [
    "df.describe"
   ]
  },
  {
   "cell_type": "code",
   "execution_count": 19,
   "id": "f33a1f11",
   "metadata": {},
   "outputs": [
    {
     "data": {
      "text/plain": [
       "population      float64\n",
       "Gdp               int64\n",
       "surface area      int64\n",
       "HDI             float64\n",
       "continent        object\n",
       "dtype: object"
      ]
     },
     "execution_count": 19,
     "metadata": {},
     "output_type": "execute_result"
    }
   ],
   "source": [
    "df.dtypes"
   ]
  },
  {
   "cell_type": "code",
   "execution_count": 20,
   "id": "e3622446",
   "metadata": {},
   "outputs": [
    {
     "data": {
      "text/plain": [
       "<bound method IndexOpsMixin.value_counts of population      float64\n",
       "Gdp               int64\n",
       "surface area      int64\n",
       "HDI             float64\n",
       "continent        object\n",
       "dtype: object>"
      ]
     },
     "execution_count": 20,
     "metadata": {},
     "output_type": "execute_result"
    }
   ],
   "source": [
    "df.dtypes.value_counts"
   ]
  },
  {
   "cell_type": "markdown",
   "id": "3a203e8d",
   "metadata": {},
   "source": [
    "## indexing,slicing and selecting"
   ]
  },
  {
   "cell_type": "code",
   "execution_count": 21,
   "id": "34c6382e",
   "metadata": {},
   "outputs": [
    {
     "data": {
      "text/plain": [
       "population         23.4\n",
       "Gdp             4664844\n",
       "surface area     307330\n",
       "HDI                0.32\n",
       "continent        Europe\n",
       "Name: hungary, dtype: object"
      ]
     },
     "execution_count": 21,
     "metadata": {},
     "output_type": "execute_result"
    }
   ],
   "source": [
    "## we use the loc code to select individual rows##\n",
    "df.loc['hungary']"
   ]
  },
  {
   "cell_type": "code",
   "execution_count": 23,
   "id": "03dcd451",
   "metadata": {},
   "outputs": [
    {
     "data": {
      "text/plain": [
       "population       67.543\n",
       "Gdp             5464774\n",
       "surface area     713893\n",
       "HDI                0.76\n",
       "continent        Europe\n",
       "Name: united kingdom, dtype: object"
      ]
     },
     "execution_count": 23,
     "metadata": {},
     "output_type": "execute_result"
    }
   ],
   "source": [
    "## the iloc lets you select role by sequential position##\n",
    "df.iloc[2]"
   ]
  },
  {
   "cell_type": "code",
   "execution_count": 24,
   "id": "50260232",
   "metadata": {},
   "outputs": [
    {
     "data": {
      "text/plain": [
       "canada            34.600\n",
       "russia            89.906\n",
       "united kingdom    67.543\n",
       "hungary           23.400\n",
       "mexico            54.800\n",
       "Name: population, dtype: float64"
      ]
     },
     "execution_count": 24,
     "metadata": {},
     "output_type": "execute_result"
    }
   ],
   "source": [
    "## if you want to select an entire column all you do is put in the column name##\n",
    "df['population']"
   ]
  },
  {
   "cell_type": "code",
   "execution_count": 31,
   "id": "24a3c72a",
   "metadata": {},
   "outputs": [],
   "source": [
    "## note:always use loc iloc to select rows in dataframes$##"
   ]
  },
  {
   "cell_type": "markdown",
   "id": "c2f738ad",
   "metadata": {},
   "source": [
    "## conditional selection and modifying data frames"
   ]
  },
  {
   "cell_type": "code",
   "execution_count": 4,
   "id": "546011ea",
   "metadata": {},
   "outputs": [
    {
     "data": {
      "text/plain": [
       "0    False\n",
       "1     True\n",
       "2     True\n",
       "3    False\n",
       "4     True\n",
       "Name: population, dtype: bool"
      ]
     },
     "execution_count": 4,
     "metadata": {},
     "output_type": "execute_result"
    }
   ],
   "source": [
    "df['population']>50"
   ]
  },
  {
   "cell_type": "code",
   "execution_count": 5,
   "id": "661834b1",
   "metadata": {},
   "outputs": [
    {
     "data": {
      "text/html": [
       "<div>\n",
       "<style scoped>\n",
       "    .dataframe tbody tr th:only-of-type {\n",
       "        vertical-align: middle;\n",
       "    }\n",
       "\n",
       "    .dataframe tbody tr th {\n",
       "        vertical-align: top;\n",
       "    }\n",
       "\n",
       "    .dataframe thead th {\n",
       "        text-align: right;\n",
       "    }\n",
       "</style>\n",
       "<table border=\"1\" class=\"dataframe\">\n",
       "  <thead>\n",
       "    <tr style=\"text-align: right;\">\n",
       "      <th></th>\n",
       "      <th>population</th>\n",
       "      <th>Gdp</th>\n",
       "      <th>surface area</th>\n",
       "      <th>HDI</th>\n",
       "      <th>continent</th>\n",
       "    </tr>\n",
       "  </thead>\n",
       "  <tbody>\n",
       "    <tr>\n",
       "      <th>0</th>\n",
       "      <td>34.600</td>\n",
       "      <td>6775578</td>\n",
       "      <td>636736</td>\n",
       "      <td>0.78</td>\n",
       "      <td>America</td>\n",
       "    </tr>\n",
       "    <tr>\n",
       "      <th>1</th>\n",
       "      <td>89.906</td>\n",
       "      <td>7557847</td>\n",
       "      <td>734794</td>\n",
       "      <td>0.87</td>\n",
       "      <td>Europe</td>\n",
       "    </tr>\n",
       "    <tr>\n",
       "      <th>2</th>\n",
       "      <td>67.543</td>\n",
       "      <td>5464774</td>\n",
       "      <td>713893</td>\n",
       "      <td>0.76</td>\n",
       "      <td>Europe</td>\n",
       "    </tr>\n",
       "    <tr>\n",
       "      <th>3</th>\n",
       "      <td>23.400</td>\n",
       "      <td>4664844</td>\n",
       "      <td>307330</td>\n",
       "      <td>0.32</td>\n",
       "      <td>Europe</td>\n",
       "    </tr>\n",
       "    <tr>\n",
       "      <th>4</th>\n",
       "      <td>54.800</td>\n",
       "      <td>7595784</td>\n",
       "      <td>54321</td>\n",
       "      <td>0.76</td>\n",
       "      <td>America</td>\n",
       "    </tr>\n",
       "  </tbody>\n",
       "</table>\n",
       "</div>"
      ],
      "text/plain": [
       "   population      Gdp  surface area   HDI continent\n",
       "0      34.600  6775578        636736  0.78   America\n",
       "1      89.906  7557847        734794  0.87    Europe\n",
       "2      67.543  5464774        713893  0.76    Europe\n",
       "3      23.400  4664844        307330  0.32    Europe\n",
       "4      54.800  7595784         54321  0.76   America"
      ]
     },
     "execution_count": 5,
     "metadata": {},
     "output_type": "execute_result"
    }
   ],
   "source": [
    "df"
   ]
  },
  {
   "cell_type": "code",
   "execution_count": 11,
   "id": "8e3da30e",
   "metadata": {},
   "outputs": [
    {
     "data": {
      "text/html": [
       "<div>\n",
       "<style scoped>\n",
       "    .dataframe tbody tr th:only-of-type {\n",
       "        vertical-align: middle;\n",
       "    }\n",
       "\n",
       "    .dataframe tbody tr th {\n",
       "        vertical-align: top;\n",
       "    }\n",
       "\n",
       "    .dataframe thead th {\n",
       "        text-align: right;\n",
       "    }\n",
       "</style>\n",
       "<table border=\"1\" class=\"dataframe\">\n",
       "  <thead>\n",
       "    <tr style=\"text-align: right;\">\n",
       "      <th></th>\n",
       "      <th>population</th>\n",
       "      <th>Gdp</th>\n",
       "      <th>surface area</th>\n",
       "      <th>HDI</th>\n",
       "      <th>continent</th>\n",
       "    </tr>\n",
       "  </thead>\n",
       "  <tbody>\n",
       "    <tr>\n",
       "      <th>2</th>\n",
       "      <td>67.543</td>\n",
       "      <td>5464774</td>\n",
       "      <td>713893</td>\n",
       "      <td>0.76</td>\n",
       "      <td>Europe</td>\n",
       "    </tr>\n",
       "    <tr>\n",
       "      <th>4</th>\n",
       "      <td>54.800</td>\n",
       "      <td>7595784</td>\n",
       "      <td>54321</td>\n",
       "      <td>0.76</td>\n",
       "      <td>America</td>\n",
       "    </tr>\n",
       "  </tbody>\n",
       "</table>\n",
       "</div>"
      ],
      "text/plain": [
       "   population      Gdp  surface area   HDI continent\n",
       "2      67.543  5464774        713893  0.76    Europe\n",
       "4      54.800  7595784         54321  0.76   America"
      ]
     },
     "execution_count": 11,
     "metadata": {},
     "output_type": "execute_result"
    }
   ],
   "source": [
    "df.loc[df['HDI']==0.76]"
   ]
  },
  {
   "cell_type": "code",
   "execution_count": 12,
   "id": "df08ef27",
   "metadata": {},
   "outputs": [
    {
     "data": {
      "text/html": [
       "<div>\n",
       "<style scoped>\n",
       "    .dataframe tbody tr th:only-of-type {\n",
       "        vertical-align: middle;\n",
       "    }\n",
       "\n",
       "    .dataframe tbody tr th {\n",
       "        vertical-align: top;\n",
       "    }\n",
       "\n",
       "    .dataframe thead th {\n",
       "        text-align: right;\n",
       "    }\n",
       "</style>\n",
       "<table border=\"1\" class=\"dataframe\">\n",
       "  <thead>\n",
       "    <tr style=\"text-align: right;\">\n",
       "      <th></th>\n",
       "      <th>population</th>\n",
       "      <th>Gdp</th>\n",
       "      <th>surface area</th>\n",
       "      <th>HDI</th>\n",
       "      <th>continent</th>\n",
       "    </tr>\n",
       "  </thead>\n",
       "  <tbody>\n",
       "    <tr>\n",
       "      <th>1</th>\n",
       "      <td>89.906</td>\n",
       "      <td>7557847</td>\n",
       "      <td>734794</td>\n",
       "      <td>0.87</td>\n",
       "      <td>Europe</td>\n",
       "    </tr>\n",
       "    <tr>\n",
       "      <th>2</th>\n",
       "      <td>67.543</td>\n",
       "      <td>5464774</td>\n",
       "      <td>713893</td>\n",
       "      <td>0.76</td>\n",
       "      <td>Europe</td>\n",
       "    </tr>\n",
       "    <tr>\n",
       "      <th>4</th>\n",
       "      <td>54.800</td>\n",
       "      <td>7595784</td>\n",
       "      <td>54321</td>\n",
       "      <td>0.76</td>\n",
       "      <td>America</td>\n",
       "    </tr>\n",
       "  </tbody>\n",
       "</table>\n",
       "</div>"
      ],
      "text/plain": [
       "   population      Gdp  surface area   HDI continent\n",
       "1      89.906  7557847        734794  0.87    Europe\n",
       "2      67.543  5464774        713893  0.76    Europe\n",
       "4      54.800  7595784         54321  0.76   America"
      ]
     },
     "execution_count": 12,
     "metadata": {},
     "output_type": "execute_result"
    }
   ],
   "source": [
    "df.loc[df['population']>50]"
   ]
  },
  {
   "cell_type": "markdown",
   "id": "20240074",
   "metadata": {},
   "source": [
    "## dropping stuff \n"
   ]
  },
  {
   "cell_type": "code",
   "execution_count": 21,
   "id": "5c6b67f3",
   "metadata": {},
   "outputs": [
    {
     "data": {
      "text/html": [
       "<div>\n",
       "<style scoped>\n",
       "    .dataframe tbody tr th:only-of-type {\n",
       "        vertical-align: middle;\n",
       "    }\n",
       "\n",
       "    .dataframe tbody tr th {\n",
       "        vertical-align: top;\n",
       "    }\n",
       "\n",
       "    .dataframe thead th {\n",
       "        text-align: right;\n",
       "    }\n",
       "</style>\n",
       "<table border=\"1\" class=\"dataframe\">\n",
       "  <thead>\n",
       "    <tr style=\"text-align: right;\">\n",
       "      <th></th>\n",
       "      <th>Gdp</th>\n",
       "      <th>surface area</th>\n",
       "      <th>continent</th>\n",
       "    </tr>\n",
       "  </thead>\n",
       "  <tbody>\n",
       "    <tr>\n",
       "      <th>0</th>\n",
       "      <td>6775578</td>\n",
       "      <td>636736</td>\n",
       "      <td>America</td>\n",
       "    </tr>\n",
       "    <tr>\n",
       "      <th>1</th>\n",
       "      <td>7557847</td>\n",
       "      <td>734794</td>\n",
       "      <td>Europe</td>\n",
       "    </tr>\n",
       "    <tr>\n",
       "      <th>2</th>\n",
       "      <td>5464774</td>\n",
       "      <td>713893</td>\n",
       "      <td>Europe</td>\n",
       "    </tr>\n",
       "    <tr>\n",
       "      <th>3</th>\n",
       "      <td>4664844</td>\n",
       "      <td>307330</td>\n",
       "      <td>Europe</td>\n",
       "    </tr>\n",
       "    <tr>\n",
       "      <th>4</th>\n",
       "      <td>7595784</td>\n",
       "      <td>54321</td>\n",
       "      <td>America</td>\n",
       "    </tr>\n",
       "  </tbody>\n",
       "</table>\n",
       "</div>"
      ],
      "text/plain": [
       "       Gdp  surface area continent\n",
       "0  6775578        636736   America\n",
       "1  7557847        734794    Europe\n",
       "2  5464774        713893    Europe\n",
       "3  4664844        307330    Europe\n",
       "4  7595784         54321   America"
      ]
     },
     "execution_count": 21,
     "metadata": {},
     "output_type": "execute_result"
    }
   ],
   "source": [
    "df.drop(columns=['population','HDI'],axis=1)"
   ]
  },
  {
   "cell_type": "code",
   "execution_count": 26,
   "id": "81798ac5",
   "metadata": {},
   "outputs": [
    {
     "ename": "ValueError",
     "evalue": "No axis named 2 for object type DataFrame",
     "output_type": "error",
     "traceback": [
      "\u001b[1;31m---------------------------------------------------------------------------\u001b[0m",
      "\u001b[1;31mKeyError\u001b[0m                                  Traceback (most recent call last)",
      "\u001b[1;32m~\\anaconda3\\lib\\site-packages\\pandas\\core\\generic.py\u001b[0m in \u001b[0;36m_get_axis_number\u001b[1;34m(cls, axis)\u001b[0m\n\u001b[0;32m    549\u001b[0m         \u001b[1;32mtry\u001b[0m\u001b[1;33m:\u001b[0m\u001b[1;33m\u001b[0m\u001b[1;33m\u001b[0m\u001b[0m\n\u001b[1;32m--> 550\u001b[1;33m             \u001b[1;32mreturn\u001b[0m \u001b[0mcls\u001b[0m\u001b[1;33m.\u001b[0m\u001b[0m_AXIS_TO_AXIS_NUMBER\u001b[0m\u001b[1;33m[\u001b[0m\u001b[0maxis\u001b[0m\u001b[1;33m]\u001b[0m\u001b[1;33m\u001b[0m\u001b[1;33m\u001b[0m\u001b[0m\n\u001b[0m\u001b[0;32m    551\u001b[0m         \u001b[1;32mexcept\u001b[0m \u001b[0mKeyError\u001b[0m\u001b[1;33m:\u001b[0m\u001b[1;33m\u001b[0m\u001b[1;33m\u001b[0m\u001b[0m\n",
      "\u001b[1;31mKeyError\u001b[0m: 2",
      "\nDuring handling of the above exception, another exception occurred:\n",
      "\u001b[1;31mValueError\u001b[0m                                Traceback (most recent call last)",
      "\u001b[1;32m~\\AppData\\Local\\Temp\\ipykernel_15500\\3958688235.py\u001b[0m in \u001b[0;36m<module>\u001b[1;34m\u001b[0m\n\u001b[1;32m----> 1\u001b[1;33m \u001b[0mdf\u001b[0m\u001b[1;33m.\u001b[0m\u001b[0mdrop\u001b[0m\u001b[1;33m(\u001b[0m\u001b[1;33m[\u001b[0m\u001b[1;34m'America'\u001b[0m\u001b[1;33m,\u001b[0m\u001b[1;34m'Europe'\u001b[0m\u001b[1;33m]\u001b[0m\u001b[1;33m,\u001b[0m \u001b[0maxis\u001b[0m\u001b[1;33m=\u001b[0m\u001b[1;36m2\u001b[0m\u001b[1;33m)\u001b[0m\u001b[1;33m\u001b[0m\u001b[1;33m\u001b[0m\u001b[0m\n\u001b[0m",
      "\u001b[1;32m~\\anaconda3\\lib\\site-packages\\pandas\\util\\_decorators.py\u001b[0m in \u001b[0;36mwrapper\u001b[1;34m(*args, **kwargs)\u001b[0m\n\u001b[0;32m    309\u001b[0m                     \u001b[0mstacklevel\u001b[0m\u001b[1;33m=\u001b[0m\u001b[0mstacklevel\u001b[0m\u001b[1;33m,\u001b[0m\u001b[1;33m\u001b[0m\u001b[1;33m\u001b[0m\u001b[0m\n\u001b[0;32m    310\u001b[0m                 )\n\u001b[1;32m--> 311\u001b[1;33m             \u001b[1;32mreturn\u001b[0m \u001b[0mfunc\u001b[0m\u001b[1;33m(\u001b[0m\u001b[1;33m*\u001b[0m\u001b[0margs\u001b[0m\u001b[1;33m,\u001b[0m \u001b[1;33m**\u001b[0m\u001b[0mkwargs\u001b[0m\u001b[1;33m)\u001b[0m\u001b[1;33m\u001b[0m\u001b[1;33m\u001b[0m\u001b[0m\n\u001b[0m\u001b[0;32m    312\u001b[0m \u001b[1;33m\u001b[0m\u001b[0m\n\u001b[0;32m    313\u001b[0m         \u001b[1;32mreturn\u001b[0m \u001b[0mwrapper\u001b[0m\u001b[1;33m\u001b[0m\u001b[1;33m\u001b[0m\u001b[0m\n",
      "\u001b[1;32m~\\anaconda3\\lib\\site-packages\\pandas\\core\\frame.py\u001b[0m in \u001b[0;36mdrop\u001b[1;34m(self, labels, axis, index, columns, level, inplace, errors)\u001b[0m\n\u001b[0;32m   4955\u001b[0m                 \u001b[0mweight\u001b[0m  \u001b[1;36m1.0\u001b[0m     \u001b[1;36m0.8\u001b[0m\u001b[1;33m\u001b[0m\u001b[1;33m\u001b[0m\u001b[0m\n\u001b[0;32m   4956\u001b[0m         \"\"\"\n\u001b[1;32m-> 4957\u001b[1;33m         return super().drop(\n\u001b[0m\u001b[0;32m   4958\u001b[0m             \u001b[0mlabels\u001b[0m\u001b[1;33m=\u001b[0m\u001b[0mlabels\u001b[0m\u001b[1;33m,\u001b[0m\u001b[1;33m\u001b[0m\u001b[1;33m\u001b[0m\u001b[0m\n\u001b[0;32m   4959\u001b[0m             \u001b[0maxis\u001b[0m\u001b[1;33m=\u001b[0m\u001b[0maxis\u001b[0m\u001b[1;33m,\u001b[0m\u001b[1;33m\u001b[0m\u001b[1;33m\u001b[0m\u001b[0m\n",
      "\u001b[1;32m~\\anaconda3\\lib\\site-packages\\pandas\\core\\generic.py\u001b[0m in \u001b[0;36mdrop\u001b[1;34m(self, labels, axis, index, columns, level, inplace, errors)\u001b[0m\n\u001b[0;32m   4252\u001b[0m             \u001b[1;32mif\u001b[0m \u001b[0mindex\u001b[0m \u001b[1;32mis\u001b[0m \u001b[1;32mnot\u001b[0m \u001b[1;32mNone\u001b[0m \u001b[1;32mor\u001b[0m \u001b[0mcolumns\u001b[0m \u001b[1;32mis\u001b[0m \u001b[1;32mnot\u001b[0m \u001b[1;32mNone\u001b[0m\u001b[1;33m:\u001b[0m\u001b[1;33m\u001b[0m\u001b[1;33m\u001b[0m\u001b[0m\n\u001b[0;32m   4253\u001b[0m                 \u001b[1;32mraise\u001b[0m \u001b[0mValueError\u001b[0m\u001b[1;33m(\u001b[0m\u001b[1;34m\"Cannot specify both 'labels' and 'index'/'columns'\"\u001b[0m\u001b[1;33m)\u001b[0m\u001b[1;33m\u001b[0m\u001b[1;33m\u001b[0m\u001b[0m\n\u001b[1;32m-> 4254\u001b[1;33m             \u001b[0maxis_name\u001b[0m \u001b[1;33m=\u001b[0m \u001b[0mself\u001b[0m\u001b[1;33m.\u001b[0m\u001b[0m_get_axis_name\u001b[0m\u001b[1;33m(\u001b[0m\u001b[0maxis\u001b[0m\u001b[1;33m)\u001b[0m\u001b[1;33m\u001b[0m\u001b[1;33m\u001b[0m\u001b[0m\n\u001b[0m\u001b[0;32m   4255\u001b[0m             \u001b[0maxes\u001b[0m \u001b[1;33m=\u001b[0m \u001b[1;33m{\u001b[0m\u001b[0maxis_name\u001b[0m\u001b[1;33m:\u001b[0m \u001b[0mlabels\u001b[0m\u001b[1;33m}\u001b[0m\u001b[1;33m\u001b[0m\u001b[1;33m\u001b[0m\u001b[0m\n\u001b[0;32m   4256\u001b[0m         \u001b[1;32melif\u001b[0m \u001b[0mindex\u001b[0m \u001b[1;32mis\u001b[0m \u001b[1;32mnot\u001b[0m \u001b[1;32mNone\u001b[0m \u001b[1;32mor\u001b[0m \u001b[0mcolumns\u001b[0m \u001b[1;32mis\u001b[0m \u001b[1;32mnot\u001b[0m \u001b[1;32mNone\u001b[0m\u001b[1;33m:\u001b[0m\u001b[1;33m\u001b[0m\u001b[1;33m\u001b[0m\u001b[0m\n",
      "\u001b[1;32m~\\anaconda3\\lib\\site-packages\\pandas\\core\\generic.py\u001b[0m in \u001b[0;36m_get_axis_name\u001b[1;34m(cls, axis)\u001b[0m\n\u001b[0;32m    555\u001b[0m     \u001b[1;33m@\u001b[0m\u001b[0mclassmethod\u001b[0m\u001b[1;33m\u001b[0m\u001b[1;33m\u001b[0m\u001b[0m\n\u001b[0;32m    556\u001b[0m     \u001b[1;32mdef\u001b[0m \u001b[0m_get_axis_name\u001b[0m\u001b[1;33m(\u001b[0m\u001b[0mcls\u001b[0m\u001b[1;33m,\u001b[0m \u001b[0maxis\u001b[0m\u001b[1;33m:\u001b[0m \u001b[0mAxis\u001b[0m\u001b[1;33m)\u001b[0m \u001b[1;33m->\u001b[0m \u001b[0mstr\u001b[0m\u001b[1;33m:\u001b[0m\u001b[1;33m\u001b[0m\u001b[1;33m\u001b[0m\u001b[0m\n\u001b[1;32m--> 557\u001b[1;33m         \u001b[0maxis_number\u001b[0m \u001b[1;33m=\u001b[0m \u001b[0mcls\u001b[0m\u001b[1;33m.\u001b[0m\u001b[0m_get_axis_number\u001b[0m\u001b[1;33m(\u001b[0m\u001b[0maxis\u001b[0m\u001b[1;33m)\u001b[0m\u001b[1;33m\u001b[0m\u001b[1;33m\u001b[0m\u001b[0m\n\u001b[0m\u001b[0;32m    558\u001b[0m         \u001b[1;32mreturn\u001b[0m \u001b[0mcls\u001b[0m\u001b[1;33m.\u001b[0m\u001b[0m_AXIS_ORDERS\u001b[0m\u001b[1;33m[\u001b[0m\u001b[0maxis_number\u001b[0m\u001b[1;33m]\u001b[0m\u001b[1;33m\u001b[0m\u001b[1;33m\u001b[0m\u001b[0m\n\u001b[0;32m    559\u001b[0m \u001b[1;33m\u001b[0m\u001b[0m\n",
      "\u001b[1;32m~\\anaconda3\\lib\\site-packages\\pandas\\core\\generic.py\u001b[0m in \u001b[0;36m_get_axis_number\u001b[1;34m(cls, axis)\u001b[0m\n\u001b[0;32m    550\u001b[0m             \u001b[1;32mreturn\u001b[0m \u001b[0mcls\u001b[0m\u001b[1;33m.\u001b[0m\u001b[0m_AXIS_TO_AXIS_NUMBER\u001b[0m\u001b[1;33m[\u001b[0m\u001b[0maxis\u001b[0m\u001b[1;33m]\u001b[0m\u001b[1;33m\u001b[0m\u001b[1;33m\u001b[0m\u001b[0m\n\u001b[0;32m    551\u001b[0m         \u001b[1;32mexcept\u001b[0m \u001b[0mKeyError\u001b[0m\u001b[1;33m:\u001b[0m\u001b[1;33m\u001b[0m\u001b[1;33m\u001b[0m\u001b[0m\n\u001b[1;32m--> 552\u001b[1;33m             \u001b[1;32mraise\u001b[0m \u001b[0mValueError\u001b[0m\u001b[1;33m(\u001b[0m\u001b[1;34mf\"No axis named {axis} for object type {cls.__name__}\"\u001b[0m\u001b[1;33m)\u001b[0m\u001b[1;33m\u001b[0m\u001b[1;33m\u001b[0m\u001b[0m\n\u001b[0m\u001b[0;32m    553\u001b[0m \u001b[1;33m\u001b[0m\u001b[0m\n\u001b[0;32m    554\u001b[0m     \u001b[1;33m@\u001b[0m\u001b[0mfinal\u001b[0m\u001b[1;33m\u001b[0m\u001b[1;33m\u001b[0m\u001b[0m\n",
      "\u001b[1;31mValueError\u001b[0m: No axis named 2 for object type DataFrame"
     ]
    }
   ],
   "source": [
    "df.drop(['America','Europe'], )"
   ]
  },
  {
   "cell_type": "markdown",
   "id": "f25ccedd",
   "metadata": {},
   "source": [
    "## operations\n",
    "you can perform maths operations"
   ]
  },
  {
   "cell_type": "code",
   "execution_count": 27,
   "id": "c2964d7f",
   "metadata": {},
   "outputs": [
    {
     "data": {
      "text/html": [
       "<div>\n",
       "<style scoped>\n",
       "    .dataframe tbody tr th:only-of-type {\n",
       "        vertical-align: middle;\n",
       "    }\n",
       "\n",
       "    .dataframe tbody tr th {\n",
       "        vertical-align: top;\n",
       "    }\n",
       "\n",
       "    .dataframe thead th {\n",
       "        text-align: right;\n",
       "    }\n",
       "</style>\n",
       "<table border=\"1\" class=\"dataframe\">\n",
       "  <thead>\n",
       "    <tr style=\"text-align: right;\">\n",
       "      <th></th>\n",
       "      <th>population</th>\n",
       "      <th>Gdp</th>\n",
       "    </tr>\n",
       "  </thead>\n",
       "  <tbody>\n",
       "    <tr>\n",
       "      <th>0</th>\n",
       "      <td>0.0</td>\n",
       "      <td>67755</td>\n",
       "    </tr>\n",
       "    <tr>\n",
       "      <th>1</th>\n",
       "      <td>0.0</td>\n",
       "      <td>75578</td>\n",
       "    </tr>\n",
       "    <tr>\n",
       "      <th>2</th>\n",
       "      <td>0.0</td>\n",
       "      <td>54647</td>\n",
       "    </tr>\n",
       "    <tr>\n",
       "      <th>3</th>\n",
       "      <td>0.0</td>\n",
       "      <td>46648</td>\n",
       "    </tr>\n",
       "    <tr>\n",
       "      <th>4</th>\n",
       "      <td>0.0</td>\n",
       "      <td>75957</td>\n",
       "    </tr>\n",
       "  </tbody>\n",
       "</table>\n",
       "</div>"
      ],
      "text/plain": [
       "   population    Gdp\n",
       "0         0.0  67755\n",
       "1         0.0  75578\n",
       "2         0.0  54647\n",
       "3         0.0  46648\n",
       "4         0.0  75957"
      ]
     },
     "execution_count": 27,
     "metadata": {},
     "output_type": "execute_result"
    }
   ],
   "source": [
    "df[['population','Gdp']]//100"
   ]
  },
  {
   "cell_type": "code",
   "execution_count": 30,
   "id": "c3751e95",
   "metadata": {},
   "outputs": [
    {
     "data": {
      "text/html": [
       "<div>\n",
       "<style scoped>\n",
       "    .dataframe tbody tr th:only-of-type {\n",
       "        vertical-align: middle;\n",
       "    }\n",
       "\n",
       "    .dataframe tbody tr th {\n",
       "        vertical-align: top;\n",
       "    }\n",
       "\n",
       "    .dataframe thead th {\n",
       "        text-align: right;\n",
       "    }\n",
       "</style>\n",
       "<table border=\"1\" class=\"dataframe\">\n",
       "  <thead>\n",
       "    <tr style=\"text-align: right;\">\n",
       "      <th></th>\n",
       "      <th>population</th>\n",
       "      <th>Gdp</th>\n",
       "      <th>surface area</th>\n",
       "      <th>HDI</th>\n",
       "      <th>continent</th>\n",
       "    </tr>\n",
       "  </thead>\n",
       "  <tbody>\n",
       "    <tr>\n",
       "      <th>0</th>\n",
       "      <td>34.600</td>\n",
       "      <td>6775578</td>\n",
       "      <td>636736</td>\n",
       "      <td>0.78</td>\n",
       "      <td>America</td>\n",
       "    </tr>\n",
       "    <tr>\n",
       "      <th>1</th>\n",
       "      <td>89.906</td>\n",
       "      <td>7557847</td>\n",
       "      <td>734794</td>\n",
       "      <td>0.87</td>\n",
       "      <td>Europe</td>\n",
       "    </tr>\n",
       "    <tr>\n",
       "      <th>2</th>\n",
       "      <td>67.543</td>\n",
       "      <td>5464774</td>\n",
       "      <td>713893</td>\n",
       "      <td>0.76</td>\n",
       "      <td>Europe</td>\n",
       "    </tr>\n",
       "    <tr>\n",
       "      <th>3</th>\n",
       "      <td>23.400</td>\n",
       "      <td>4664844</td>\n",
       "      <td>307330</td>\n",
       "      <td>0.32</td>\n",
       "      <td>Europe</td>\n",
       "    </tr>\n",
       "    <tr>\n",
       "      <th>4</th>\n",
       "      <td>54.800</td>\n",
       "      <td>7595784</td>\n",
       "      <td>54321</td>\n",
       "      <td>0.76</td>\n",
       "      <td>America</td>\n",
       "    </tr>\n",
       "  </tbody>\n",
       "</table>\n",
       "</div>"
      ],
      "text/plain": [
       "   population      Gdp  surface area   HDI continent\n",
       "0      34.600  6775578        636736  0.78   America\n",
       "1      89.906  7557847        734794  0.87    Europe\n",
       "2      67.543  5464774        713893  0.76    Europe\n",
       "3      23.400  4664844        307330  0.32    Europe\n",
       "4      54.800  7595784         54321  0.76   America"
      ]
     },
     "execution_count": 30,
     "metadata": {},
     "output_type": "execute_result"
    }
   ],
   "source": [
    "df*2\n",
    "df"
   ]
  },
  {
   "cell_type": "markdown",
   "id": "4155224f",
   "metadata": {},
   "source": [
    "## modifying dataframes"
   ]
  },
  {
   "cell_type": "code",
   "execution_count": 40,
   "id": "689515e5",
   "metadata": {},
   "outputs": [],
   "source": [
    "langs=pd.Series(                   \n",
    "    ['french','english','italian'],\n",
    "    index=['Europe','america','europe'],\n",
    "    name='language'\n",
    ")    \n",
    "    \n",
    "    \n"
   ]
  },
  {
   "cell_type": "code",
   "execution_count": 41,
   "id": "60fbd913",
   "metadata": {},
   "outputs": [
    {
     "data": {
      "text/plain": [
       "Europe      french\n",
       "america    english\n",
       "europe     italian\n",
       "Name: language, dtype: object"
      ]
     },
     "execution_count": 41,
     "metadata": {},
     "output_type": "execute_result"
    }
   ],
   "source": [
    "langs"
   ]
  },
  {
   "cell_type": "code",
   "execution_count": 42,
   "id": "ff96de5c",
   "metadata": {},
   "outputs": [],
   "source": [
    "df['language']=langs"
   ]
  },
  {
   "cell_type": "code",
   "execution_count": 43,
   "id": "44a8a333",
   "metadata": {},
   "outputs": [
    {
     "data": {
      "text/html": [
       "<div>\n",
       "<style scoped>\n",
       "    .dataframe tbody tr th:only-of-type {\n",
       "        vertical-align: middle;\n",
       "    }\n",
       "\n",
       "    .dataframe tbody tr th {\n",
       "        vertical-align: top;\n",
       "    }\n",
       "\n",
       "    .dataframe thead th {\n",
       "        text-align: right;\n",
       "    }\n",
       "</style>\n",
       "<table border=\"1\" class=\"dataframe\">\n",
       "  <thead>\n",
       "    <tr style=\"text-align: right;\">\n",
       "      <th></th>\n",
       "      <th>population</th>\n",
       "      <th>Gdp</th>\n",
       "      <th>surface area</th>\n",
       "      <th>HDI</th>\n",
       "      <th>continent</th>\n",
       "      <th>language</th>\n",
       "    </tr>\n",
       "  </thead>\n",
       "  <tbody>\n",
       "    <tr>\n",
       "      <th>0</th>\n",
       "      <td>34.600</td>\n",
       "      <td>6775578</td>\n",
       "      <td>636736</td>\n",
       "      <td>0.78</td>\n",
       "      <td>America</td>\n",
       "      <td>NaN</td>\n",
       "    </tr>\n",
       "    <tr>\n",
       "      <th>1</th>\n",
       "      <td>89.906</td>\n",
       "      <td>7557847</td>\n",
       "      <td>734794</td>\n",
       "      <td>0.87</td>\n",
       "      <td>Europe</td>\n",
       "      <td>NaN</td>\n",
       "    </tr>\n",
       "    <tr>\n",
       "      <th>2</th>\n",
       "      <td>67.543</td>\n",
       "      <td>5464774</td>\n",
       "      <td>713893</td>\n",
       "      <td>0.76</td>\n",
       "      <td>Europe</td>\n",
       "      <td>NaN</td>\n",
       "    </tr>\n",
       "    <tr>\n",
       "      <th>3</th>\n",
       "      <td>23.400</td>\n",
       "      <td>4664844</td>\n",
       "      <td>307330</td>\n",
       "      <td>0.32</td>\n",
       "      <td>Europe</td>\n",
       "      <td>NaN</td>\n",
       "    </tr>\n",
       "    <tr>\n",
       "      <th>4</th>\n",
       "      <td>54.800</td>\n",
       "      <td>7595784</td>\n",
       "      <td>54321</td>\n",
       "      <td>0.76</td>\n",
       "      <td>America</td>\n",
       "      <td>NaN</td>\n",
       "    </tr>\n",
       "  </tbody>\n",
       "</table>\n",
       "</div>"
      ],
      "text/plain": [
       "   population      Gdp  surface area   HDI continent language\n",
       "0      34.600  6775578        636736  0.78   America      NaN\n",
       "1      89.906  7557847        734794  0.87    Europe      NaN\n",
       "2      67.543  5464774        713893  0.76    Europe      NaN\n",
       "3      23.400  4664844        307330  0.32    Europe      NaN\n",
       "4      54.800  7595784         54321  0.76   America      NaN"
      ]
     },
     "execution_count": 43,
     "metadata": {},
     "output_type": "execute_result"
    }
   ],
   "source": [
    "df"
   ]
  },
  {
   "cell_type": "markdown",
   "id": "d6c43fd3",
   "metadata": {},
   "source": [
    "replacing values per column"
   ]
  },
  {
   "cell_type": "code",
   "execution_count": 44,
   "id": "f68fa273",
   "metadata": {},
   "outputs": [],
   "source": [
    "df['language']='english'"
   ]
  },
  {
   "cell_type": "code",
   "execution_count": 45,
   "id": "0fdb77e3",
   "metadata": {},
   "outputs": [
    {
     "data": {
      "text/html": [
       "<div>\n",
       "<style scoped>\n",
       "    .dataframe tbody tr th:only-of-type {\n",
       "        vertical-align: middle;\n",
       "    }\n",
       "\n",
       "    .dataframe tbody tr th {\n",
       "        vertical-align: top;\n",
       "    }\n",
       "\n",
       "    .dataframe thead th {\n",
       "        text-align: right;\n",
       "    }\n",
       "</style>\n",
       "<table border=\"1\" class=\"dataframe\">\n",
       "  <thead>\n",
       "    <tr style=\"text-align: right;\">\n",
       "      <th></th>\n",
       "      <th>population</th>\n",
       "      <th>Gdp</th>\n",
       "      <th>surface area</th>\n",
       "      <th>HDI</th>\n",
       "      <th>continent</th>\n",
       "      <th>language</th>\n",
       "    </tr>\n",
       "  </thead>\n",
       "  <tbody>\n",
       "    <tr>\n",
       "      <th>0</th>\n",
       "      <td>34.600</td>\n",
       "      <td>6775578</td>\n",
       "      <td>636736</td>\n",
       "      <td>0.78</td>\n",
       "      <td>America</td>\n",
       "      <td>english</td>\n",
       "    </tr>\n",
       "    <tr>\n",
       "      <th>1</th>\n",
       "      <td>89.906</td>\n",
       "      <td>7557847</td>\n",
       "      <td>734794</td>\n",
       "      <td>0.87</td>\n",
       "      <td>Europe</td>\n",
       "      <td>english</td>\n",
       "    </tr>\n",
       "    <tr>\n",
       "      <th>2</th>\n",
       "      <td>67.543</td>\n",
       "      <td>5464774</td>\n",
       "      <td>713893</td>\n",
       "      <td>0.76</td>\n",
       "      <td>Europe</td>\n",
       "      <td>english</td>\n",
       "    </tr>\n",
       "    <tr>\n",
       "      <th>3</th>\n",
       "      <td>23.400</td>\n",
       "      <td>4664844</td>\n",
       "      <td>307330</td>\n",
       "      <td>0.32</td>\n",
       "      <td>Europe</td>\n",
       "      <td>english</td>\n",
       "    </tr>\n",
       "    <tr>\n",
       "      <th>4</th>\n",
       "      <td>54.800</td>\n",
       "      <td>7595784</td>\n",
       "      <td>54321</td>\n",
       "      <td>0.76</td>\n",
       "      <td>America</td>\n",
       "      <td>english</td>\n",
       "    </tr>\n",
       "  </tbody>\n",
       "</table>\n",
       "</div>"
      ],
      "text/plain": [
       "   population      Gdp  surface area   HDI continent language\n",
       "0      34.600  6775578        636736  0.78   America  english\n",
       "1      89.906  7557847        734794  0.87    Europe  english\n",
       "2      67.543  5464774        713893  0.76    Europe  english\n",
       "3      23.400  4664844        307330  0.32    Europe  english\n",
       "4      54.800  7595784         54321  0.76   America  english"
      ]
     },
     "execution_count": 45,
     "metadata": {},
     "output_type": "execute_result"
    }
   ],
   "source": [
    "df"
   ]
  },
  {
   "cell_type": "markdown",
   "id": "20b69f3f",
   "metadata": {},
   "source": [
    "renaming columns and indices"
   ]
  },
  {
   "cell_type": "code",
   "execution_count": 49,
   "id": "f719c92c",
   "metadata": {},
   "outputs": [
    {
     "data": {
      "text/html": [
       "<div>\n",
       "<style scoped>\n",
       "    .dataframe tbody tr th:only-of-type {\n",
       "        vertical-align: middle;\n",
       "    }\n",
       "\n",
       "    .dataframe tbody tr th {\n",
       "        vertical-align: top;\n",
       "    }\n",
       "\n",
       "    .dataframe thead th {\n",
       "        text-align: right;\n",
       "    }\n",
       "</style>\n",
       "<table border=\"1\" class=\"dataframe\">\n",
       "  <thead>\n",
       "    <tr style=\"text-align: right;\">\n",
       "      <th></th>\n",
       "      <th>population</th>\n",
       "      <th>gross domestic profit</th>\n",
       "      <th>surface area</th>\n",
       "      <th>human development index</th>\n",
       "      <th>continent</th>\n",
       "      <th>language</th>\n",
       "    </tr>\n",
       "  </thead>\n",
       "  <tbody>\n",
       "    <tr>\n",
       "      <th>0</th>\n",
       "      <td>34.600</td>\n",
       "      <td>6775578</td>\n",
       "      <td>636736</td>\n",
       "      <td>0.78</td>\n",
       "      <td>America</td>\n",
       "      <td>english</td>\n",
       "    </tr>\n",
       "    <tr>\n",
       "      <th>1</th>\n",
       "      <td>89.906</td>\n",
       "      <td>7557847</td>\n",
       "      <td>734794</td>\n",
       "      <td>0.87</td>\n",
       "      <td>Europe</td>\n",
       "      <td>english</td>\n",
       "    </tr>\n",
       "    <tr>\n",
       "      <th>2</th>\n",
       "      <td>67.543</td>\n",
       "      <td>5464774</td>\n",
       "      <td>713893</td>\n",
       "      <td>0.76</td>\n",
       "      <td>Europe</td>\n",
       "      <td>english</td>\n",
       "    </tr>\n",
       "    <tr>\n",
       "      <th>3</th>\n",
       "      <td>23.400</td>\n",
       "      <td>4664844</td>\n",
       "      <td>307330</td>\n",
       "      <td>0.32</td>\n",
       "      <td>Europe</td>\n",
       "      <td>english</td>\n",
       "    </tr>\n",
       "    <tr>\n",
       "      <th>4</th>\n",
       "      <td>54.800</td>\n",
       "      <td>7595784</td>\n",
       "      <td>54321</td>\n",
       "      <td>0.76</td>\n",
       "      <td>America</td>\n",
       "      <td>english</td>\n",
       "    </tr>\n",
       "  </tbody>\n",
       "</table>\n",
       "</div>"
      ],
      "text/plain": [
       "   population  gross domestic profit  surface area  human development index  \\\n",
       "0      34.600                6775578        636736                     0.78   \n",
       "1      89.906                7557847        734794                     0.87   \n",
       "2      67.543                5464774        713893                     0.76   \n",
       "3      23.400                4664844        307330                     0.32   \n",
       "4      54.800                7595784         54321                     0.76   \n",
       "\n",
       "  continent language  \n",
       "0   America  english  \n",
       "1    Europe  english  \n",
       "2    Europe  english  \n",
       "3    Europe  english  \n",
       "4   America  english  "
      ]
     },
     "execution_count": 49,
     "metadata": {},
     "output_type": "execute_result"
    }
   ],
   "source": [
    "df.rename(\n",
    "    columns={\n",
    "    'Gdp':'gross domestic profit',\n",
    "        'HDI':'human development index'\n",
    "    },index={\n",
    "        'America':'usa',\n",
    "        \"Europe\":\"asia\",\n",
    "    })"
   ]
  },
  {
   "cell_type": "code",
   "execution_count": 50,
   "id": "a6b30a26",
   "metadata": {},
   "outputs": [
    {
     "data": {
      "text/plain": [
       "RangeIndex(start=0, stop=5, step=1)"
      ]
     },
     "execution_count": 50,
     "metadata": {},
     "output_type": "execute_result"
    }
   ],
   "source": [
    "df.index"
   ]
  },
  {
   "cell_type": "code",
   "execution_count": 90,
   "id": "217eecef",
   "metadata": {},
   "outputs": [],
   "source": [
    "df.index=([\n",
    "    'usa',\n",
    "    'uk',\n",
    "    'brazil',\n",
    "    'moroco',\n",
    "    'nigeria',\n",
    "])"
   ]
  },
  {
   "cell_type": "code",
   "execution_count": 91,
   "id": "76a4533e",
   "metadata": {},
   "outputs": [
    {
     "data": {
      "text/html": [
       "<div>\n",
       "<style scoped>\n",
       "    .dataframe tbody tr th:only-of-type {\n",
       "        vertical-align: middle;\n",
       "    }\n",
       "\n",
       "    .dataframe tbody tr th {\n",
       "        vertical-align: top;\n",
       "    }\n",
       "\n",
       "    .dataframe thead th {\n",
       "        text-align: right;\n",
       "    }\n",
       "</style>\n",
       "<table border=\"1\" class=\"dataframe\">\n",
       "  <thead>\n",
       "    <tr style=\"text-align: right;\">\n",
       "      <th></th>\n",
       "      <th>population</th>\n",
       "      <th>Gdp</th>\n",
       "      <th>surface area</th>\n",
       "      <th>HDI</th>\n",
       "      <th>continent</th>\n",
       "      <th>language</th>\n",
       "      <th>calculation with no meaning</th>\n",
       "    </tr>\n",
       "  </thead>\n",
       "  <tbody>\n",
       "    <tr>\n",
       "      <th>usa</th>\n",
       "      <td>34.600</td>\n",
       "      <td>6775578</td>\n",
       "      <td>636736</td>\n",
       "      <td>0.78</td>\n",
       "      <td>America</td>\n",
       "      <td>english</td>\n",
       "      <td>2.203107e+07</td>\n",
       "    </tr>\n",
       "    <tr>\n",
       "      <th>uk</th>\n",
       "      <td>89.906</td>\n",
       "      <td>7557847</td>\n",
       "      <td>734794</td>\n",
       "      <td>0.87</td>\n",
       "      <td>Europe</td>\n",
       "      <td>english</td>\n",
       "      <td>6.606239e+07</td>\n",
       "    </tr>\n",
       "    <tr>\n",
       "      <th>brazil</th>\n",
       "      <td>67.543</td>\n",
       "      <td>5464774</td>\n",
       "      <td>713893</td>\n",
       "      <td>0.76</td>\n",
       "      <td>Europe</td>\n",
       "      <td>english</td>\n",
       "      <td>4.821847e+07</td>\n",
       "    </tr>\n",
       "    <tr>\n",
       "      <th>moroco</th>\n",
       "      <td>23.400</td>\n",
       "      <td>4664844</td>\n",
       "      <td>307330</td>\n",
       "      <td>0.32</td>\n",
       "      <td>Europe</td>\n",
       "      <td>english</td>\n",
       "      <td>7.191522e+06</td>\n",
       "    </tr>\n",
       "    <tr>\n",
       "      <th>nigeria</th>\n",
       "      <td>54.800</td>\n",
       "      <td>7595784</td>\n",
       "      <td>54321</td>\n",
       "      <td>0.76</td>\n",
       "      <td>America</td>\n",
       "      <td>english</td>\n",
       "      <td>2.976791e+06</td>\n",
       "    </tr>\n",
       "  </tbody>\n",
       "</table>\n",
       "</div>"
      ],
      "text/plain": [
       "         population      Gdp  surface area   HDI continent language  \\\n",
       "usa          34.600  6775578        636736  0.78   America  english   \n",
       "uk           89.906  7557847        734794  0.87    Europe  english   \n",
       "brazil       67.543  5464774        713893  0.76    Europe  english   \n",
       "moroco       23.400  4664844        307330  0.32    Europe  english   \n",
       "nigeria      54.800  7595784         54321  0.76   America  english   \n",
       "\n",
       "         calculation with no meaning  \n",
       "usa                     2.203107e+07  \n",
       "uk                      6.606239e+07  \n",
       "brazil                  4.821847e+07  \n",
       "moroco                  7.191522e+06  \n",
       "nigeria                 2.976791e+06  "
      ]
     },
     "execution_count": 91,
     "metadata": {},
     "output_type": "execute_result"
    }
   ],
   "source": [
    "df"
   ]
  },
  {
   "cell_type": "markdown",
   "id": "1479c873",
   "metadata": {},
   "source": [
    "## creating columns"
   ]
  },
  {
   "cell_type": "code",
   "execution_count": 54,
   "id": "b3aebc83",
   "metadata": {},
   "outputs": [
    {
     "data": {
      "text/plain": [
       "0    0.0\n",
       "1    0.0\n",
       "2    0.0\n",
       "3    0.0\n",
       "4    0.0\n",
       "dtype: float64"
      ]
     },
     "execution_count": 54,
     "metadata": {},
     "output_type": "execute_result"
    }
   ],
   "source": [
    "df['population']//df['surface area']"
   ]
  },
  {
   "cell_type": "code",
   "execution_count": 55,
   "id": "8fa69ea8",
   "metadata": {},
   "outputs": [
    {
     "data": {
      "text/plain": [
       "0    2.203107e+07\n",
       "1    6.606239e+07\n",
       "2    4.821847e+07\n",
       "3    7.191522e+06\n",
       "4    2.976791e+06\n",
       "dtype: float64"
      ]
     },
     "execution_count": 55,
     "metadata": {},
     "output_type": "execute_result"
    }
   ],
   "source": [
    "df['population']*df['surface area']"
   ]
  },
  {
   "cell_type": "code",
   "execution_count": 56,
   "id": "32ceac43",
   "metadata": {},
   "outputs": [],
   "source": [
    "df['calculation with no meaning']=df['population']*df['surface area']"
   ]
  },
  {
   "cell_type": "code",
   "execution_count": 92,
   "id": "5aea26f4",
   "metadata": {},
   "outputs": [
    {
     "data": {
      "text/html": [
       "<div>\n",
       "<style scoped>\n",
       "    .dataframe tbody tr th:only-of-type {\n",
       "        vertical-align: middle;\n",
       "    }\n",
       "\n",
       "    .dataframe tbody tr th {\n",
       "        vertical-align: top;\n",
       "    }\n",
       "\n",
       "    .dataframe thead th {\n",
       "        text-align: right;\n",
       "    }\n",
       "</style>\n",
       "<table border=\"1\" class=\"dataframe\">\n",
       "  <thead>\n",
       "    <tr style=\"text-align: right;\">\n",
       "      <th></th>\n",
       "      <th>population</th>\n",
       "      <th>Gdp</th>\n",
       "      <th>surface area</th>\n",
       "      <th>HDI</th>\n",
       "      <th>continent</th>\n",
       "      <th>language</th>\n",
       "      <th>calculation with no meaning</th>\n",
       "    </tr>\n",
       "  </thead>\n",
       "  <tbody>\n",
       "    <tr>\n",
       "      <th>usa</th>\n",
       "      <td>34.600</td>\n",
       "      <td>6775578</td>\n",
       "      <td>636736</td>\n",
       "      <td>0.78</td>\n",
       "      <td>America</td>\n",
       "      <td>english</td>\n",
       "      <td>2.203107e+07</td>\n",
       "    </tr>\n",
       "    <tr>\n",
       "      <th>uk</th>\n",
       "      <td>89.906</td>\n",
       "      <td>7557847</td>\n",
       "      <td>734794</td>\n",
       "      <td>0.87</td>\n",
       "      <td>Europe</td>\n",
       "      <td>english</td>\n",
       "      <td>6.606239e+07</td>\n",
       "    </tr>\n",
       "    <tr>\n",
       "      <th>brazil</th>\n",
       "      <td>67.543</td>\n",
       "      <td>5464774</td>\n",
       "      <td>713893</td>\n",
       "      <td>0.76</td>\n",
       "      <td>Europe</td>\n",
       "      <td>english</td>\n",
       "      <td>4.821847e+07</td>\n",
       "    </tr>\n",
       "    <tr>\n",
       "      <th>moroco</th>\n",
       "      <td>23.400</td>\n",
       "      <td>4664844</td>\n",
       "      <td>307330</td>\n",
       "      <td>0.32</td>\n",
       "      <td>Europe</td>\n",
       "      <td>english</td>\n",
       "      <td>7.191522e+06</td>\n",
       "    </tr>\n",
       "    <tr>\n",
       "      <th>nigeria</th>\n",
       "      <td>54.800</td>\n",
       "      <td>7595784</td>\n",
       "      <td>54321</td>\n",
       "      <td>0.76</td>\n",
       "      <td>America</td>\n",
       "      <td>english</td>\n",
       "      <td>2.976791e+06</td>\n",
       "    </tr>\n",
       "  </tbody>\n",
       "</table>\n",
       "</div>"
      ],
      "text/plain": [
       "         population      Gdp  surface area   HDI continent language  \\\n",
       "usa          34.600  6775578        636736  0.78   America  english   \n",
       "uk           89.906  7557847        734794  0.87    Europe  english   \n",
       "brazil       67.543  5464774        713893  0.76    Europe  english   \n",
       "moroco       23.400  4664844        307330  0.32    Europe  english   \n",
       "nigeria      54.800  7595784         54321  0.76   America  english   \n",
       "\n",
       "         calculation with no meaning  \n",
       "usa                     2.203107e+07  \n",
       "uk                      6.606239e+07  \n",
       "brazil                  4.821847e+07  \n",
       "moroco                  7.191522e+06  \n",
       "nigeria                 2.976791e+06  "
      ]
     },
     "execution_count": 92,
     "metadata": {},
     "output_type": "execute_result"
    }
   ],
   "source": [
    "df"
   ]
  },
  {
   "cell_type": "markdown",
   "id": "3a15862d",
   "metadata": {},
   "source": [
    "## statistical info"
   ]
  },
  {
   "cell_type": "code",
   "execution_count": 93,
   "id": "d619eb9f",
   "metadata": {},
   "outputs": [
    {
     "data": {
      "text/html": [
       "<div>\n",
       "<style scoped>\n",
       "    .dataframe tbody tr th:only-of-type {\n",
       "        vertical-align: middle;\n",
       "    }\n",
       "\n",
       "    .dataframe tbody tr th {\n",
       "        vertical-align: top;\n",
       "    }\n",
       "\n",
       "    .dataframe thead th {\n",
       "        text-align: right;\n",
       "    }\n",
       "</style>\n",
       "<table border=\"1\" class=\"dataframe\">\n",
       "  <thead>\n",
       "    <tr style=\"text-align: right;\">\n",
       "      <th></th>\n",
       "      <th>population</th>\n",
       "      <th>Gdp</th>\n",
       "      <th>surface area</th>\n",
       "      <th>HDI</th>\n",
       "      <th>continent</th>\n",
       "      <th>language</th>\n",
       "      <th>calculation with no meaning</th>\n",
       "    </tr>\n",
       "  </thead>\n",
       "  <tbody>\n",
       "    <tr>\n",
       "      <th>usa</th>\n",
       "      <td>34.600</td>\n",
       "      <td>6775578</td>\n",
       "      <td>636736</td>\n",
       "      <td>0.78</td>\n",
       "      <td>America</td>\n",
       "      <td>english</td>\n",
       "      <td>2.203107e+07</td>\n",
       "    </tr>\n",
       "    <tr>\n",
       "      <th>uk</th>\n",
       "      <td>89.906</td>\n",
       "      <td>7557847</td>\n",
       "      <td>734794</td>\n",
       "      <td>0.87</td>\n",
       "      <td>Europe</td>\n",
       "      <td>english</td>\n",
       "      <td>6.606239e+07</td>\n",
       "    </tr>\n",
       "    <tr>\n",
       "      <th>brazil</th>\n",
       "      <td>67.543</td>\n",
       "      <td>5464774</td>\n",
       "      <td>713893</td>\n",
       "      <td>0.76</td>\n",
       "      <td>Europe</td>\n",
       "      <td>english</td>\n",
       "      <td>4.821847e+07</td>\n",
       "    </tr>\n",
       "    <tr>\n",
       "      <th>moroco</th>\n",
       "      <td>23.400</td>\n",
       "      <td>4664844</td>\n",
       "      <td>307330</td>\n",
       "      <td>0.32</td>\n",
       "      <td>Europe</td>\n",
       "      <td>english</td>\n",
       "      <td>7.191522e+06</td>\n",
       "    </tr>\n",
       "    <tr>\n",
       "      <th>nigeria</th>\n",
       "      <td>54.800</td>\n",
       "      <td>7595784</td>\n",
       "      <td>54321</td>\n",
       "      <td>0.76</td>\n",
       "      <td>America</td>\n",
       "      <td>english</td>\n",
       "      <td>2.976791e+06</td>\n",
       "    </tr>\n",
       "  </tbody>\n",
       "</table>\n",
       "</div>"
      ],
      "text/plain": [
       "         population      Gdp  surface area   HDI continent language  \\\n",
       "usa          34.600  6775578        636736  0.78   America  english   \n",
       "uk           89.906  7557847        734794  0.87    Europe  english   \n",
       "brazil       67.543  5464774        713893  0.76    Europe  english   \n",
       "moroco       23.400  4664844        307330  0.32    Europe  english   \n",
       "nigeria      54.800  7595784         54321  0.76   America  english   \n",
       "\n",
       "         calculation with no meaning  \n",
       "usa                     2.203107e+07  \n",
       "uk                      6.606239e+07  \n",
       "brazil                  4.821847e+07  \n",
       "moroco                  7.191522e+06  \n",
       "nigeria                 2.976791e+06  "
      ]
     },
     "execution_count": 93,
     "metadata": {},
     "output_type": "execute_result"
    }
   ],
   "source": [
    "df.head()"
   ]
  },
  {
   "cell_type": "code",
   "execution_count": 95,
   "id": "abaaf4ef",
   "metadata": {},
   "outputs": [
    {
     "data": {
      "text/html": [
       "<div>\n",
       "<style scoped>\n",
       "    .dataframe tbody tr th:only-of-type {\n",
       "        vertical-align: middle;\n",
       "    }\n",
       "\n",
       "    .dataframe tbody tr th {\n",
       "        vertical-align: top;\n",
       "    }\n",
       "\n",
       "    .dataframe thead th {\n",
       "        text-align: right;\n",
       "    }\n",
       "</style>\n",
       "<table border=\"1\" class=\"dataframe\">\n",
       "  <thead>\n",
       "    <tr style=\"text-align: right;\">\n",
       "      <th></th>\n",
       "      <th>population</th>\n",
       "      <th>Gdp</th>\n",
       "      <th>surface area</th>\n",
       "      <th>HDI</th>\n",
       "      <th>calculation with no meaning</th>\n",
       "    </tr>\n",
       "  </thead>\n",
       "  <tbody>\n",
       "    <tr>\n",
       "      <th>count</th>\n",
       "      <td>5.000000</td>\n",
       "      <td>5.000000e+00</td>\n",
       "      <td>5.000000</td>\n",
       "      <td>5.000000</td>\n",
       "      <td>5.000000e+00</td>\n",
       "    </tr>\n",
       "    <tr>\n",
       "      <th>mean</th>\n",
       "      <td>54.049800</td>\n",
       "      <td>6.411765e+06</td>\n",
       "      <td>489414.800000</td>\n",
       "      <td>0.698000</td>\n",
       "      <td>2.929605e+07</td>\n",
       "    </tr>\n",
       "    <tr>\n",
       "      <th>std</th>\n",
       "      <td>26.391293</td>\n",
       "      <td>1.303485e+06</td>\n",
       "      <td>297811.366148</td>\n",
       "      <td>0.216148</td>\n",
       "      <td>2.712893e+07</td>\n",
       "    </tr>\n",
       "    <tr>\n",
       "      <th>min</th>\n",
       "      <td>23.400000</td>\n",
       "      <td>4.664844e+06</td>\n",
       "      <td>54321.000000</td>\n",
       "      <td>0.320000</td>\n",
       "      <td>2.976791e+06</td>\n",
       "    </tr>\n",
       "    <tr>\n",
       "      <th>25%</th>\n",
       "      <td>34.600000</td>\n",
       "      <td>5.464774e+06</td>\n",
       "      <td>307330.000000</td>\n",
       "      <td>0.760000</td>\n",
       "      <td>7.191522e+06</td>\n",
       "    </tr>\n",
       "    <tr>\n",
       "      <th>50%</th>\n",
       "      <td>54.800000</td>\n",
       "      <td>6.775578e+06</td>\n",
       "      <td>636736.000000</td>\n",
       "      <td>0.760000</td>\n",
       "      <td>2.203107e+07</td>\n",
       "    </tr>\n",
       "    <tr>\n",
       "      <th>75%</th>\n",
       "      <td>67.543000</td>\n",
       "      <td>7.557847e+06</td>\n",
       "      <td>713893.000000</td>\n",
       "      <td>0.780000</td>\n",
       "      <td>4.821847e+07</td>\n",
       "    </tr>\n",
       "    <tr>\n",
       "      <th>max</th>\n",
       "      <td>89.906000</td>\n",
       "      <td>7.595784e+06</td>\n",
       "      <td>734794.000000</td>\n",
       "      <td>0.870000</td>\n",
       "      <td>6.606239e+07</td>\n",
       "    </tr>\n",
       "  </tbody>\n",
       "</table>\n",
       "</div>"
      ],
      "text/plain": [
       "       population           Gdp   surface area       HDI  \\\n",
       "count    5.000000  5.000000e+00       5.000000  5.000000   \n",
       "mean    54.049800  6.411765e+06  489414.800000  0.698000   \n",
       "std     26.391293  1.303485e+06  297811.366148  0.216148   \n",
       "min     23.400000  4.664844e+06   54321.000000  0.320000   \n",
       "25%     34.600000  5.464774e+06  307330.000000  0.760000   \n",
       "50%     54.800000  6.775578e+06  636736.000000  0.760000   \n",
       "75%     67.543000  7.557847e+06  713893.000000  0.780000   \n",
       "max     89.906000  7.595784e+06  734794.000000  0.870000   \n",
       "\n",
       "       calculation with no meaning  \n",
       "count                 5.000000e+00  \n",
       "mean                  2.929605e+07  \n",
       "std                   2.712893e+07  \n",
       "min                   2.976791e+06  \n",
       "25%                   7.191522e+06  \n",
       "50%                   2.203107e+07  \n",
       "75%                   4.821847e+07  \n",
       "max                   6.606239e+07  "
      ]
     },
     "execution_count": 95,
     "metadata": {},
     "output_type": "execute_result"
    }
   ],
   "source": [
    "df.describe()"
   ]
  },
  {
   "cell_type": "code",
   "execution_count": 61,
   "id": "ba2f69c9",
   "metadata": {},
   "outputs": [],
   "source": [
    "population=df['population']"
   ]
  },
  {
   "cell_type": "code",
   "execution_count": 71,
   "id": "7da1cc7f",
   "metadata": {},
   "outputs": [
    {
     "name": "stdout",
     "output_type": "stream",
     "text": [
      "23.4 89.906 270.249\n"
     ]
    }
   ],
   "source": [
    "print(population.min(),population.max(),population.sum())"
   ]
  },
  {
   "cell_type": "code",
   "execution_count": 63,
   "id": "751cc1c5",
   "metadata": {},
   "outputs": [
    {
     "data": {
      "text/plain": [
       "54.049800000000005"
      ]
     },
     "execution_count": 63,
     "metadata": {},
     "output_type": "execute_result"
    }
   ],
   "source": [
    "population.mean()"
   ]
  },
  {
   "cell_type": "code",
   "execution_count": 64,
   "id": "b61d534d",
   "metadata": {},
   "outputs": [
    {
     "data": {
      "text/plain": [
       "54.8"
      ]
     },
     "execution_count": 64,
     "metadata": {},
     "output_type": "execute_result"
    }
   ],
   "source": [
    "population.median()"
   ]
  },
  {
   "cell_type": "code",
   "execution_count": 68,
   "id": "45a0b8e1",
   "metadata": {},
   "outputs": [
    {
     "name": "stdout",
     "output_type": "stream",
     "text": [
      "54.049800000000005\n"
     ]
    }
   ],
   "source": [
    "print(population.sum()/len(population))"
   ]
  },
  {
   "cell_type": "code",
   "execution_count": 73,
   "id": "1f3fe6f2",
   "metadata": {},
   "outputs": [
    {
     "data": {
      "text/plain": [
       "26.39129252613445"
      ]
     },
     "execution_count": 73,
     "metadata": {},
     "output_type": "execute_result"
    }
   ],
   "source": [
    "population.std()"
   ]
  },
  {
   "cell_type": "markdown",
   "id": "67241113",
   "metadata": {},
   "source": [
    "## reading external data and plotting"
   ]
  },
  {
   "cell_type": "code",
   "execution_count": null,
   "id": "c6a73c20",
   "metadata": {},
   "outputs": [],
   "source": [
    "pd.read_csv?"
   ]
  },
  {
   "cell_type": "code",
   "execution_count": 99,
   "id": "5ce36fe3",
   "metadata": {},
   "outputs": [
    {
     "data": {
      "text/html": [
       "<div>\n",
       "<style scoped>\n",
       "    .dataframe tbody tr th:only-of-type {\n",
       "        vertical-align: middle;\n",
       "    }\n",
       "\n",
       "    .dataframe tbody tr th {\n",
       "        vertical-align: top;\n",
       "    }\n",
       "\n",
       "    .dataframe thead th {\n",
       "        text-align: right;\n",
       "    }\n",
       "</style>\n",
       "<table border=\"1\" class=\"dataframe\">\n",
       "  <thead>\n",
       "    <tr style=\"text-align: right;\">\n",
       "      <th></th>\n",
       "      <th>date</th>\n",
       "      <th>txVolume(USD)</th>\n",
       "      <th>adjustedTxVolume(USD)</th>\n",
       "      <th>txCount</th>\n",
       "      <th>marketcap(USD)</th>\n",
       "      <th>price(USD)</th>\n",
       "      <th>exchangeVolume(USD)</th>\n",
       "      <th>generatedCoins</th>\n",
       "      <th>fees</th>\n",
       "      <th>activeAddresses</th>\n",
       "      <th>averageDifficulty</th>\n",
       "      <th>paymentCount</th>\n",
       "      <th>medianTxValue(USD)</th>\n",
       "      <th>medianFee</th>\n",
       "      <th>blockSize</th>\n",
       "      <th>blockCount</th>\n",
       "    </tr>\n",
       "  </thead>\n",
       "  <tbody>\n",
       "    <tr>\n",
       "      <th>0</th>\n",
       "      <td>2009-01-09</td>\n",
       "      <td>NaN</td>\n",
       "      <td>NaN</td>\n",
       "      <td>0</td>\n",
       "      <td>NaN</td>\n",
       "      <td>NaN</td>\n",
       "      <td>NaN</td>\n",
       "      <td>700.0</td>\n",
       "      <td>0.000000</td>\n",
       "      <td>14</td>\n",
       "      <td>1.000000e+00</td>\n",
       "      <td>NaN</td>\n",
       "      <td>NaN</td>\n",
       "      <td>NaN</td>\n",
       "      <td>3010</td>\n",
       "      <td>14</td>\n",
       "    </tr>\n",
       "    <tr>\n",
       "      <th>1</th>\n",
       "      <td>2009-01-10</td>\n",
       "      <td>NaN</td>\n",
       "      <td>NaN</td>\n",
       "      <td>0</td>\n",
       "      <td>NaN</td>\n",
       "      <td>NaN</td>\n",
       "      <td>NaN</td>\n",
       "      <td>3050.0</td>\n",
       "      <td>0.000000</td>\n",
       "      <td>61</td>\n",
       "      <td>1.000000e+00</td>\n",
       "      <td>NaN</td>\n",
       "      <td>NaN</td>\n",
       "      <td>NaN</td>\n",
       "      <td>13129</td>\n",
       "      <td>61</td>\n",
       "    </tr>\n",
       "    <tr>\n",
       "      <th>2</th>\n",
       "      <td>2009-01-11</td>\n",
       "      <td>NaN</td>\n",
       "      <td>NaN</td>\n",
       "      <td>0</td>\n",
       "      <td>NaN</td>\n",
       "      <td>NaN</td>\n",
       "      <td>NaN</td>\n",
       "      <td>4650.0</td>\n",
       "      <td>0.000000</td>\n",
       "      <td>93</td>\n",
       "      <td>1.000000e+00</td>\n",
       "      <td>NaN</td>\n",
       "      <td>NaN</td>\n",
       "      <td>NaN</td>\n",
       "      <td>20033</td>\n",
       "      <td>93</td>\n",
       "    </tr>\n",
       "    <tr>\n",
       "      <th>3</th>\n",
       "      <td>2009-01-12</td>\n",
       "      <td>NaN</td>\n",
       "      <td>NaN</td>\n",
       "      <td>7</td>\n",
       "      <td>NaN</td>\n",
       "      <td>NaN</td>\n",
       "      <td>NaN</td>\n",
       "      <td>4700.0</td>\n",
       "      <td>0.000000</td>\n",
       "      <td>102</td>\n",
       "      <td>1.000000e+00</td>\n",
       "      <td>5.0</td>\n",
       "      <td>NaN</td>\n",
       "      <td>0.000000</td>\n",
       "      <td>22031</td>\n",
       "      <td>94</td>\n",
       "    </tr>\n",
       "    <tr>\n",
       "      <th>4</th>\n",
       "      <td>2009-01-13</td>\n",
       "      <td>NaN</td>\n",
       "      <td>NaN</td>\n",
       "      <td>0</td>\n",
       "      <td>NaN</td>\n",
       "      <td>NaN</td>\n",
       "      <td>NaN</td>\n",
       "      <td>6150.0</td>\n",
       "      <td>0.000000</td>\n",
       "      <td>123</td>\n",
       "      <td>1.000000e+00</td>\n",
       "      <td>NaN</td>\n",
       "      <td>NaN</td>\n",
       "      <td>NaN</td>\n",
       "      <td>26527</td>\n",
       "      <td>123</td>\n",
       "    </tr>\n",
       "    <tr>\n",
       "      <th>...</th>\n",
       "      <td>...</td>\n",
       "      <td>...</td>\n",
       "      <td>...</td>\n",
       "      <td>...</td>\n",
       "      <td>...</td>\n",
       "      <td>...</td>\n",
       "      <td>...</td>\n",
       "      <td>...</td>\n",
       "      <td>...</td>\n",
       "      <td>...</td>\n",
       "      <td>...</td>\n",
       "      <td>...</td>\n",
       "      <td>...</td>\n",
       "      <td>...</td>\n",
       "      <td>...</td>\n",
       "      <td>...</td>\n",
       "    </tr>\n",
       "    <tr>\n",
       "      <th>3600</th>\n",
       "      <td>2018-11-18</td>\n",
       "      <td>1.976557e+09</td>\n",
       "      <td>1.304067e+09</td>\n",
       "      <td>239680</td>\n",
       "      <td>9.664468e+10</td>\n",
       "      <td>5559.74</td>\n",
       "      <td>4.159680e+09</td>\n",
       "      <td>1537.5</td>\n",
       "      <td>18.037467</td>\n",
       "      <td>549212</td>\n",
       "      <td>6.653303e+12</td>\n",
       "      <td>301260.0</td>\n",
       "      <td>78.226098</td>\n",
       "      <td>0.000031</td>\n",
       "      <td>117375788</td>\n",
       "      <td>123</td>\n",
       "    </tr>\n",
       "    <tr>\n",
       "      <th>3601</th>\n",
       "      <td>2018-11-19</td>\n",
       "      <td>4.480410e+09</td>\n",
       "      <td>2.620049e+09</td>\n",
       "      <td>267845</td>\n",
       "      <td>9.771459e+10</td>\n",
       "      <td>5620.78</td>\n",
       "      <td>7.039560e+09</td>\n",
       "      <td>1575.0</td>\n",
       "      <td>39.969486</td>\n",
       "      <td>674503</td>\n",
       "      <td>6.653303e+12</td>\n",
       "      <td>361918.0</td>\n",
       "      <td>151.592437</td>\n",
       "      <td>0.000076</td>\n",
       "      <td>138689706</td>\n",
       "      <td>126</td>\n",
       "    </tr>\n",
       "    <tr>\n",
       "      <th>3602</th>\n",
       "      <td>2018-11-20</td>\n",
       "      <td>5.838062e+09</td>\n",
       "      <td>3.944652e+09</td>\n",
       "      <td>288318</td>\n",
       "      <td>8.456520e+10</td>\n",
       "      <td>4863.93</td>\n",
       "      <td>8.428290e+09</td>\n",
       "      <td>1650.0</td>\n",
       "      <td>69.367650</td>\n",
       "      <td>768696</td>\n",
       "      <td>6.653303e+12</td>\n",
       "      <td>423180.0</td>\n",
       "      <td>260.945272</td>\n",
       "      <td>0.000117</td>\n",
       "      <td>158893720</td>\n",
       "      <td>132</td>\n",
       "    </tr>\n",
       "    <tr>\n",
       "      <th>3603</th>\n",
       "      <td>2018-11-21</td>\n",
       "      <td>3.406311e+09</td>\n",
       "      <td>2.220358e+09</td>\n",
       "      <td>254837</td>\n",
       "      <td>7.764452e+10</td>\n",
       "      <td>4465.54</td>\n",
       "      <td>6.120120e+09</td>\n",
       "      <td>1312.5</td>\n",
       "      <td>49.950160</td>\n",
       "      <td>628177</td>\n",
       "      <td>6.653303e+12</td>\n",
       "      <td>367256.0</td>\n",
       "      <td>161.673715</td>\n",
       "      <td>0.000101</td>\n",
       "      <td>127422353</td>\n",
       "      <td>105</td>\n",
       "    </tr>\n",
       "    <tr>\n",
       "      <th>3604</th>\n",
       "      <td>2018-11-22</td>\n",
       "      <td>2.759416e+09</td>\n",
       "      <td>1.711484e+09</td>\n",
       "      <td>265994</td>\n",
       "      <td>8.019071e+10</td>\n",
       "      <td>4611.57</td>\n",
       "      <td>4.569370e+09</td>\n",
       "      <td>1525.0</td>\n",
       "      <td>39.134218</td>\n",
       "      <td>656428</td>\n",
       "      <td>6.653303e+12</td>\n",
       "      <td>364559.0</td>\n",
       "      <td>104.883242</td>\n",
       "      <td>0.000076</td>\n",
       "      <td>148651548</td>\n",
       "      <td>122</td>\n",
       "    </tr>\n",
       "  </tbody>\n",
       "</table>\n",
       "<p>3605 rows × 16 columns</p>\n",
       "</div>"
      ],
      "text/plain": [
       "            date  txVolume(USD)  adjustedTxVolume(USD)  txCount  \\\n",
       "0     2009-01-09            NaN                    NaN        0   \n",
       "1     2009-01-10            NaN                    NaN        0   \n",
       "2     2009-01-11            NaN                    NaN        0   \n",
       "3     2009-01-12            NaN                    NaN        7   \n",
       "4     2009-01-13            NaN                    NaN        0   \n",
       "...          ...            ...                    ...      ...   \n",
       "3600  2018-11-18   1.976557e+09           1.304067e+09   239680   \n",
       "3601  2018-11-19   4.480410e+09           2.620049e+09   267845   \n",
       "3602  2018-11-20   5.838062e+09           3.944652e+09   288318   \n",
       "3603  2018-11-21   3.406311e+09           2.220358e+09   254837   \n",
       "3604  2018-11-22   2.759416e+09           1.711484e+09   265994   \n",
       "\n",
       "      marketcap(USD)  price(USD)  exchangeVolume(USD)  generatedCoins  \\\n",
       "0                NaN         NaN                  NaN           700.0   \n",
       "1                NaN         NaN                  NaN          3050.0   \n",
       "2                NaN         NaN                  NaN          4650.0   \n",
       "3                NaN         NaN                  NaN          4700.0   \n",
       "4                NaN         NaN                  NaN          6150.0   \n",
       "...              ...         ...                  ...             ...   \n",
       "3600    9.664468e+10     5559.74         4.159680e+09          1537.5   \n",
       "3601    9.771459e+10     5620.78         7.039560e+09          1575.0   \n",
       "3602    8.456520e+10     4863.93         8.428290e+09          1650.0   \n",
       "3603    7.764452e+10     4465.54         6.120120e+09          1312.5   \n",
       "3604    8.019071e+10     4611.57         4.569370e+09          1525.0   \n",
       "\n",
       "           fees  activeAddresses  averageDifficulty  paymentCount  \\\n",
       "0      0.000000               14       1.000000e+00           NaN   \n",
       "1      0.000000               61       1.000000e+00           NaN   \n",
       "2      0.000000               93       1.000000e+00           NaN   \n",
       "3      0.000000              102       1.000000e+00           5.0   \n",
       "4      0.000000              123       1.000000e+00           NaN   \n",
       "...         ...              ...                ...           ...   \n",
       "3600  18.037467           549212       6.653303e+12      301260.0   \n",
       "3601  39.969486           674503       6.653303e+12      361918.0   \n",
       "3602  69.367650           768696       6.653303e+12      423180.0   \n",
       "3603  49.950160           628177       6.653303e+12      367256.0   \n",
       "3604  39.134218           656428       6.653303e+12      364559.0   \n",
       "\n",
       "      medianTxValue(USD)  medianFee  blockSize  blockCount  \n",
       "0                    NaN        NaN       3010          14  \n",
       "1                    NaN        NaN      13129          61  \n",
       "2                    NaN        NaN      20033          93  \n",
       "3                    NaN   0.000000      22031          94  \n",
       "4                    NaN        NaN      26527         123  \n",
       "...                  ...        ...        ...         ...  \n",
       "3600           78.226098   0.000031  117375788         123  \n",
       "3601          151.592437   0.000076  138689706         126  \n",
       "3602          260.945272   0.000117  158893720         132  \n",
       "3603          161.673715   0.000101  127422353         105  \n",
       "3604          104.883242   0.000076  148651548         122  \n",
       "\n",
       "[3605 rows x 16 columns]"
      ]
     },
     "execution_count": 99,
     "metadata": {},
     "output_type": "execute_result"
    }
   ],
   "source": [
    "sc=pd.read_csv('bitcoin_csv.csv')\n",
    "sc"
   ]
  },
  {
   "cell_type": "markdown",
   "id": "2465fdc6",
   "metadata": {},
   "source": [
    "## plotting basiscs"
   ]
  },
  {
   "cell_type": "markdown",
   "id": "36f08be1",
   "metadata": {},
   "source": [
    "2022-11-12_2022-12-12_ethereumprice_org"
   ]
  },
  {
   "cell_type": "code",
   "execution_count": 101,
   "id": "fd511881",
   "metadata": {},
   "outputs": [
    {
     "data": {
      "text/plain": [
       "<AxesSubplot:>"
      ]
     },
     "execution_count": 101,
     "metadata": {},
     "output_type": "execute_result"
    },
    {
     "data": {
      "image/png": "[encoded data removed]",
      "text/plain": [
       "<Figure size 640x480 with 1 Axes>"
      ]
     },
     "metadata": {},
     "output_type": "display_data"
    }
   ],
   "source": [
    "sc.plot()"
   ]
  },
  {
   "cell_type": "code",
   "execution_count": 104,
   "id": "31c08342",
   "metadata": {},
   "outputs": [
    {
     "data": {
      "text/plain": [
       "<AxesSubplot:>"
      ]
     },
     "execution_count": 104,
     "metadata": {},
     "output_type": "execute_result"
    },
    {
     "data": {
      "image/png": "[encoded data removed]",
      "text/plain": [
       "<Figure size 1200x400 with 1 Axes>"
      ]
     },
     "metadata": {},
     "output_type": "display_data"
    }
   ],
   "source": [
    "sc.plot(figsize=(12,4))"
   ]
  },
  {
   "cell_type": "code",
   "execution_count": 80,
   "id": "53b4499e",
   "metadata": {},
   "outputs": [
    {
     "data": {
      "text/plain": [
       "<AxesSubplot:>"
      ]
     },
     "execution_count": 80,
     "metadata": {},
     "output_type": "execute_result"
    },
    {
     "data": {
      "image/png": "[encoded data removed]",
      "text/plain": [
       "<Figure size 640x480 with 1 Axes>"
      ]
     },
     "metadata": {},
     "output_type": "display_data"
    }
   ],
   "source": [
    "df.plot()"
   ]
  },
  {
   "cell_type": "code",
   "execution_count": 85,
   "id": "ae83f776",
   "metadata": {},
   "outputs": [
    {
     "data": {
      "text/plain": [
       "<AxesSubplot:>"
      ]
     },
     "execution_count": 85,
     "metadata": {},
     "output_type": "execute_result"
    },
    {
     "data": {
      "image/png": "[encoded data removed]",
      "text/plain": [
       "<Figure size 1200x600 with 1 Axes>"
      ]
     },
     "metadata": {},
     "output_type": "display_data"
    }
   ],
   "source": [
    "df.plot(figsize=(12,6))"
   ]
  },
  {
   "cell_type": "markdown",
   "id": "f7b425eb",
   "metadata": {},
   "source": [
    "## visualiztion in panda"
   ]
  },
  {
   "cell_type": "code",
   "execution_count": 105,
   "id": "1b11a01c",
   "metadata": {},
   "outputs": [],
   "source": [
    "import numpy as np\n",
    "%matplotlib inline"
   ]
  },
  {
   "cell_type": "code",
   "execution_count": 109,
   "id": "b887a7dd",
   "metadata": {},
   "outputs": [
    {
     "data": {
      "text/plain": [
       "<AxesSubplot:>"
      ]
     },
     "execution_count": 109,
     "metadata": {},
     "output_type": "execute_result"
    },
    {
     "data": {
      "image/png": "[encoded data removed]",
      "text/plain": [
       "<Figure size 1200x600 with 1 Axes>"
      ]
     },
     "metadata": {},
     "output_type": "display_data"
    }
   ],
   "source": [
    "sc.plot(figsize=(12,6))"
   ]
  },
  {
   "cell_type": "code",
   "execution_count": 111,
   "id": "961c3884",
   "metadata": {},
   "outputs": [
    {
     "data": {
      "text/plain": [
       "<AxesSubplot:>"
      ]
     },
     "execution_count": 111,
     "metadata": {},
     "output_type": "execute_result"
    },
    {
     "data": {
      "image/png": "[encoded data removed]",
      "text/plain": [
       "<Figure size 640x480 with 1 Axes>"
      ]
     },
     "metadata": {},
     "output_type": "display_data"
    }
   ],
   "source": [
    "cs=sc.cumsum()\n",
    "cs.plot()"
   ]
  },
  {
   "cell_type": "markdown",
   "id": "0344b52f",
   "metadata": {},
   "source": [
    "## remove repeated data using pandas"
   ]
  },
  {
   "cell_type": "code",
   "execution_count": 112,
   "id": "757bdaa5",
   "metadata": {},
   "outputs": [
    {
     "data": {
      "text/html": [
       "<div>\n",
       "<style scoped>\n",
       "    .dataframe tbody tr th:only-of-type {\n",
       "        vertical-align: middle;\n",
       "    }\n",
       "\n",
       "    .dataframe tbody tr th {\n",
       "        vertical-align: top;\n",
       "    }\n",
       "\n",
       "    .dataframe thead th {\n",
       "        text-align: right;\n",
       "    }\n",
       "</style>\n",
       "<table border=\"1\" class=\"dataframe\">\n",
       "  <thead>\n",
       "    <tr style=\"text-align: right;\">\n",
       "      <th></th>\n",
       "      <th>date</th>\n",
       "      <th>txVolume(USD)</th>\n",
       "      <th>adjustedTxVolume(USD)</th>\n",
       "      <th>txCount</th>\n",
       "      <th>marketcap(USD)</th>\n",
       "      <th>price(USD)</th>\n",
       "      <th>exchangeVolume(USD)</th>\n",
       "      <th>generatedCoins</th>\n",
       "      <th>fees</th>\n",
       "      <th>activeAddresses</th>\n",
       "      <th>averageDifficulty</th>\n",
       "      <th>paymentCount</th>\n",
       "      <th>medianTxValue(USD)</th>\n",
       "      <th>medianFee</th>\n",
       "      <th>blockSize</th>\n",
       "      <th>blockCount</th>\n",
       "    </tr>\n",
       "  </thead>\n",
       "  <tbody>\n",
       "    <tr>\n",
       "      <th>0</th>\n",
       "      <td>2009-01-09</td>\n",
       "      <td>NaN</td>\n",
       "      <td>NaN</td>\n",
       "      <td>0</td>\n",
       "      <td>NaN</td>\n",
       "      <td>NaN</td>\n",
       "      <td>NaN</td>\n",
       "      <td>700.0</td>\n",
       "      <td>0.000000</td>\n",
       "      <td>14</td>\n",
       "      <td>1.000000e+00</td>\n",
       "      <td>NaN</td>\n",
       "      <td>NaN</td>\n",
       "      <td>NaN</td>\n",
       "      <td>3010</td>\n",
       "      <td>14</td>\n",
       "    </tr>\n",
       "    <tr>\n",
       "      <th>1</th>\n",
       "      <td>2009-01-10</td>\n",
       "      <td>NaN</td>\n",
       "      <td>NaN</td>\n",
       "      <td>0</td>\n",
       "      <td>NaN</td>\n",
       "      <td>NaN</td>\n",
       "      <td>NaN</td>\n",
       "      <td>3050.0</td>\n",
       "      <td>0.000000</td>\n",
       "      <td>61</td>\n",
       "      <td>1.000000e+00</td>\n",
       "      <td>NaN</td>\n",
       "      <td>NaN</td>\n",
       "      <td>NaN</td>\n",
       "      <td>13129</td>\n",
       "      <td>61</td>\n",
       "    </tr>\n",
       "    <tr>\n",
       "      <th>2</th>\n",
       "      <td>2009-01-11</td>\n",
       "      <td>NaN</td>\n",
       "      <td>NaN</td>\n",
       "      <td>0</td>\n",
       "      <td>NaN</td>\n",
       "      <td>NaN</td>\n",
       "      <td>NaN</td>\n",
       "      <td>4650.0</td>\n",
       "      <td>0.000000</td>\n",
       "      <td>93</td>\n",
       "      <td>1.000000e+00</td>\n",
       "      <td>NaN</td>\n",
       "      <td>NaN</td>\n",
       "      <td>NaN</td>\n",
       "      <td>20033</td>\n",
       "      <td>93</td>\n",
       "    </tr>\n",
       "    <tr>\n",
       "      <th>3</th>\n",
       "      <td>2009-01-12</td>\n",
       "      <td>NaN</td>\n",
       "      <td>NaN</td>\n",
       "      <td>7</td>\n",
       "      <td>NaN</td>\n",
       "      <td>NaN</td>\n",
       "      <td>NaN</td>\n",
       "      <td>4700.0</td>\n",
       "      <td>0.000000</td>\n",
       "      <td>102</td>\n",
       "      <td>1.000000e+00</td>\n",
       "      <td>5.0</td>\n",
       "      <td>NaN</td>\n",
       "      <td>0.000000</td>\n",
       "      <td>22031</td>\n",
       "      <td>94</td>\n",
       "    </tr>\n",
       "    <tr>\n",
       "      <th>4</th>\n",
       "      <td>2009-01-13</td>\n",
       "      <td>NaN</td>\n",
       "      <td>NaN</td>\n",
       "      <td>0</td>\n",
       "      <td>NaN</td>\n",
       "      <td>NaN</td>\n",
       "      <td>NaN</td>\n",
       "      <td>6150.0</td>\n",
       "      <td>0.000000</td>\n",
       "      <td>123</td>\n",
       "      <td>1.000000e+00</td>\n",
       "      <td>NaN</td>\n",
       "      <td>NaN</td>\n",
       "      <td>NaN</td>\n",
       "      <td>26527</td>\n",
       "      <td>123</td>\n",
       "    </tr>\n",
       "    <tr>\n",
       "      <th>...</th>\n",
       "      <td>...</td>\n",
       "      <td>...</td>\n",
       "      <td>...</td>\n",
       "      <td>...</td>\n",
       "      <td>...</td>\n",
       "      <td>...</td>\n",
       "      <td>...</td>\n",
       "      <td>...</td>\n",
       "      <td>...</td>\n",
       "      <td>...</td>\n",
       "      <td>...</td>\n",
       "      <td>...</td>\n",
       "      <td>...</td>\n",
       "      <td>...</td>\n",
       "      <td>...</td>\n",
       "      <td>...</td>\n",
       "    </tr>\n",
       "    <tr>\n",
       "      <th>3600</th>\n",
       "      <td>2018-11-18</td>\n",
       "      <td>1.976557e+09</td>\n",
       "      <td>1.304067e+09</td>\n",
       "      <td>239680</td>\n",
       "      <td>9.664468e+10</td>\n",
       "      <td>5559.74</td>\n",
       "      <td>4.159680e+09</td>\n",
       "      <td>1537.5</td>\n",
       "      <td>18.037467</td>\n",
       "      <td>549212</td>\n",
       "      <td>6.653303e+12</td>\n",
       "      <td>301260.0</td>\n",
       "      <td>78.226098</td>\n",
       "      <td>0.000031</td>\n",
       "      <td>117375788</td>\n",
       "      <td>123</td>\n",
       "    </tr>\n",
       "    <tr>\n",
       "      <th>3601</th>\n",
       "      <td>2018-11-19</td>\n",
       "      <td>4.480410e+09</td>\n",
       "      <td>2.620049e+09</td>\n",
       "      <td>267845</td>\n",
       "      <td>9.771459e+10</td>\n",
       "      <td>5620.78</td>\n",
       "      <td>7.039560e+09</td>\n",
       "      <td>1575.0</td>\n",
       "      <td>39.969486</td>\n",
       "      <td>674503</td>\n",
       "      <td>6.653303e+12</td>\n",
       "      <td>361918.0</td>\n",
       "      <td>151.592437</td>\n",
       "      <td>0.000076</td>\n",
       "      <td>138689706</td>\n",
       "      <td>126</td>\n",
       "    </tr>\n",
       "    <tr>\n",
       "      <th>3602</th>\n",
       "      <td>2018-11-20</td>\n",
       "      <td>5.838062e+09</td>\n",
       "      <td>3.944652e+09</td>\n",
       "      <td>288318</td>\n",
       "      <td>8.456520e+10</td>\n",
       "      <td>4863.93</td>\n",
       "      <td>8.428290e+09</td>\n",
       "      <td>1650.0</td>\n",
       "      <td>69.367650</td>\n",
       "      <td>768696</td>\n",
       "      <td>6.653303e+12</td>\n",
       "      <td>423180.0</td>\n",
       "      <td>260.945272</td>\n",
       "      <td>0.000117</td>\n",
       "      <td>158893720</td>\n",
       "      <td>132</td>\n",
       "    </tr>\n",
       "    <tr>\n",
       "      <th>3603</th>\n",
       "      <td>2018-11-21</td>\n",
       "      <td>3.406311e+09</td>\n",
       "      <td>2.220358e+09</td>\n",
       "      <td>254837</td>\n",
       "      <td>7.764452e+10</td>\n",
       "      <td>4465.54</td>\n",
       "      <td>6.120120e+09</td>\n",
       "      <td>1312.5</td>\n",
       "      <td>49.950160</td>\n",
       "      <td>628177</td>\n",
       "      <td>6.653303e+12</td>\n",
       "      <td>367256.0</td>\n",
       "      <td>161.673715</td>\n",
       "      <td>0.000101</td>\n",
       "      <td>127422353</td>\n",
       "      <td>105</td>\n",
       "    </tr>\n",
       "    <tr>\n",
       "      <th>3604</th>\n",
       "      <td>2018-11-22</td>\n",
       "      <td>2.759416e+09</td>\n",
       "      <td>1.711484e+09</td>\n",
       "      <td>265994</td>\n",
       "      <td>8.019071e+10</td>\n",
       "      <td>4611.57</td>\n",
       "      <td>4.569370e+09</td>\n",
       "      <td>1525.0</td>\n",
       "      <td>39.134218</td>\n",
       "      <td>656428</td>\n",
       "      <td>6.653303e+12</td>\n",
       "      <td>364559.0</td>\n",
       "      <td>104.883242</td>\n",
       "      <td>0.000076</td>\n",
       "      <td>148651548</td>\n",
       "      <td>122</td>\n",
       "    </tr>\n",
       "  </tbody>\n",
       "</table>\n",
       "<p>3605 rows × 16 columns</p>\n",
       "</div>"
      ],
      "text/plain": [
       "            date  txVolume(USD)  adjustedTxVolume(USD)  txCount  \\\n",
       "0     2009-01-09            NaN                    NaN        0   \n",
       "1     2009-01-10            NaN                    NaN        0   \n",
       "2     2009-01-11            NaN                    NaN        0   \n",
       "3     2009-01-12            NaN                    NaN        7   \n",
       "4     2009-01-13            NaN                    NaN        0   \n",
       "...          ...            ...                    ...      ...   \n",
       "3600  2018-11-18   1.976557e+09           1.304067e+09   239680   \n",
       "3601  2018-11-19   4.480410e+09           2.620049e+09   267845   \n",
       "3602  2018-11-20   5.838062e+09           3.944652e+09   288318   \n",
       "3603  2018-11-21   3.406311e+09           2.220358e+09   254837   \n",
       "3604  2018-11-22   2.759416e+09           1.711484e+09   265994   \n",
       "\n",
       "      marketcap(USD)  price(USD)  exchangeVolume(USD)  generatedCoins  \\\n",
       "0                NaN         NaN                  NaN           700.0   \n",
       "1                NaN         NaN                  NaN          3050.0   \n",
       "2                NaN         NaN                  NaN          4650.0   \n",
       "3                NaN         NaN                  NaN          4700.0   \n",
       "4                NaN         NaN                  NaN          6150.0   \n",
       "...              ...         ...                  ...             ...   \n",
       "3600    9.664468e+10     5559.74         4.159680e+09          1537.5   \n",
       "3601    9.771459e+10     5620.78         7.039560e+09          1575.0   \n",
       "3602    8.456520e+10     4863.93         8.428290e+09          1650.0   \n",
       "3603    7.764452e+10     4465.54         6.120120e+09          1312.5   \n",
       "3604    8.019071e+10     4611.57         4.569370e+09          1525.0   \n",
       "\n",
       "           fees  activeAddresses  averageDifficulty  paymentCount  \\\n",
       "0      0.000000               14       1.000000e+00           NaN   \n",
       "1      0.000000               61       1.000000e+00           NaN   \n",
       "2      0.000000               93       1.000000e+00           NaN   \n",
       "3      0.000000              102       1.000000e+00           5.0   \n",
       "4      0.000000              123       1.000000e+00           NaN   \n",
       "...         ...              ...                ...           ...   \n",
       "3600  18.037467           549212       6.653303e+12      301260.0   \n",
       "3601  39.969486           674503       6.653303e+12      361918.0   \n",
       "3602  69.367650           768696       6.653303e+12      423180.0   \n",
       "3603  49.950160           628177       6.653303e+12      367256.0   \n",
       "3604  39.134218           656428       6.653303e+12      364559.0   \n",
       "\n",
       "      medianTxValue(USD)  medianFee  blockSize  blockCount  \n",
       "0                    NaN        NaN       3010          14  \n",
       "1                    NaN        NaN      13129          61  \n",
       "2                    NaN        NaN      20033          93  \n",
       "3                    NaN   0.000000      22031          94  \n",
       "4                    NaN        NaN      26527         123  \n",
       "...                  ...        ...        ...         ...  \n",
       "3600           78.226098   0.000031  117375788         123  \n",
       "3601          151.592437   0.000076  138689706         126  \n",
       "3602          260.945272   0.000117  158893720         132  \n",
       "3603          161.673715   0.000101  127422353         105  \n",
       "3604          104.883242   0.000076  148651548         122  \n",
       "\n",
       "[3605 rows x 16 columns]"
      ]
     },
     "execution_count": 112,
     "metadata": {},
     "output_type": "execute_result"
    }
   ],
   "source": [
    "sc"
   ]
  },
  {
   "cell_type": "code",
   "execution_count": 113,
   "id": "a4171760",
   "metadata": {},
   "outputs": [
    {
     "data": {
      "text/html": [
       "<div>\n",
       "<style scoped>\n",
       "    .dataframe tbody tr th:only-of-type {\n",
       "        vertical-align: middle;\n",
       "    }\n",
       "\n",
       "    .dataframe tbody tr th {\n",
       "        vertical-align: top;\n",
       "    }\n",
       "\n",
       "    .dataframe thead th {\n",
       "        text-align: right;\n",
       "    }\n",
       "</style>\n",
       "<table border=\"1\" class=\"dataframe\">\n",
       "  <thead>\n",
       "    <tr style=\"text-align: right;\">\n",
       "      <th></th>\n",
       "      <th>population</th>\n",
       "      <th>Gdp</th>\n",
       "      <th>surface area</th>\n",
       "      <th>HDI</th>\n",
       "      <th>continent</th>\n",
       "      <th>language</th>\n",
       "      <th>calculation with no meaning</th>\n",
       "    </tr>\n",
       "  </thead>\n",
       "  <tbody>\n",
       "    <tr>\n",
       "      <th>usa</th>\n",
       "      <td>34.600</td>\n",
       "      <td>6775578</td>\n",
       "      <td>636736</td>\n",
       "      <td>0.78</td>\n",
       "      <td>America</td>\n",
       "      <td>english</td>\n",
       "      <td>2.203107e+07</td>\n",
       "    </tr>\n",
       "    <tr>\n",
       "      <th>uk</th>\n",
       "      <td>89.906</td>\n",
       "      <td>7557847</td>\n",
       "      <td>734794</td>\n",
       "      <td>0.87</td>\n",
       "      <td>Europe</td>\n",
       "      <td>english</td>\n",
       "      <td>6.606239e+07</td>\n",
       "    </tr>\n",
       "    <tr>\n",
       "      <th>brazil</th>\n",
       "      <td>67.543</td>\n",
       "      <td>5464774</td>\n",
       "      <td>713893</td>\n",
       "      <td>0.76</td>\n",
       "      <td>Europe</td>\n",
       "      <td>english</td>\n",
       "      <td>4.821847e+07</td>\n",
       "    </tr>\n",
       "    <tr>\n",
       "      <th>moroco</th>\n",
       "      <td>23.400</td>\n",
       "      <td>4664844</td>\n",
       "      <td>307330</td>\n",
       "      <td>0.32</td>\n",
       "      <td>Europe</td>\n",
       "      <td>english</td>\n",
       "      <td>7.191522e+06</td>\n",
       "    </tr>\n",
       "    <tr>\n",
       "      <th>nigeria</th>\n",
       "      <td>54.800</td>\n",
       "      <td>7595784</td>\n",
       "      <td>54321</td>\n",
       "      <td>0.76</td>\n",
       "      <td>America</td>\n",
       "      <td>english</td>\n",
       "      <td>2.976791e+06</td>\n",
       "    </tr>\n",
       "  </tbody>\n",
       "</table>\n",
       "</div>"
      ],
      "text/plain": [
       "         population      Gdp  surface area   HDI continent language  \\\n",
       "usa          34.600  6775578        636736  0.78   America  english   \n",
       "uk           89.906  7557847        734794  0.87    Europe  english   \n",
       "brazil       67.543  5464774        713893  0.76    Europe  english   \n",
       "moroco       23.400  4664844        307330  0.32    Europe  english   \n",
       "nigeria      54.800  7595784         54321  0.76   America  english   \n",
       "\n",
       "         calculation with no meaning  \n",
       "usa                     2.203107e+07  \n",
       "uk                      6.606239e+07  \n",
       "brazil                  4.821847e+07  \n",
       "moroco                  7.191522e+06  \n",
       "nigeria                 2.976791e+06  "
      ]
     },
     "execution_count": 113,
     "metadata": {},
     "output_type": "execute_result"
    }
   ],
   "source": [
    "df"
   ]
  },
  {
   "cell_type": "code",
   "execution_count": 114,
   "id": "f4a365e2",
   "metadata": {},
   "outputs": [
    {
     "ename": "AttributeError",
     "evalue": "'list' object has no attribute 'shift'",
     "output_type": "error",
     "traceback": [
      "\u001b[1;31m---------------------------------------------------------------------------\u001b[0m",
      "\u001b[1;31mAttributeError\u001b[0m                            Traceback (most recent call last)",
      "\u001b[1;32m~\\AppData\\Local\\Temp\\ipykernel_15500\\1833870225.py\u001b[0m in \u001b[0;36m<module>\u001b[1;34m\u001b[0m\n\u001b[1;32m----> 1\u001b[1;33m \u001b[0mdf\u001b[0m\u001b[1;33m.\u001b[0m\u001b[0mloc\u001b[0m\u001b[1;33m[\u001b[0m\u001b[1;33m[\u001b[0m \u001b[1;34m\"Gdp\"\u001b[0m\u001b[1;33m]\u001b[0m\u001b[1;33m.\u001b[0m\u001b[0mshift\u001b[0m\u001b[1;33m(\u001b[0m\u001b[1;33m)\u001b[0m \u001b[1;33m!=\u001b[0m\u001b[0mdf\u001b[0m\u001b[1;33m[\u001b[0m\u001b[1;34m'Gdp'\u001b[0m\u001b[1;33m]\u001b[0m\u001b[1;33m]\u001b[0m\u001b[1;33m\u001b[0m\u001b[1;33m\u001b[0m\u001b[0m\n\u001b[0m",
      "\u001b[1;31mAttributeError\u001b[0m: 'list' object has no attribute 'shift'"
     ]
    }
   ],
   "source": [
    "df.loc[[ \"Gdp\"].shift() !=df['Gdp']]"
   ]
  },
  {
   "cell_type": "code",
   "execution_count": null,
   "id": "47d7cef3",
   "metadata": {},
   "outputs": [],
   "source": []
  }
 ],
 "metadata": {
  "kernelspec": {
   "display_name": "Python 3 (ipykernel)",
   "language": "python",
   "name": "python3"
  },
  "language_info": {
   "codemirror_mode": {
    "name": "ipython",
    "version": 3
   },
   "file_extension": ".py",
   "mimetype": "text/x-python",
   "name": "python",
   "nbconvert_exporter": "python",
   "pygments_lexer": "ipython3",
   "version": "3.9.13"
  }
 },
 "nbformat": 4,
 "nbformat_minor": 5
}
