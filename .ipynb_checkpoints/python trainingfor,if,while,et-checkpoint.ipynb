{
 "cells": [
  {
   "cell_type": "code",
   "execution_count": null,
   "id": "c9979b9c",
   "metadata": {},
   "outputs": [],
   "source": [
    "# N  natural number\n",
    "n=int(input('enter range:'))#10\n",
    "while (n!=0):\n",
    "    print(n, end='')\n",
    "    print('\\n')\n",
    "    n=n-1\n",
    "    "
   ]
  },
  {
   "cell_type": "code",
   "execution_count": 98,
   "id": "c9429c96",
   "metadata": {},
   "outputs": [
    {
     "name": "stdout",
     "output_type": "stream",
     "text": [
      "p\n"
     ]
    }
   ],
   "source": [
    "#this is a comment\n",
    "isaiah=('cup')\n",
    "print(isaiah[2])"
   ]
  },
  {
   "cell_type": "code",
   "execution_count": 35,
   "id": "c9903c40",
   "metadata": {},
   "outputs": [
    {
     "name": "stdout",
     "output_type": "stream",
     "text": [
      "5\n"
     ]
    }
   ],
   "source": [
    "dike=('grace')\n",
    "print(len(dike))"
   ]
  },
  {
   "cell_type": "code",
   "execution_count": 34,
   "id": "55a20153",
   "metadata": {},
   "outputs": [
    {
     "name": "stdout",
     "output_type": "stream",
     "text": [
      "g\n",
      "r\n",
      "a\n",
      "c\n",
      "e\n"
     ]
    }
   ],
   "source": [
    "dike='grace'\n",
    "for isaiah in dike:\n",
    "    print(isaiah)"
   ]
  },
  {
   "cell_type": "code",
   "execution_count": 42,
   "id": "b1e692b5",
   "metadata": {},
   "outputs": [
    {
     "name": "stdout",
     "output_type": "stream",
     "text": [
      "1\n",
      "2\n",
      "3\n",
      "4\n",
      "5\n"
     ]
    }
   ],
   "source": [
    "dike='drodingidddieng'\n",
    "count=0\n",
    "for isaiah in dike:\n",
    "    if isaiah=='d':\n",
    "        count=count+1\n",
    "        print(count)"
   ]
  },
  {
   "cell_type": "code",
   "execution_count": 48,
   "id": "68cd9225",
   "metadata": {},
   "outputs": [
    {
     "name": "stdout",
     "output_type": "stream",
     "text": [
      "grace\n"
     ]
    }
   ],
   "source": [
    "dike='grace'\n",
    "print(dike[:])"
   ]
  },
  {
   "cell_type": "code",
   "execution_count": 99,
   "id": "dd433fe9",
   "metadata": {},
   "outputs": [
    {
     "name": "stdout",
     "output_type": "stream",
     "text": [
      "how grace\n"
     ]
    }
   ],
   "source": [
    "x='how'\n",
    "y=x+\" \"+\"grace\"\n",
    "print(y)"
   ]
  },
  {
   "cell_type": "code",
   "execution_count": 51,
   "id": "f0babf82",
   "metadata": {},
   "outputs": [
    {
     "data": {
      "text/plain": [
       "True"
      ]
     },
     "execution_count": 51,
     "metadata": {},
     "output_type": "execute_result"
    }
   ],
   "source": [
    "x='isaiah'\n",
    "'a'in x"
   ]
  },
  {
   "cell_type": "code",
   "execution_count": 56,
   "id": "da314282",
   "metadata": {},
   "outputs": [
    {
     "name": "stdout",
     "output_type": "stream",
     "text": [
      "miskata\n"
     ]
    }
   ],
   "source": [
    "s='isaiah'\n",
    "if 'a' in s:\n",
    "    print('miskata')"
   ]
  },
  {
   "cell_type": "code",
   "execution_count": 59,
   "id": "19858bbc",
   "metadata": {},
   "outputs": [
    {
     "name": "stdout",
     "output_type": "stream",
     "text": [
      "thank you\n"
     ]
    }
   ],
   "source": [
    "s=[9,12,70]\n",
    "if 9 in s:\n",
    "    print(\"thank you\")"
   ]
  },
  {
   "cell_type": "code",
   "execution_count": 100,
   "id": "6ece70c6",
   "metadata": {},
   "outputs": [
    {
     "name": "stdout",
     "output_type": "stream",
     "text": [
      "how are dike\n"
     ]
    }
   ],
   "source": [
    "x=\"how are you\"\n",
    "y=(x.replace(\"you\",\"dike\"))\n",
    "print(y)"
   ]
  },
  {
   "cell_type": "code",
   "execution_count": 68,
   "id": "5aa0d7d8",
   "metadata": {},
   "outputs": [
    {
     "data": {
      "text/plain": [
       "['__add__',\n",
       " '__class__',\n",
       " '__contains__',\n",
       " '__delattr__',\n",
       " '__dir__',\n",
       " '__doc__',\n",
       " '__eq__',\n",
       " '__format__',\n",
       " '__ge__',\n",
       " '__getattribute__',\n",
       " '__getitem__',\n",
       " '__getnewargs__',\n",
       " '__gt__',\n",
       " '__hash__',\n",
       " '__init__',\n",
       " '__init_subclass__',\n",
       " '__iter__',\n",
       " '__le__',\n",
       " '__len__',\n",
       " '__lt__',\n",
       " '__mod__',\n",
       " '__mul__',\n",
       " '__ne__',\n",
       " '__new__',\n",
       " '__reduce__',\n",
       " '__reduce_ex__',\n",
       " '__repr__',\n",
       " '__rmod__',\n",
       " '__rmul__',\n",
       " '__setattr__',\n",
       " '__sizeof__',\n",
       " '__str__',\n",
       " '__subclasshook__',\n",
       " 'capitalize',\n",
       " 'casefold',\n",
       " 'center',\n",
       " 'count',\n",
       " 'encode',\n",
       " 'endswith',\n",
       " 'expandtabs',\n",
       " 'find',\n",
       " 'format',\n",
       " 'format_map',\n",
       " 'index',\n",
       " 'isalnum',\n",
       " 'isalpha',\n",
       " 'isascii',\n",
       " 'isdecimal',\n",
       " 'isdigit',\n",
       " 'isidentifier',\n",
       " 'islower',\n",
       " 'isnumeric',\n",
       " 'isprintable',\n",
       " 'isspace',\n",
       " 'istitle',\n",
       " 'isupper',\n",
       " 'join',\n",
       " 'ljust',\n",
       " 'lower',\n",
       " 'lstrip',\n",
       " 'maketrans',\n",
       " 'partition',\n",
       " 'removeprefix',\n",
       " 'removesuffix',\n",
       " 'replace',\n",
       " 'rfind',\n",
       " 'rindex',\n",
       " 'rjust',\n",
       " 'rpartition',\n",
       " 'rsplit',\n",
       " 'rstrip',\n",
       " 'split',\n",
       " 'splitlines',\n",
       " 'startswith',\n",
       " 'strip',\n",
       " 'swapcase',\n",
       " 'title',\n",
       " 'translate',\n",
       " 'upper',\n",
       " 'zfill']"
      ]
     },
     "execution_count": 68,
     "metadata": {},
     "output_type": "execute_result"
    }
   ],
   "source": [
    "x=\"isaiah\"\n",
    "type(x)\n",
    "dir(x)\n",
    "\n"
   ]
  },
  {
   "cell_type": "code",
   "execution_count": 72,
   "id": "f810ef0f",
   "metadata": {},
   "outputs": [
    {
     "name": "stdout",
     "output_type": "stream",
     "text": [
      "ISAIAH\n"
     ]
    }
   ],
   "source": [
    "x='ISAIAH'\n",
    "y=(x.upper())\n",
    "print(y)"
   ]
  },
  {
   "cell_type": "code",
   "execution_count": 101,
   "id": "23aee13f",
   "metadata": {},
   "outputs": [
    {
     "name": "stdout",
     "output_type": "stream",
     "text": [
      "the grace\n"
     ]
    }
   ],
   "source": [
    "x=\"the isaiah\"\n",
    "y=(x. replace(\"isaiah\",\"grace\"))\n",
    "print(y)"
   ]
  },
  {
   "cell_type": "code",
   "execution_count": 80,
   "id": "d5ca8716",
   "metadata": {},
   "outputs": [
    {
     "data": {
      "text/plain": [
       "False"
      ]
     },
     "execution_count": 80,
     "metadata": {},
     "output_type": "execute_result"
    }
   ],
   "source": [
    "x=\"chixxy is ok\"\n",
    "x.startswith(\"chizzy\")"
   ]
  },
  {
   "cell_type": "code",
   "execution_count": 81,
   "id": "8ee60376",
   "metadata": {},
   "outputs": [
    {
     "data": {
      "text/plain": [
       "True"
      ]
     },
     "execution_count": 81,
     "metadata": {},
     "output_type": "execute_result"
    }
   ],
   "source": [
    "x=\"i love God\"\n",
    "x.startswith(\"i\")"
   ]
  },
  {
   "cell_type": "code",
   "execution_count": 84,
   "id": "beae4979",
   "metadata": {},
   "outputs": [
    {
     "name": "stdout",
     "output_type": "stream",
     "text": [
      "43\n"
     ]
    }
   ],
   "source": [
    "x=\"our father who at in heaven halloweth be thy name\"\n",
    "y=x.find('y')\n",
    "print(y)"
   ]
  },
  {
   "cell_type": "code",
   "execution_count": 2,
   "id": "f548a70a",
   "metadata": {},
   "outputs": [
    {
     "name": "stdout",
     "output_type": "stream",
     "text": [
      "2\n"
     ]
    }
   ],
   "source": [
    "y=\"tufikwa\"\n",
    "x=y.find('f')\n",
    "print(x)"
   ]
  },
  {
   "cell_type": "code",
   "execution_count": 4,
   "id": "0f5e653d",
   "metadata": {},
   "outputs": [
    {
     "data": {
      "text/plain": [
       "['__add__',\n",
       " '__class__',\n",
       " '__class_getitem__',\n",
       " '__contains__',\n",
       " '__delattr__',\n",
       " '__delitem__',\n",
       " '__dir__',\n",
       " '__doc__',\n",
       " '__eq__',\n",
       " '__format__',\n",
       " '__ge__',\n",
       " '__getattribute__',\n",
       " '__getitem__',\n",
       " '__gt__',\n",
       " '__hash__',\n",
       " '__iadd__',\n",
       " '__imul__',\n",
       " '__init__',\n",
       " '__init_subclass__',\n",
       " '__iter__',\n",
       " '__le__',\n",
       " '__len__',\n",
       " '__lt__',\n",
       " '__mul__',\n",
       " '__ne__',\n",
       " '__new__',\n",
       " '__reduce__',\n",
       " '__reduce_ex__',\n",
       " '__repr__',\n",
       " '__reversed__',\n",
       " '__rmul__',\n",
       " '__setattr__',\n",
       " '__setitem__',\n",
       " '__sizeof__',\n",
       " '__str__',\n",
       " '__subclasshook__',\n",
       " 'append',\n",
       " 'clear',\n",
       " 'copy',\n",
       " 'count',\n",
       " 'extend',\n",
       " 'index',\n",
       " 'insert',\n",
       " 'pop',\n",
       " 'remove',\n",
       " 'reverse',\n",
       " 'sort']"
      ]
     },
     "execution_count": 4,
     "metadata": {},
     "output_type": "execute_result"
    }
   ],
   "source": [
    "x=[8,9,13]\n",
    "type(x)\n",
    "dir(x)"
   ]
  },
  {
   "cell_type": "code",
   "execution_count": 3,
   "id": "e2d39ef7",
   "metadata": {},
   "outputs": [
    {
     "name": "stdout",
     "output_type": "stream",
     "text": [
      "[13, 3, 4, 5, 9, 0]\n"
     ]
    }
   ],
   "source": [
    "isaiah=[13,3,4,5,9,0]\n",
    "print(isaiah)\n",
    "isaiah[4]=2\n"
   ]
  },
  {
   "cell_type": "code",
   "execution_count": 21,
   "id": "4e0e9fb6",
   "metadata": {},
   "outputs": [
    {
     "name": "stdout",
     "output_type": "stream",
     "text": [
      "['grace', 'dike', 'ray', 'bola']\n",
      "4\n",
      "['denzel', 'chioma', 'victor']\n",
      "3\n",
      "range(0, 9)\n"
     ]
    }
   ],
   "source": [
    "isaiah=[\"grace\",'dike',\"ray\",\"bola\"]\n",
    "print(isaiah)\n",
    "print(len(isaiah))\n",
    "isaiah[:]=['denzel','chioma','victor']\n",
    "print(isaiah)\n",
    "print(len(isaiah))\n",
    "print(range(9))"
   ]
  },
  {
   "cell_type": "code",
   "execution_count": 61,
   "id": "48accd92",
   "metadata": {},
   "outputs": [
    {
     "name": "stdout",
     "output_type": "stream",
     "text": [
      "[19, 17, 8, 13, 14, 5]\n",
      "6\n",
      "[19, 17, 8, 13, 14, 5, 390]\n",
      "[5, 8, 13, 14, 17, 19, 390]\n"
     ]
    }
   ],
   "source": [
    "x=[19,17,8]\n",
    "y=[13,14,5]\n",
    "z=x+y\n",
    "print(z)\n",
    "print(len(z))\n",
    "z.append(390)\n",
    "print(z)\n",
    "390 in z\n",
    "z.sort()\n",
    "print(z)"
   ]
  },
  {
   "cell_type": "code",
   "execution_count": 43,
   "id": "b068159c",
   "metadata": {},
   "outputs": [
    {
     "name": "stdout",
     "output_type": "stream",
     "text": [
      "['isaiah', 'dike', 'menai', 'ray', 'bola', 'victor']\n",
      "6\n"
     ]
    },
    {
     "data": {
      "text/plain": [
       "['__add__',\n",
       " '__class__',\n",
       " '__class_getitem__',\n",
       " '__contains__',\n",
       " '__delattr__',\n",
       " '__delitem__',\n",
       " '__dir__',\n",
       " '__doc__',\n",
       " '__eq__',\n",
       " '__format__',\n",
       " '__ge__',\n",
       " '__getattribute__',\n",
       " '__getitem__',\n",
       " '__gt__',\n",
       " '__hash__',\n",
       " '__iadd__',\n",
       " '__imul__',\n",
       " '__init__',\n",
       " '__init_subclass__',\n",
       " '__iter__',\n",
       " '__le__',\n",
       " '__len__',\n",
       " '__lt__',\n",
       " '__mul__',\n",
       " '__ne__',\n",
       " '__new__',\n",
       " '__reduce__',\n",
       " '__reduce_ex__',\n",
       " '__repr__',\n",
       " '__reversed__',\n",
       " '__rmul__',\n",
       " '__setattr__',\n",
       " '__setitem__',\n",
       " '__sizeof__',\n",
       " '__str__',\n",
       " '__subclasshook__',\n",
       " 'append',\n",
       " 'clear',\n",
       " 'copy',\n",
       " 'count',\n",
       " 'extend',\n",
       " 'index',\n",
       " 'insert',\n",
       " 'pop',\n",
       " 'remove',\n",
       " 'reverse',\n",
       " 'sort']"
      ]
     },
     "execution_count": 43,
     "metadata": {},
     "output_type": "execute_result"
    }
   ],
   "source": [
    "x=[\"isaiah\",'dike','menai']\n",
    "y=['ray','bola','victor']\n",
    "z=x+y\n",
    "print(z)\n",
    "print(len(z))\n",
    "z[1:4]\n",
    "dir(z)"
   ]
  },
  {
   "cell_type": "code",
   "execution_count": 75,
   "id": "ac01e702",
   "metadata": {},
   "outputs": [
    {
     "name": "stdout",
     "output_type": "stream",
     "text": [
      "['you', 'dike loves', 'grace', 'yes']\n"
     ]
    },
    {
     "data": {
      "text/plain": [
       "True"
      ]
     },
     "execution_count": 75,
     "metadata": {},
     "output_type": "execute_result"
    }
   ],
   "source": [
    "x=list()\n",
    "type(x)\n",
    "x.append('yes')\n",
    "x.append('grace')\n",
    "x.append('dike loves')\n",
    "x.append('you')\n",
    "x.reverse()\n",
    "print(x)\n",
    "'grace' in(x)"
   ]
  },
  {
   "cell_type": "code",
   "execution_count": 80,
   "id": "ebf67c65",
   "metadata": {},
   "outputs": [
    {
     "name": "stdout",
     "output_type": "stream",
     "text": [
      "40\n",
      "70\n",
      "6\n",
      "14\n",
      "40\n",
      "79\n",
      "6\n",
      "13\n",
      "[6, 7, 8, 9, 40, 9]\n"
     ]
    },
    {
     "data": {
      "text/plain": [
       "6"
      ]
     },
     "execution_count": 80,
     "metadata": {},
     "output_type": "execute_result"
    }
   ],
   "source": [
    "x=[6,7,8,9,40]\n",
    "print(max(x))\n",
    "print(sum(x))\n",
    "print(min(x))\n",
    "print(sum(x)//len(x))\n",
    "x.append(9)\n",
    "print(max(x))\n",
    "print(sum(x))\n",
    "print(min(x))\n",
    "print(sum(x)//len(x))\n",
    "print(x)\n",
    "len(x)"
   ]
  },
  {
   "cell_type": "code",
   "execution_count": 76,
   "id": "692201e9",
   "metadata": {},
   "outputs": [
    {
     "name": "stdout",
     "output_type": "stream",
     "text": [
      "[8]\n"
     ]
    }
   ],
   "source": [
    "x=[9]\n",
    "x=[8]\n",
    "print(x)"
   ]
  },
  {
   "cell_type": "code",
   "execution_count": 81,
   "id": "a2e69f88",
   "metadata": {},
   "outputs": [
    {
     "name": "stdout",
     "output_type": "stream",
     "text": [
      "b\n",
      "a\n",
      "n\n",
      "a\n",
      "n\n",
      "a\n"
     ]
    }
   ],
   "source": [
    "for n in 'banana':\n",
    "    print(n)\n"
   ]
  },
  {
   "cell_type": "code",
   "execution_count": 82,
   "id": "d00699dc",
   "metadata": {},
   "outputs": [
    {
     "name": "stdout",
     "output_type": "stream",
     "text": [
      "0\n"
     ]
    }
   ],
   "source": [
    "x=\"isaiah\"\n",
    "i=x.find('i')\n",
    "print(i)"
   ]
  },
  {
   "cell_type": "code",
   "execution_count": 85,
   "id": "d747ced8",
   "metadata": {},
   "outputs": [
    {
     "name": "stdout",
     "output_type": "stream",
     "text": [
      "{'father': 5, 'mother': 6, 'sister': 47}\n",
      "47\n",
      "{'father': 5, 'mother': 51, 'sister': 47}\n"
     ]
    }
   ],
   "source": [
    "x=dict()\n",
    "x['father']=5\n",
    "x['mother']=6\n",
    "x['sister']=47\n",
    "print(x)\n",
    "print(x[\"sister\"])\n",
    "x['mother']=x['mother']+45\n",
    "print(x)"
   ]
  },
  {
   "cell_type": "code",
   "execution_count": 16,
   "id": "68b26db3",
   "metadata": {},
   "outputs": [
    {
     "name": "stdout",
     "output_type": "stream",
     "text": [
      "{'isaiah': 33, 'bola': 2, 'ray': 90}\n",
      "{'isaiah': 33, 'bola': 2, 'ray': 90}\n",
      "{'isaiah': 33, 'bola': 2, 'ray': 90}\n"
     ]
    },
    {
     "ename": "NameError",
     "evalue": "name 'replace' is not defined",
     "output_type": "error",
     "traceback": [
      "\u001b[1;31m---------------------------------------------------------------------------\u001b[0m",
      "\u001b[1;31mNameError\u001b[0m                                 Traceback (most recent call last)",
      "\u001b[1;32m~\\AppData\\Local\\Temp\\ipykernel_5752\\1856424875.py\u001b[0m in \u001b[0;36m<module>\u001b[1;34m\u001b[0m\n\u001b[0;32m      3\u001b[0m     \u001b[0mprint\u001b[0m\u001b[1;33m(\u001b[0m\u001b[0mx\u001b[0m\u001b[1;33m)\u001b[0m\u001b[1;33m\u001b[0m\u001b[1;33m\u001b[0m\u001b[0m\n\u001b[0;32m      4\u001b[0m \u001b[0mx\u001b[0m\u001b[1;33m.\u001b[0m\u001b[0mvalues\u001b[0m\u001b[1;33m(\u001b[0m\u001b[1;33m)\u001b[0m\u001b[1;33m\u001b[0m\u001b[1;33m\u001b[0m\u001b[0m\n\u001b[1;32m----> 5\u001b[1;33m \u001b[0mprint\u001b[0m\u001b[1;33m(\u001b[0m\u001b[0mreplace\u001b[0m\u001b[1;33m(\u001b[0m\u001b[1;34m\"isaiah\"\u001b[0m\u001b[1;33m)\u001b[0m\u001b[1;33m(\u001b[0m\u001b[0mboy\u001b[0m\u001b[1;33m)\u001b[0m\u001b[1;33m)\u001b[0m\u001b[1;33m\u001b[0m\u001b[1;33m\u001b[0m\u001b[0m\n\u001b[0m",
      "\u001b[1;31mNameError\u001b[0m: name 'replace' is not defined"
     ]
    }
   ],
   "source": [
    "x={'isaiah':33,'bola':2,'ray':90}\n",
    "for i in x:\n",
    "    print(x)\n",
    "x.values()\n",
    "(replace(\"isaiah\")(boy))"
   ]
  },
  {
   "cell_type": "code",
   "execution_count": 30,
   "id": "c619fdd2",
   "metadata": {},
   "outputs": [
    {
     "name": "stdout",
     "output_type": "stream",
     "text": [
      "{'hold': 1, 'great': 45, 'yeti': 23}\n",
      "3\n",
      "great\n",
      "yeti\n"
     ]
    }
   ],
   "source": [
    "x={'hold':1,\"great\": 45,\"yeti\":23}\n",
    "print(x)\n",
    "x.values()\n",
    "print(len(x))\n",
    "print(min(x))\n",
    "print(max(x))\n",
    "\n"
   ]
  },
  {
   "cell_type": "code",
   "execution_count": null,
   "id": "a14a3249",
   "metadata": {},
   "outputs": [],
   "source": []
  },
  {
   "cell_type": "code",
   "execution_count": null,
   "id": "b67f462e",
   "metadata": {},
   "outputs": [],
   "source": []
  }
 ],
 "metadata": {
  "kernelspec": {
   "display_name": "Python 3 (ipykernel)",
   "language": "python",
   "name": "python3"
  },
  "language_info": {
   "codemirror_mode": {
    "name": "ipython",
    "version": 3
   },
   "file_extension": ".py",
   "mimetype": "text/x-python",
   "name": "python",
   "nbconvert_exporter": "python",
   "pygments_lexer": "ipython3",
   "version": "3.9.13"
  }
 },
 "nbformat": 4,
 "nbformat_minor": 5
}
