{
 "cells": [
  {
   "cell_type": "code",
   "execution_count": 1,
   "id": "6c280e74",
   "metadata": {},
   "outputs": [
    {
     "data": {
      "text/plain": [
       "99"
      ]
     },
     "execution_count": 1,
     "metadata": {},
     "output_type": "execute_result"
    }
   ],
   "source": [
    "grace=67\n",
    "dike=32\n",
    "grace + dike\n"
   ]
  },
  {
   "cell_type": "code",
   "execution_count": 2,
   "id": "fece1693",
   "metadata": {},
   "outputs": [
    {
     "data": {
      "text/plain": [
       "'bola'"
      ]
     },
     "execution_count": 2,
     "metadata": {},
     "output_type": "execute_result"
    }
   ],
   "source": [
    "x='bola'\n",
    "x"
   ]
  },
  {
   "cell_type": "code",
   "execution_count": 12,
   "id": "bef9928b",
   "metadata": {},
   "outputs": [
    {
     "name": "stdout",
     "output_type": "stream",
     "text": [
      "what is your name\n",
      "isaiah\n",
      "good morning isaiah\n",
      "how old are you\n",
      "15\n",
      "you will be 20 five years from now\n"
     ]
    }
   ],
   "source": [
    "print('what is your name')\n",
    "name=input('')\n",
    "print('good morning',name)\n",
    "print('how old are you')\n",
    "y=int(input())\n",
    "x=(y)+5\n",
    "print( 'you will be', (x),'five years from now')"
   ]
  },
  {
   "cell_type": "code",
   "execution_count": 16,
   "id": "53eead13",
   "metadata": {},
   "outputs": [
    {
     "name": "stdout",
     "output_type": "stream",
     "text": [
      "what is your name\n",
      "isaiah\n",
      "you will be rich\n"
     ]
    }
   ],
   "source": [
    "print('what is your name')\n",
    "name=input()\n",
    "if name== 'i'or 'd'or'f':\n",
    "    print('you will be rich')\n",
    "else:\n",
    "    print('you will be poor')"
   ]
  },
  {
   "cell_type": "code",
   "execution_count": 24,
   "id": "7e233b94",
   "metadata": {},
   "outputs": [
    {
     "data": {
      "text/plain": [
       "['__doc__',\n",
       " '__loader__',\n",
       " '__name__',\n",
       " '__package__',\n",
       " '__spec__',\n",
       " 'acos',\n",
       " 'acosh',\n",
       " 'asin',\n",
       " 'asinh',\n",
       " 'atan',\n",
       " 'atan2',\n",
       " 'atanh',\n",
       " 'ceil',\n",
       " 'comb',\n",
       " 'copysign',\n",
       " 'cos',\n",
       " 'cosh',\n",
       " 'degrees',\n",
       " 'dist',\n",
       " 'e',\n",
       " 'erf',\n",
       " 'erfc',\n",
       " 'exp',\n",
       " 'expm1',\n",
       " 'fabs',\n",
       " 'factorial',\n",
       " 'floor',\n",
       " 'fmod',\n",
       " 'frexp',\n",
       " 'fsum',\n",
       " 'gamma',\n",
       " 'gcd',\n",
       " 'hypot',\n",
       " 'inf',\n",
       " 'isclose',\n",
       " 'isfinite',\n",
       " 'isinf',\n",
       " 'isnan',\n",
       " 'isqrt',\n",
       " 'lcm',\n",
       " 'ldexp',\n",
       " 'lgamma',\n",
       " 'log',\n",
       " 'log10',\n",
       " 'log1p',\n",
       " 'log2',\n",
       " 'modf',\n",
       " 'nan',\n",
       " 'nextafter',\n",
       " 'perm',\n",
       " 'pi',\n",
       " 'pow',\n",
       " 'prod',\n",
       " 'radians',\n",
       " 'remainder',\n",
       " 'sin',\n",
       " 'sinh',\n",
       " 'sqrt',\n",
       " 'tan',\n",
       " 'tanh',\n",
       " 'tau',\n",
       " 'trunc',\n",
       " 'ulp']"
      ]
     },
     "execution_count": 24,
     "metadata": {},
     "output_type": "execute_result"
    }
   ],
   "source": [
    "import math\n",
    "dir(math)"
   ]
  },
  {
   "cell_type": "code",
   "execution_count": 26,
   "id": "fb9f755e",
   "metadata": {},
   "outputs": [
    {
     "ename": "SyntaxError",
     "evalue": "invalid syntax (4193434013.py, line 1)",
     "output_type": "error",
     "traceback": [
      "\u001b[1;36m  File \u001b[1;32m\"C:\\Users\\Admin\\AppData\\Local\\Temp\\ipykernel_11016\\4193434013.py\"\u001b[1;36m, line \u001b[1;32m1\u001b[0m\n\u001b[1;33m    def (hello):\u001b[0m\n\u001b[1;37m        ^\u001b[0m\n\u001b[1;31mSyntaxError\u001b[0m\u001b[1;31m:\u001b[0m invalid syntax\n"
     ]
    }
   ],
   "source": [
    "def (hello):\n",
    "    print(hello)"
   ]
  },
  {
   "cell_type": "code",
   "execution_count": 28,
   "id": "86717ae9",
   "metadata": {},
   "outputs": [
    {
     "name": "stdout",
     "output_type": "stream",
     "text": [
      "daddaddad\n"
     ]
    }
   ],
   "source": [
    "x='dad'\n",
    "print(x*3)"
   ]
  },
  {
   "cell_type": "code",
   "execution_count": 10,
   "id": "0631baec",
   "metadata": {},
   "outputs": [
    {
     "ename": "SyntaxError",
     "evalue": "invalid syntax (2215965507.py, line 10)",
     "output_type": "error",
     "traceback": [
      "\u001b[1;36m  File \u001b[1;32m\"C:\\Users\\Admin\\AppData\\Local\\Temp\\ipykernel_12380\\2215965507.py\"\u001b[1;36m, line \u001b[1;32m10\u001b[0m\n\u001b[1;33m    if age < 18:\u001b[0m\n\u001b[1;37m               ^\u001b[0m\n\u001b[1;31mSyntaxError\u001b[0m\u001b[1;31m:\u001b[0m invalid syntax\n"
     ]
    }
   ],
   "source": [
    "print('what is your name')\n",
    "name=input()\n",
    "if name =='i' or 'x' or 'v':\n",
    "    print(name,'you are 60% rich')\n",
    "    print(name,'you are 90% happy')\n",
    "else:\n",
    "    print(name, 'you are wierd')\n",
    "print('your age')\n",
    "age=input()\n",
    "if age < 18:\n",
    "          print(name,'go and cry to your mother baby')\n",
    "else:\n",
    "    print(name,'you have been accepted')\n",
    "        "
   ]
  },
  {
   "cell_type": "code",
   "execution_count": null,
   "id": "823f6f9d",
   "metadata": {},
   "outputs": [],
   "source": []
  }
 ],
 "metadata": {
  "kernelspec": {
   "display_name": "Python 3 (ipykernel)",
   "language": "python",
   "name": "python3"
  },
  "language_info": {
   "codemirror_mode": {
    "name": "ipython",
    "version": 3
   },
   "file_extension": ".py",
   "mimetype": "text/x-python",
   "name": "python",
   "nbconvert_exporter": "python",
   "pygments_lexer": "ipython3",
   "version": "3.9.13"
  }
 },
 "nbformat": 4,
 "nbformat_minor": 5
}
