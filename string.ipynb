{
 "cells": [
  {
   "cell_type": "code",
   "execution_count": 1,
   "id": "c6f768f4",
   "metadata": {},
   "outputs": [],
   "source": [
    "x=100"
   ]
  },
  {
   "cell_type": "code",
   "execution_count": 2,
   "id": "4357b236",
   "metadata": {},
   "outputs": [
    {
     "name": "stdout",
     "output_type": "stream",
     "text": [
      "100\n"
     ]
    }
   ],
   "source": [
    "print(x)"
   ]
  },
  {
   "cell_type": "code",
   "execution_count": 3,
   "id": "4d369758",
   "metadata": {},
   "outputs": [
    {
     "data": {
      "text/plain": [
       "int"
      ]
     },
     "execution_count": 3,
     "metadata": {},
     "output_type": "execute_result"
    }
   ],
   "source": [
    "type(x)"
   ]
  },
  {
   "cell_type": "code",
   "execution_count": 4,
   "id": "ad9bd528",
   "metadata": {},
   "outputs": [],
   "source": [
    "x=11.54"
   ]
  },
  {
   "cell_type": "code",
   "execution_count": 5,
   "id": "5a50710e",
   "metadata": {},
   "outputs": [
    {
     "name": "stdout",
     "output_type": "stream",
     "text": [
      "11.54\n"
     ]
    }
   ],
   "source": [
    "print(x)"
   ]
  },
  {
   "cell_type": "code",
   "execution_count": 6,
   "id": "34c7c979",
   "metadata": {},
   "outputs": [
    {
     "data": {
      "text/plain": [
       "float"
      ]
     },
     "execution_count": 6,
     "metadata": {},
     "output_type": "execute_result"
    }
   ],
   "source": [
    "type(x)"
   ]
  },
  {
   "cell_type": "code",
   "execution_count": 12,
   "id": "447a02a6",
   "metadata": {},
   "outputs": [],
   "source": [
    "y=\"isaiah\""
   ]
  },
  {
   "cell_type": "code",
   "execution_count": 13,
   "id": "a3c7605b",
   "metadata": {},
   "outputs": [
    {
     "name": "stdout",
     "output_type": "stream",
     "text": [
      "isaiah\n"
     ]
    }
   ],
   "source": [
    "print(y)"
   ]
  },
  {
   "cell_type": "code",
   "execution_count": 14,
   "id": "333462c1",
   "metadata": {},
   "outputs": [
    {
     "data": {
      "text/plain": [
       "str"
      ]
     },
     "execution_count": 14,
     "metadata": {},
     "output_type": "execute_result"
    }
   ],
   "source": [
    "type(y)"
   ]
  },
  {
   "cell_type": "code",
   "execution_count": 15,
   "id": "770bf010",
   "metadata": {},
   "outputs": [],
   "source": [
    "x=100,45,67,89"
   ]
  },
  {
   "cell_type": "code",
   "execution_count": 16,
   "id": "ea5387a6",
   "metadata": {},
   "outputs": [
    {
     "name": "stdout",
     "output_type": "stream",
     "text": [
      "(100, 45, 67, 89)\n"
     ]
    }
   ],
   "source": [
    "print(x)"
   ]
  },
  {
   "cell_type": "code",
   "execution_count": 17,
   "id": "fab74bc2",
   "metadata": {},
   "outputs": [
    {
     "data": {
      "text/plain": [
       "tuple"
      ]
     },
     "execution_count": 17,
     "metadata": {},
     "output_type": "execute_result"
    }
   ],
   "source": [
    "type(x)"
   ]
  },
  {
   "cell_type": "code",
   "execution_count": 18,
   "id": "64cdaed4",
   "metadata": {},
   "outputs": [],
   "source": [
    "y=\"isaiah,fuck you,grace\""
   ]
  },
  {
   "cell_type": "code",
   "execution_count": 19,
   "id": "a4d3fb00",
   "metadata": {},
   "outputs": [
    {
     "name": "stdout",
     "output_type": "stream",
     "text": [
      "isaiah,fuck you,grace\n"
     ]
    }
   ],
   "source": [
    "print(y)"
   ]
  },
  {
   "cell_type": "code",
   "execution_count": 20,
   "id": "fdc93c98",
   "metadata": {},
   "outputs": [
    {
     "data": {
      "text/plain": [
       "str"
      ]
     },
     "execution_count": 20,
     "metadata": {},
     "output_type": "execute_result"
    }
   ],
   "source": [
    "type(y)"
   ]
  },
  {
   "cell_type": "code",
   "execution_count": 22,
   "id": "47e7f449",
   "metadata": {},
   "outputs": [
    {
     "name": "stdout",
     "output_type": "stream",
     "text": [
      "s\n"
     ]
    }
   ],
   "source": [
    "print(y[1])"
   ]
  },
  {
   "cell_type": "code",
   "execution_count": 24,
   "id": "17b0319b",
   "metadata": {},
   "outputs": [
    {
     "name": "stdout",
     "output_type": "stream",
     "text": [
      "u\n"
     ]
    }
   ],
   "source": [
    "print(y[8])"
   ]
  },
  {
   "cell_type": "code",
   "execution_count": 25,
   "id": "cdb789dc",
   "metadata": {},
   "outputs": [
    {
     "data": {
      "text/plain": [
       "str"
      ]
     },
     "execution_count": 25,
     "metadata": {},
     "output_type": "execute_result"
    }
   ],
   "source": [
    "type(y)"
   ]
  },
  {
   "cell_type": "code",
   "execution_count": 26,
   "id": "0d245e4c",
   "metadata": {},
   "outputs": [],
   "source": [
    "(x,n,m)=12,3,4"
   ]
  },
  {
   "cell_type": "code",
   "execution_count": 28,
   "id": "dad27c7d",
   "metadata": {},
   "outputs": [],
   "source": [
    "x=n=m=12,3,4"
   ]
  },
  {
   "cell_type": "code",
   "execution_count": 29,
   "id": "1663bd56",
   "metadata": {},
   "outputs": [
    {
     "name": "stdout",
     "output_type": "stream",
     "text": [
      "(12, 3, 4) (12, 3, 4) (12, 3, 4)\n"
     ]
    }
   ],
   "source": [
    "print(x,n,m)"
   ]
  },
  {
   "cell_type": "code",
   "execution_count": 31,
   "id": "cf230950",
   "metadata": {},
   "outputs": [],
   "source": [
    "a=(x,n,m)=4,5,8"
   ]
  },
  {
   "cell_type": "code",
   "execution_count": 32,
   "id": "525828aa",
   "metadata": {},
   "outputs": [],
   "source": [
    "b=(c,v,d)=2,6,7"
   ]
  },
  {
   "cell_type": "code",
   "execution_count": 35,
   "id": "9b37f8f8",
   "metadata": {},
   "outputs": [],
   "source": [
    "x=10\n",
    "y=29\n",
    "z=4"
   ]
  },
  {
   "cell_type": "code",
   "execution_count": 37,
   "id": "86ced142",
   "metadata": {},
   "outputs": [
    {
     "name": "stdout",
     "output_type": "stream",
     "text": [
      "290\n"
     ]
    }
   ],
   "source": [
    "result1=10*29\n",
    "print(result1)"
   ]
  },
  {
   "cell_type": "code",
   "execution_count": 38,
   "id": "15bbaeec",
   "metadata": {},
   "outputs": [
    {
     "name": "stdout",
     "output_type": "stream",
     "text": [
      "72.5\n"
     ]
    }
   ],
   "source": [
    "result2=result1/z\n",
    "print(result2)"
   ]
  },
  {
   "cell_type": "code",
   "execution_count": 39,
   "id": "06f594b6",
   "metadata": {},
   "outputs": [
    {
     "data": {
      "text/plain": [
       "2"
      ]
     },
     "execution_count": 39,
     "metadata": {},
     "output_type": "execute_result"
    }
   ],
   "source": [
    "result1%z"
   ]
  },
  {
   "cell_type": "code",
   "execution_count": 44,
   "id": "88161816",
   "metadata": {},
   "outputs": [
    {
     "name": "stdout",
     "output_type": "stream",
     "text": [
      "ai\n"
     ]
    }
   ],
   "source": [
    "x=\"isaiah\"\n",
    "print(x[2:4])\n"
   ]
  },
  {
   "cell_type": "code",
   "execution_count": 45,
   "id": "9ebeda3f",
   "metadata": {},
   "outputs": [
    {
     "data": {
      "text/plain": [
       "6"
      ]
     },
     "execution_count": 45,
     "metadata": {},
     "output_type": "execute_result"
    }
   ],
   "source": [
    "len(x)"
   ]
  },
  {
   "cell_type": "code",
   "execution_count": 51,
   "id": "109f3921",
   "metadata": {},
   "outputs": [],
   "source": [
    "x=45\n",
    "y=32\n",
    "v=63"
   ]
  },
  {
   "cell_type": "code",
   "execution_count": 54,
   "id": "a5569689",
   "metadata": {},
   "outputs": [],
   "source": [
    "z=y*v/x\n"
   ]
  },
  {
   "cell_type": "code",
   "execution_count": 53,
   "id": "bdb720c7",
   "metadata": {},
   "outputs": [
    {
     "name": "stdout",
     "output_type": "stream",
     "text": [
      "4\n"
     ]
    }
   ],
   "source": [
    "print (z)"
   ]
  },
  {
   "cell_type": "code",
   "execution_count": 55,
   "id": "20de373a",
   "metadata": {},
   "outputs": [
    {
     "data": {
      "text/plain": [
       "float"
      ]
     },
     "execution_count": 55,
     "metadata": {},
     "output_type": "execute_result"
    }
   ],
   "source": [
    "type(z)"
   ]
  },
  {
   "cell_type": "code",
   "execution_count": 56,
   "id": "7425cb32",
   "metadata": {},
   "outputs": [],
   "source": [
    "z=43\n",
    "y=89\n",
    "m=y*z"
   ]
  },
  {
   "cell_type": "code",
   "execution_count": 58,
   "id": "62ef927a",
   "metadata": {},
   "outputs": [
    {
     "ename": "SyntaxError",
     "evalue": "invalid syntax (1050519379.py, line 1)",
     "output_type": "error",
     "traceback": [
      "\u001b[1;36m  File \u001b[1;32m\"C:\\Users\\Admin\\AppData\\Local\\Temp\\ipykernel_1212\\1050519379.py\"\u001b[1;36m, line \u001b[1;32m1\u001b[0m\n\u001b[1;33m    print(m)if\u001b[0m\n\u001b[1;37m               ^\u001b[0m\n\u001b[1;31mSyntaxError\u001b[0m\u001b[1;31m:\u001b[0m invalid syntax\n"
     ]
    }
   ],
   "source": [
    "print(m)if "
   ]
  },
  {
   "cell_type": "code",
   "execution_count": null,
   "id": "cae61712",
   "metadata": {},
   "outputs": [],
   "source": []
  }
 ],
 "metadata": {
  "kernelspec": {
   "display_name": "Python 3 (ipykernel)",
   "language": "python",
   "name": "python3"
  },
  "language_info": {
   "codemirror_mode": {
    "name": "ipython",
    "version": 3
   },
   "file_extension": ".py",
   "mimetype": "text/x-python",
   "name": "python",
   "nbconvert_exporter": "python",
   "pygments_lexer": "ipython3",
   "version": "3.9.13"
  }
 },
 "nbformat": 4,
 "nbformat_minor": 5
}
