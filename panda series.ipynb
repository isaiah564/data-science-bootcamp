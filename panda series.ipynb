{
 "cells": [
  {
   "cell_type": "code",
   "execution_count": 3,
   "id": "faa9ad96",
   "metadata": {},
   "outputs": [],
   "source": [
    "import pandas as pd\n",
    "import numpy as np"
   ]
  },
  {
   "cell_type": "code",
   "execution_count": 4,
   "id": "cdff77a9",
   "metadata": {},
   "outputs": [
    {
     "name": "stdout",
     "output_type": "stream",
     "text": [
      "0    34.6\n",
      "1    53.1\n",
      "2    53.5\n",
      "3    53.9\n",
      "4    47.0\n",
      "5    78.9\n",
      "6    34.7\n",
      "dtype: float64\n"
     ]
    }
   ],
   "source": [
    "## we are storing the population of the world in a group of 7 of the most prosperous contries using gr7p##\n",
    "## in millions##\n",
    "gr7p = pd.Series ([34.6,53.1,53.5,53.9,47.0,78.9,34.7])\n",
    "print(gr7p)"
   ]
  },
  {
   "cell_type": "code",
   "execution_count": 73,
   "id": "1b8ef555",
   "metadata": {},
   "outputs": [
    {
     "name": "stdout",
     "output_type": "stream",
     "text": [
      "france     150.0\n",
      "canada      53.1\n",
      "america     53.5\n",
      "japan       53.9\n",
      "russia      10.0\n",
      "england     78.9\n",
      "croatia     34.7\n",
      "Name: group of 7 population, dtype: float64\n"
     ]
    }
   ],
   "source": [
    "gr7p.name=\"group of 7 population\"\n",
    "print(gr7p)"
   ]
  },
  {
   "cell_type": "code",
   "execution_count": 11,
   "id": "9b5adf73",
   "metadata": {},
   "outputs": [
    {
     "data": {
      "text/plain": [
       "dtype('float64')"
      ]
     },
     "execution_count": 11,
     "metadata": {},
     "output_type": "execute_result"
    }
   ],
   "source": [
    "gr7p.dtype"
   ]
  },
  {
   "cell_type": "code",
   "execution_count": 12,
   "id": "ee0ae014",
   "metadata": {},
   "outputs": [
    {
     "data": {
      "text/plain": [
       "array([34.6, 53.1, 53.5, 53.9, 47. , 78.9, 34.7])"
      ]
     },
     "execution_count": 12,
     "metadata": {},
     "output_type": "execute_result"
    }
   ],
   "source": [
    "gr7p.values"
   ]
  },
  {
   "cell_type": "code",
   "execution_count": 13,
   "id": "34b8aad0",
   "metadata": {},
   "outputs": [
    {
     "data": {
      "text/plain": [
       "numpy.ndarray"
      ]
     },
     "execution_count": 13,
     "metadata": {},
     "output_type": "execute_result"
    }
   ],
   "source": [
    "type(gr7p.values)"
   ]
  },
  {
   "cell_type": "code",
   "execution_count": 14,
   "id": "df343112",
   "metadata": {},
   "outputs": [
    {
     "data": {
      "text/plain": [
       "53.1"
      ]
     },
     "execution_count": 14,
     "metadata": {},
     "output_type": "execute_result"
    }
   ],
   "source": [
    "gr7p[1]"
   ]
  },
  {
   "cell_type": "code",
   "execution_count": 15,
   "id": "3374649c",
   "metadata": {},
   "outputs": [
    {
     "data": {
      "text/plain": [
       "3    53.9\n",
       "4    47.0\n",
       "5    78.9\n",
       "6    34.7\n",
       "Name: group of 7 population, dtype: float64"
      ]
     },
     "execution_count": 15,
     "metadata": {},
     "output_type": "execute_result"
    }
   ],
   "source": [
    "gr7p[3:]"
   ]
  },
  {
   "cell_type": "code",
   "execution_count": 16,
   "id": "584a5fae",
   "metadata": {},
   "outputs": [
    {
     "data": {
      "text/plain": [
       "['T',\n",
       " '_AXIS_LEN',\n",
       " '_AXIS_ORDERS',\n",
       " '_AXIS_TO_AXIS_NUMBER',\n",
       " '_HANDLED_TYPES',\n",
       " '__abs__',\n",
       " '__add__',\n",
       " '__and__',\n",
       " '__annotations__',\n",
       " '__array__',\n",
       " '__array_priority__',\n",
       " '__array_ufunc__',\n",
       " '__array_wrap__',\n",
       " '__bool__',\n",
       " '__class__',\n",
       " '__contains__',\n",
       " '__copy__',\n",
       " '__deepcopy__',\n",
       " '__delattr__',\n",
       " '__delitem__',\n",
       " '__dict__',\n",
       " '__dir__',\n",
       " '__divmod__',\n",
       " '__doc__',\n",
       " '__eq__',\n",
       " '__finalize__',\n",
       " '__float__',\n",
       " '__floordiv__',\n",
       " '__format__',\n",
       " '__ge__',\n",
       " '__getattr__',\n",
       " '__getattribute__',\n",
       " '__getitem__',\n",
       " '__getstate__',\n",
       " '__gt__',\n",
       " '__hash__',\n",
       " '__iadd__',\n",
       " '__iand__',\n",
       " '__ifloordiv__',\n",
       " '__imod__',\n",
       " '__imul__',\n",
       " '__init__',\n",
       " '__init_subclass__',\n",
       " '__int__',\n",
       " '__invert__',\n",
       " '__ior__',\n",
       " '__ipow__',\n",
       " '__isub__',\n",
       " '__iter__',\n",
       " '__itruediv__',\n",
       " '__ixor__',\n",
       " '__le__',\n",
       " '__len__',\n",
       " '__long__',\n",
       " '__lt__',\n",
       " '__matmul__',\n",
       " '__mod__',\n",
       " '__module__',\n",
       " '__mul__',\n",
       " '__ne__',\n",
       " '__neg__',\n",
       " '__new__',\n",
       " '__nonzero__',\n",
       " '__or__',\n",
       " '__pos__',\n",
       " '__pow__',\n",
       " '__radd__',\n",
       " '__rand__',\n",
       " '__rdivmod__',\n",
       " '__reduce__',\n",
       " '__reduce_ex__',\n",
       " '__repr__',\n",
       " '__rfloordiv__',\n",
       " '__rmatmul__',\n",
       " '__rmod__',\n",
       " '__rmul__',\n",
       " '__ror__',\n",
       " '__round__',\n",
       " '__rpow__',\n",
       " '__rsub__',\n",
       " '__rtruediv__',\n",
       " '__rxor__',\n",
       " '__setattr__',\n",
       " '__setitem__',\n",
       " '__setstate__',\n",
       " '__sizeof__',\n",
       " '__str__',\n",
       " '__sub__',\n",
       " '__subclasshook__',\n",
       " '__truediv__',\n",
       " '__weakref__',\n",
       " '__xor__',\n",
       " '_accessors',\n",
       " '_accum_func',\n",
       " '_add_numeric_operations',\n",
       " '_agg_by_level',\n",
       " '_agg_examples_doc',\n",
       " '_agg_see_also_doc',\n",
       " '_align_frame',\n",
       " '_align_series',\n",
       " '_append',\n",
       " '_arith_method',\n",
       " '_as_manager',\n",
       " '_attrs',\n",
       " '_binop',\n",
       " '_can_hold_na',\n",
       " '_check_inplace_and_allows_duplicate_labels',\n",
       " '_check_inplace_setting',\n",
       " '_check_is_chained_assignment_possible',\n",
       " '_check_label_or_level_ambiguity',\n",
       " '_check_setitem_copy',\n",
       " '_clear_item_cache',\n",
       " '_clip_with_one_bound',\n",
       " '_clip_with_scalar',\n",
       " '_cmp_method',\n",
       " '_consolidate',\n",
       " '_consolidate_inplace',\n",
       " '_construct_axes_dict',\n",
       " '_construct_axes_from_arguments',\n",
       " '_construct_result',\n",
       " '_constructor',\n",
       " '_constructor_expanddim',\n",
       " '_convert',\n",
       " '_convert_dtypes',\n",
       " '_data',\n",
       " '_dir_additions',\n",
       " '_dir_deletions',\n",
       " '_drop_axis',\n",
       " '_drop_labels_or_levels',\n",
       " '_duplicated',\n",
       " '_find_valid_index',\n",
       " '_flags',\n",
       " '_from_mgr',\n",
       " '_get_axis',\n",
       " '_get_axis_name',\n",
       " '_get_axis_number',\n",
       " '_get_axis_resolvers',\n",
       " '_get_block_manager_axis',\n",
       " '_get_bool_data',\n",
       " '_get_cacher',\n",
       " '_get_cleaned_column_resolvers',\n",
       " '_get_index_resolvers',\n",
       " '_get_label_or_level_values',\n",
       " '_get_numeric_data',\n",
       " '_get_value',\n",
       " '_get_values',\n",
       " '_get_values_tuple',\n",
       " '_get_with',\n",
       " '_gotitem',\n",
       " '_hidden_attrs',\n",
       " '_indexed_same',\n",
       " '_info_axis',\n",
       " '_info_axis_name',\n",
       " '_info_axis_number',\n",
       " '_init_dict',\n",
       " '_init_mgr',\n",
       " '_inplace_method',\n",
       " '_internal_names',\n",
       " '_internal_names_set',\n",
       " '_is_cached',\n",
       " '_is_copy',\n",
       " '_is_label_or_level_reference',\n",
       " '_is_label_reference',\n",
       " '_is_level_reference',\n",
       " '_is_mixed_type',\n",
       " '_is_view',\n",
       " '_item_cache',\n",
       " '_ixs',\n",
       " '_logical_func',\n",
       " '_logical_method',\n",
       " '_map_values',\n",
       " '_maybe_update_cacher',\n",
       " '_memory_usage',\n",
       " '_metadata',\n",
       " '_mgr',\n",
       " '_min_count_stat_function',\n",
       " '_name',\n",
       " '_needs_reindex_multi',\n",
       " '_protect_consolidate',\n",
       " '_reduce',\n",
       " '_reindex_axes',\n",
       " '_reindex_indexer',\n",
       " '_reindex_multi',\n",
       " '_reindex_with_indexers',\n",
       " '_rename',\n",
       " '_replace_single',\n",
       " '_repr_data_resource_',\n",
       " '_repr_latex_',\n",
       " '_reset_cache',\n",
       " '_reset_cacher',\n",
       " '_set_as_cached',\n",
       " '_set_axis',\n",
       " '_set_axis_name',\n",
       " '_set_axis_nocheck',\n",
       " '_set_is_copy',\n",
       " '_set_labels',\n",
       " '_set_name',\n",
       " '_set_value',\n",
       " '_set_values',\n",
       " '_set_with',\n",
       " '_set_with_engine',\n",
       " '_slice',\n",
       " '_stat_axis',\n",
       " '_stat_axis_name',\n",
       " '_stat_axis_number',\n",
       " '_stat_function',\n",
       " '_stat_function_ddof',\n",
       " '_take_with_is_copy',\n",
       " '_typ',\n",
       " '_update_inplace',\n",
       " '_validate_dtype',\n",
       " '_values',\n",
       " '_where',\n",
       " 'abs',\n",
       " 'add',\n",
       " 'add_prefix',\n",
       " 'add_suffix',\n",
       " 'agg',\n",
       " 'aggregate',\n",
       " 'align',\n",
       " 'all',\n",
       " 'any',\n",
       " 'append',\n",
       " 'apply',\n",
       " 'argmax',\n",
       " 'argmin',\n",
       " 'argsort',\n",
       " 'array',\n",
       " 'asfreq',\n",
       " 'asof',\n",
       " 'astype',\n",
       " 'at',\n",
       " 'at_time',\n",
       " 'attrs',\n",
       " 'autocorr',\n",
       " 'axes',\n",
       " 'backfill',\n",
       " 'between',\n",
       " 'between_time',\n",
       " 'bfill',\n",
       " 'bool',\n",
       " 'clip',\n",
       " 'combine',\n",
       " 'combine_first',\n",
       " 'compare',\n",
       " 'convert_dtypes',\n",
       " 'copy',\n",
       " 'corr',\n",
       " 'count',\n",
       " 'cov',\n",
       " 'cummax',\n",
       " 'cummin',\n",
       " 'cumprod',\n",
       " 'cumsum',\n",
       " 'describe',\n",
       " 'diff',\n",
       " 'div',\n",
       " 'divide',\n",
       " 'divmod',\n",
       " 'dot',\n",
       " 'drop',\n",
       " 'drop_duplicates',\n",
       " 'droplevel',\n",
       " 'dropna',\n",
       " 'dtype',\n",
       " 'dtypes',\n",
       " 'duplicated',\n",
       " 'empty',\n",
       " 'eq',\n",
       " 'equals',\n",
       " 'ewm',\n",
       " 'expanding',\n",
       " 'explode',\n",
       " 'factorize',\n",
       " 'ffill',\n",
       " 'fillna',\n",
       " 'filter',\n",
       " 'first',\n",
       " 'first_valid_index',\n",
       " 'flags',\n",
       " 'floordiv',\n",
       " 'ge',\n",
       " 'get',\n",
       " 'groupby',\n",
       " 'gt',\n",
       " 'hasnans',\n",
       " 'head',\n",
       " 'hist',\n",
       " 'iat',\n",
       " 'idxmax',\n",
       " 'idxmin',\n",
       " 'iloc',\n",
       " 'index',\n",
       " 'infer_objects',\n",
       " 'info',\n",
       " 'interpolate',\n",
       " 'is_monotonic',\n",
       " 'is_monotonic_decreasing',\n",
       " 'is_monotonic_increasing',\n",
       " 'is_unique',\n",
       " 'isin',\n",
       " 'isna',\n",
       " 'isnull',\n",
       " 'item',\n",
       " 'items',\n",
       " 'iteritems',\n",
       " 'keys',\n",
       " 'kurt',\n",
       " 'kurtosis',\n",
       " 'last',\n",
       " 'last_valid_index',\n",
       " 'le',\n",
       " 'loc',\n",
       " 'lt',\n",
       " 'mad',\n",
       " 'map',\n",
       " 'mask',\n",
       " 'max',\n",
       " 'mean',\n",
       " 'median',\n",
       " 'memory_usage',\n",
       " 'min',\n",
       " 'mod',\n",
       " 'mode',\n",
       " 'mul',\n",
       " 'multiply',\n",
       " 'name',\n",
       " 'nbytes',\n",
       " 'ndim',\n",
       " 'ne',\n",
       " 'nlargest',\n",
       " 'notna',\n",
       " 'notnull',\n",
       " 'nsmallest',\n",
       " 'nunique',\n",
       " 'pad',\n",
       " 'pct_change',\n",
       " 'pipe',\n",
       " 'plot',\n",
       " 'pop',\n",
       " 'pow',\n",
       " 'prod',\n",
       " 'product',\n",
       " 'quantile',\n",
       " 'radd',\n",
       " 'rank',\n",
       " 'ravel',\n",
       " 'rdiv',\n",
       " 'rdivmod',\n",
       " 'reindex',\n",
       " 'reindex_like',\n",
       " 'rename',\n",
       " 'rename_axis',\n",
       " 'reorder_levels',\n",
       " 'repeat',\n",
       " 'replace',\n",
       " 'resample',\n",
       " 'reset_index',\n",
       " 'rfloordiv',\n",
       " 'rmod',\n",
       " 'rmul',\n",
       " 'rolling',\n",
       " 'round',\n",
       " 'rpow',\n",
       " 'rsub',\n",
       " 'rtruediv',\n",
       " 'sample',\n",
       " 'searchsorted',\n",
       " 'sem',\n",
       " 'set_axis',\n",
       " 'set_flags',\n",
       " 'shape',\n",
       " 'shift',\n",
       " 'size',\n",
       " 'skew',\n",
       " 'slice_shift',\n",
       " 'sort_index',\n",
       " 'sort_values',\n",
       " 'squeeze',\n",
       " 'std',\n",
       " 'sub',\n",
       " 'subtract',\n",
       " 'sum',\n",
       " 'swapaxes',\n",
       " 'swaplevel',\n",
       " 'tail',\n",
       " 'take',\n",
       " 'to_clipboard',\n",
       " 'to_csv',\n",
       " 'to_dict',\n",
       " 'to_excel',\n",
       " 'to_frame',\n",
       " 'to_hdf',\n",
       " 'to_json',\n",
       " 'to_latex',\n",
       " 'to_list',\n",
       " 'to_markdown',\n",
       " 'to_numpy',\n",
       " 'to_period',\n",
       " 'to_pickle',\n",
       " 'to_sql',\n",
       " 'to_string',\n",
       " 'to_timestamp',\n",
       " 'to_xarray',\n",
       " 'transform',\n",
       " 'transpose',\n",
       " 'truediv',\n",
       " 'truncate',\n",
       " 'tz_convert',\n",
       " 'tz_localize',\n",
       " 'unique',\n",
       " 'unstack',\n",
       " 'update',\n",
       " 'value_counts',\n",
       " 'values',\n",
       " 'var',\n",
       " 'view',\n",
       " 'where',\n",
       " 'xs']"
      ]
     },
     "execution_count": 16,
     "metadata": {},
     "output_type": "execute_result"
    }
   ],
   "source": [
    "dir(gr7p)"
   ]
  },
  {
   "cell_type": "code",
   "execution_count": 18,
   "id": "e035cbc0",
   "metadata": {},
   "outputs": [
    {
     "data": {
      "text/plain": [
       "(7,)"
      ]
     },
     "execution_count": 18,
     "metadata": {},
     "output_type": "execute_result"
    }
   ],
   "source": [
    "gr7p.shape"
   ]
  },
  {
   "cell_type": "code",
   "execution_count": 19,
   "id": "9157081f",
   "metadata": {},
   "outputs": [
    {
     "data": {
      "text/plain": [
       "<bound method NDFrame.bool of 0    34.6\n",
       "1    53.1\n",
       "2    53.5\n",
       "3    53.9\n",
       "4    47.0\n",
       "5    78.9\n",
       "6    34.7\n",
       "Name: group of 7 population, dtype: float64>"
      ]
     },
     "execution_count": 19,
     "metadata": {},
     "output_type": "execute_result"
    }
   ],
   "source": [
    "gr7p.bool"
   ]
  },
  {
   "cell_type": "code",
   "execution_count": 25,
   "id": "22a48efb",
   "metadata": {},
   "outputs": [],
   "source": [
    "l=['a','b','c']"
   ]
  },
  {
   "cell_type": "code",
   "execution_count": 87,
   "id": "49499c89",
   "metadata": {},
   "outputs": [
    {
     "name": "stdout",
     "output_type": "stream",
     "text": [
      "croatia    34.6\n",
      "japan      53.1\n",
      "england    53.5\n",
      "russia     53.9\n",
      "america    47.0\n",
      "canada     78.9\n",
      "france     34.7\n",
      "dtype: float64\n"
     ]
    }
   ],
   "source": [
    "gr7p.index=({\n",
    "    'france',\n",
    "    'canada',\n",
    "    'america',\n",
    "    'japan',\n",
    "    'russia',\n",
    "    'england',\n",
    "    'croatia',\n",
    "})\n",
    "print(gr7p)"
   ]
  },
  {
   "cell_type": "code",
   "execution_count": 31,
   "id": "e142ff4f",
   "metadata": {},
   "outputs": [
    {
     "data": {
      "text/plain": [
       "france     34.6\n",
       "canada     53.1\n",
       "america    53.5\n",
       "japan      53.9\n",
       "russia     47.0\n",
       "england    78.9\n",
       "croatia    34.7\n",
       "Name: group of 7 population, dtype: float64"
      ]
     },
     "execution_count": 31,
     "metadata": {},
     "output_type": "execute_result"
    }
   ],
   "source": [
    "gr7p"
   ]
  },
  {
   "cell_type": "code",
   "execution_count": 34,
   "id": "da556e23",
   "metadata": {},
   "outputs": [
    {
     "name": "stdout",
     "output_type": "stream",
     "text": [
      "34.6\n"
     ]
    },
    {
     "data": {
      "text/plain": [
       "78.9"
      ]
     },
     "execution_count": 34,
     "metadata": {},
     "output_type": "execute_result"
    }
   ],
   "source": [
    "print(gr7p['france'])\n",
    "gr7p['england']"
   ]
  },
  {
   "cell_type": "code",
   "execution_count": 36,
   "id": "f7ceb35a",
   "metadata": {},
   "outputs": [
    {
     "name": "stdout",
     "output_type": "stream",
     "text": [
      "113.5\n"
     ]
    }
   ],
   "source": [
    "## you can also perform maths calculations \n",
    "print(gr7p['france']+gr7p['england'])"
   ]
  },
  {
   "cell_type": "markdown",
   "id": "981827b8",
   "metadata": {},
   "source": [
    "## panda indexing and conditional selection"
   ]
  },
  {
   "cell_type": "code",
   "execution_count": 42,
   "id": "9dd098cb",
   "metadata": {},
   "outputs": [
    {
     "data": {
      "text/plain": [
       "france     34.6\n",
       "russia     47.0\n",
       "croatia    34.7\n",
       "Name: group of 7 population, dtype: float64"
      ]
     },
     "execution_count": 42,
     "metadata": {},
     "output_type": "execute_result"
    }
   ],
   "source": [
    "## you can also select multiple indices in Series\n",
    "gr7p[['france','russia','croatia']]\n"
   ]
  },
  {
   "cell_type": "code",
   "execution_count": 47,
   "id": "7849bc6a",
   "metadata": {},
   "outputs": [
    {
     "data": {
      "text/plain": [
       "japan     53.9\n",
       "russia    47.0\n",
       "Name: group of 7 population, dtype: float64"
      ]
     },
     "execution_count": 47,
     "metadata": {},
     "output_type": "execute_result"
    }
   ],
   "source": [
    "gr7p.iloc[[3,4]]"
   ]
  },
  {
   "cell_type": "code",
   "execution_count": 49,
   "id": "00fffc68",
   "metadata": {},
   "outputs": [
    {
     "data": {
      "text/plain": [
       "america    53.5\n",
       "japan      53.9\n",
       "russia     47.0\n",
       "england    78.9\n",
       "croatia    34.7\n",
       "Name: group of 7 population, dtype: float64"
      ]
     },
     "execution_count": 49,
     "metadata": {},
     "output_type": "execute_result"
    }
   ],
   "source": [
    "gr7p['america':]"
   ]
  },
  {
   "cell_type": "markdown",
   "id": "6d7bd614",
   "metadata": {},
   "source": [
    "## conditional selection (boolean arrays)"
   ]
  },
  {
   "cell_type": "code",
   "execution_count": 50,
   "id": "8d3e6b44",
   "metadata": {},
   "outputs": [
    {
     "name": "stdout",
     "output_type": "stream",
     "text": [
      "france     True\n",
      "canada     True\n",
      "america    True\n",
      "japan      True\n",
      "russia     True\n",
      "england    True\n",
      "croatia    True\n",
      "Name: group of 7 population, dtype: bool\n",
      "france     False\n",
      "canada     False\n",
      "america    False\n",
      "japan      False\n",
      "russia     False\n",
      "england    False\n",
      "croatia    False\n",
      "Name: group of 7 population, dtype: bool\n",
      "france     True\n",
      "canada     True\n",
      "america    True\n",
      "japan      True\n",
      "russia     True\n",
      "england    True\n",
      "croatia    True\n",
      "Name: group of 7 population, dtype: bool\n"
     ]
    }
   ],
   "source": [
    "## you coul run conditional code on a series\n",
    "print(gr7p>30)\n",
    "print(gr7p==45)\n",
    "print(gr7p<100)"
   ]
  },
  {
   "cell_type": "code",
   "execution_count": 53,
   "id": "89e13c2c",
   "metadata": {},
   "outputs": [
    {
     "name": "stdout",
     "output_type": "stream",
     "text": [
      "Series([], Name: group of 7 population, dtype: float64)\n",
      "france     34.6\n",
      "canada     53.1\n",
      "america    53.5\n",
      "japan      53.9\n",
      "russia     47.0\n",
      "england    78.9\n",
      "croatia    34.7\n",
      "Name: group of 7 population, dtype: float64\n",
      "france     34.6\n",
      "canada     53.1\n",
      "america    53.5\n",
      "japan      53.9\n",
      "russia     47.0\n",
      "england    78.9\n",
      "croatia    34.7\n",
      "Name: group of 7 population, dtype: float64\n"
     ]
    }
   ],
   "source": [
    "## you can also select your correct boolean code to reduce the stress like the above cod e which is many##\n",
    "print(gr7p[gr7p==45])\n",
    "print(gr7p[gr7p<100])\n",
    "print(gr7p[gr7p>30])\n",
    "## now we would be able to tell the difference in the country population##"
   ]
  },
  {
   "cell_type": "code",
   "execution_count": 58,
   "id": "5cab17b6",
   "metadata": {},
   "outputs": [
    {
     "name": "stdout",
     "output_type": "stream",
     "text": [
      "50.81428571428571\n",
      "53.1\n",
      "355.7\n",
      "14.98826525112547\n"
     ]
    }
   ],
   "source": [
    "## we can also find the mean,median,sum like numpy does##\n",
    "print(gr7p.mean())\n",
    "print(gr7p.median())\n",
    "print(gr7p.sum())\n",
    "print(gr7p.std())\n"
   ]
  },
  {
   "cell_type": "markdown",
   "id": "11083d63",
   "metadata": {},
   "source": [
    "## modifying series"
   ]
  },
  {
   "cell_type": "code",
   "execution_count": 62,
   "id": "a4832c33",
   "metadata": {},
   "outputs": [
    {
     "name": "stdout",
     "output_type": "stream",
     "text": [
      "france     150.0\n",
      "canada      53.1\n",
      "america     53.5\n",
      "japan       53.9\n",
      "russia      10.0\n",
      "england     78.9\n",
      "croatia     34.7\n",
      "Name: group of 7 population, dtype: float64\n",
      "after modification\n",
      "france     150.0\n",
      "canada      53.1\n",
      "america     53.5\n",
      "japan       53.9\n",
      "russia      10.0\n",
      "england     78.9\n",
      "croatia     34.7\n",
      "Name: group of 7 population, dtype: float64\n"
     ]
    }
   ],
   "source": [
    "## you can change alraedy present values in series just like a numpy array##\n",
    "gr7p['france']=150\n",
    "gr7p['russia']=10\n",
    "print(gr7p)"
   ]
  },
  {
   "cell_type": "code",
   "execution_count": 5,
   "id": "5475f80b",
   "metadata": {},
   "outputs": [
    {
     "data": {
      "text/plain": [
       "<AxesSubplot:>"
      ]
     },
     "execution_count": 5,
     "metadata": {},
     "output_type": "execute_result"
    },
    {
     "data": {
      "image/png": "[encoded data removed]",
      "text/plain": [
       "<Figure size 640x480 with 1 Axes>"
      ]
     },
     "metadata": {},
     "output_type": "display_data"
    }
   ],
   "source": [
    "gr7p.plot()"
   ]
  },
  {
   "cell_type": "code",
   "execution_count": null,
   "id": "62a9c1dc",
   "metadata": {},
   "outputs": [],
   "source": []
  }
 ],
 "metadata": {
  "kernelspec": {
   "display_name": "Python 3 (ipykernel)",
   "language": "python",
   "name": "python3"
  },
  "language_info": {
   "codemirror_mode": {
    "name": "ipython",
    "version": 3
   },
   "file_extension": ".py",
   "mimetype": "text/x-python",
   "name": "python",
   "nbconvert_exporter": "python",
   "pygments_lexer": "ipython3",
   "version": "3.9.13"
  }
 },
 "nbformat": 4,
 "nbformat_minor": 5
}
