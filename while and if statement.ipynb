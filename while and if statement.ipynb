{
 "cells": [
  {
   "cell_type": "code",
   "execution_count": 2,
   "id": "acfefe3c",
   "metadata": {},
   "outputs": [
    {
     "name": "stdout",
     "output_type": "stream",
     "text": [
      "wierd\n"
     ]
    }
   ],
   "source": [
    "n=(6)\n",
    "if n%3==0:\n",
    "    print('wierd')\n",
    "    "
   ]
  },
  {
   "cell_type": "code",
   "execution_count": 16,
   "id": "1e39708d",
   "metadata": {},
   "outputs": [
    {
     "name": "stdout",
     "output_type": "stream",
     "text": [
      "enter number3\n",
      "wierd\n"
     ]
    }
   ],
   "source": [
    "n=int(input('enter number'))\n",
    "if n%3==0:\n",
    "    print('wierd')\n",
    "else:\n",
    "    print('not wierd')\n"
   ]
  },
  {
   "cell_type": "code",
   "execution_count": 15,
   "id": "4b90204d",
   "metadata": {},
   "outputs": [
    {
     "name": "stdout",
     "output_type": "stream",
     "text": [
      "enter number3\n",
      "wierd\n"
     ]
    }
   ],
   "source": [
    "n=int(input('enter number'))\n",
    "while n%3 and n==2<6:\n",
    "    print(\"not wierd\")\n",
    "else:\n",
    "    print('wierd')"
   ]
  },
  {
   "cell_type": "code",
   "execution_count": null,
   "id": "8ae9b7bc",
   "metadata": {},
   "outputs": [],
   "source": []
  },
  {
   "cell_type": "code",
   "execution_count": null,
   "id": "038d737a",
   "metadata": {},
   "outputs": [],
   "source": []
  },
  {
   "cell_type": "code",
   "execution_count": null,
   "id": "00c6cd09",
   "metadata": {},
   "outputs": [],
   "source": []
  }
 ],
 "metadata": {
  "kernelspec": {
   "display_name": "Python 3 (ipykernel)",
   "language": "python",
   "name": "python3"
  },
  "language_info": {
   "codemirror_mode": {
    "name": "ipython",
    "version": 3
   },
   "file_extension": ".py",
   "mimetype": "text/x-python",
   "name": "python",
   "nbconvert_exporter": "python",
   "pygments_lexer": "ipython3",
   "version": "3.9.13"
  }
 },
 "nbformat": 4,
 "nbformat_minor": 5
}
