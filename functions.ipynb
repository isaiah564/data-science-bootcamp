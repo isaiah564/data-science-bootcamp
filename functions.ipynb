{
 "cells": [
  {
   "cell_type": "code",
   "execution_count": 2,
   "id": "81785b1a",
   "metadata": {},
   "outputs": [
    {
     "name": "stdout",
     "output_type": "stream",
     "text": [
      "45\n"
     ]
    }
   ],
   "source": [
    "##built in functions##\n",
    "x=[45,6,7,8,9]\n",
    "print(max(x))"
   ]
  },
  {
   "cell_type": "code",
   "execution_count": 6,
   "id": "574666f0",
   "metadata": {},
   "outputs": [
    {
     "name": "stdout",
     "output_type": "stream",
     "text": [
      "5\n",
      "6\n"
     ]
    }
   ],
   "source": [
    "print(len(x))\n",
    "print(min(x))"
   ]
  },
  {
   "cell_type": "code",
   "execution_count": 9,
   "id": "03933a82",
   "metadata": {},
   "outputs": [
    {
     "name": "stdout",
     "output_type": "stream",
     "text": [
      "<built-in method random of Random object at 0x0000021F96025A80>\n",
      "<bound method Random.choice of <random.Random object at 0x0000021F96025A80>>\n",
      "<built-in method random of Random object at 0x0000021F96025A80>\n",
      "<bound method Random.choice of <random.Random object at 0x0000021F96025A80>>\n",
      "<built-in method random of Random object at 0x0000021F96025A80>\n",
      "<bound method Random.choice of <random.Random object at 0x0000021F96025A80>>\n",
      "<built-in method random of Random object at 0x0000021F96025A80>\n",
      "<bound method Random.choice of <random.Random object at 0x0000021F96025A80>>\n",
      "<built-in method random of Random object at 0x0000021F96025A80>\n",
      "<bound method Random.choice of <random.Random object at 0x0000021F96025A80>>\n"
     ]
    }
   ],
   "source": [
    "import random\n",
    "for i in range(5,10):\n",
    "    x=random.random\n",
    "    print(x)\n",
    "    y=random.choice\n",
    "    print(y)"
   ]
  },
  {
   "cell_type": "code",
   "execution_count": 10,
   "id": "02f5219d",
   "metadata": {},
   "outputs": [
    {
     "name": "stdout",
     "output_type": "stream",
     "text": [
      "<module 'math' (built-in)>\n"
     ]
    }
   ],
   "source": [
    "import math\n",
    "print(math)"
   ]
  },
  {
   "cell_type": "code",
   "execution_count": 17,
   "id": "a6f470dc",
   "metadata": {},
   "outputs": [
    {
     "name": "stdout",
     "output_type": "stream",
     "text": [
      "something is happening to me\n",
      "am okay\n",
      "None\n"
     ]
    }
   ],
   "source": [
    "def print_lyrics():\n",
    "    print('something is happening to me')\n",
    "    print('am okay')\n",
    "print(print_lyrics())\n",
    "          "
   ]
  },
  {
   "cell_type": "code",
   "execution_count": 22,
   "id": "b7c0852f",
   "metadata": {},
   "outputs": [
    {
     "name": "stdout",
     "output_type": "stream",
     "text": [
      "something is happening to me\n",
      "am okay\n",
      "something is happening to me\n",
      "am okay\n",
      "None\n"
     ]
    }
   ],
   "source": [
    "def local_lyrics():\n",
    "    (print_lyrics())\n",
    "    (print_lyrics())\n",
    "print(local_lyrics())"
   ]
  },
  {
   "cell_type": "code",
   "execution_count": 38,
   "id": "675d371d",
   "metadata": {},
   "outputs": [
    {
     "name": "stdout",
     "output_type": "stream",
     "text": [
      "hello\n",
      "hola\n"
     ]
    }
   ],
   "source": [
    "def humility(greet):\n",
    "    if greet=='es':\n",
    "        print('hola')\n",
    "    elif greet=='so':\n",
    "        print('hello')\n",
    "    else:\n",
    "        print('moshi moshi')\n",
    "humility('so')\n",
    "humility('es')\n"
   ]
  },
  {
   "cell_type": "code",
   "execution_count": 45,
   "id": "16d0b148",
   "metadata": {},
   "outputs": [
    {
     "name": "stdout",
     "output_type": "stream",
     "text": [
      "hola isaiah\n",
      "hello dataset\n",
      "moshi moshi bola\n"
     ]
    }
   ],
   "source": [
    "def humility(greet):\n",
    "    if greet=='es':\n",
    "        return('hola')\n",
    "    elif greet=='so':\n",
    "        return('hello')\n",
    "    else:\n",
    "        return('moshi moshi')\n",
    "print(humility('es'),'isaiah')\n",
    "print(humility('so'),'dataset')\n",
    "print(humility('kj'),'bola')\n"
   ]
  },
  {
   "cell_type": "code",
   "execution_count": 48,
   "id": "98f8ff9c",
   "metadata": {},
   "outputs": [
    {
     "name": "stdout",
     "output_type": "stream",
     "text": [
      "what is your name ?\n",
      "isaiah\n",
      "what is your surname\n",
      "chukunda\n",
      "enter other name\n",
      "chimename\n",
      "hola isaiah\n",
      "hello chukunda\n",
      "moshi moshi chimename\n"
     ]
    }
   ],
   "source": [
    "##my personal code##\n",
    "print('what is your name ?')\n",
    "name=input()\n",
    "print('what is your surname')\n",
    "surname=input()\n",
    "print('enter other name')\n",
    "other_name=input()\n",
    "def humility(greet):\n",
    "    if greet=='es':\n",
    "        return('hola')\n",
    "    elif greet=='so':\n",
    "        return('hello')\n",
    "    else:\n",
    "        return('moshi moshi')\n",
    "print(humility('es'),name)\n",
    "print(humility('so'),surname)\n",
    "print(humility('kj'),other_name)\n"
   ]
  },
  {
   "cell_type": "code",
   "execution_count": null,
   "id": "02995377",
   "metadata": {},
   "outputs": [],
   "source": []
  }
 ],
 "metadata": {
  "kernelspec": {
   "display_name": "Python 3 (ipykernel)",
   "language": "python",
   "name": "python3"
  },
  "language_info": {
   "codemirror_mode": {
    "name": "ipython",
    "version": 3
   },
   "file_extension": ".py",
   "mimetype": "text/x-python",
   "name": "python",
   "nbconvert_exporter": "python",
   "pygments_lexer": "ipython3",
   "version": "3.9.13"
  }
 },
 "nbformat": 4,
 "nbformat_minor": 5
}
