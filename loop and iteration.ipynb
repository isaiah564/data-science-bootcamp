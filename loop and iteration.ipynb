{
 "cells": [
  {
   "cell_type": "code",
   "execution_count": 2,
   "id": "896c58ab",
   "metadata": {},
   "outputs": [
    {
     "name": "stdout",
     "output_type": "stream",
     "text": [
      "3\n",
      "17\n",
      "29\n",
      "35\n"
     ]
    }
   ],
   "source": [
    "total=0\n",
    "for isaiah in [3,14,12,6]:\n",
    "    total=total + isaiah\n",
    "    print( total)"
   ]
  },
  {
   "cell_type": "raw",
   "id": "920a0062",
   "metadata": {},
   "source": []
  },
  {
   "cell_type": "code",
   "execution_count": 9,
   "id": "29befab9",
   "metadata": {},
   "outputs": [
    {
     "name": "stdout",
     "output_type": "stream",
     "text": [
      "before: 0\n",
      "loop: 14 14\n",
      "largest: 14\n"
     ]
    }
   ],
   "source": [
    "largest=0\n",
    "print('before:', largest)\n",
    "for isaiah in [14,4,3,6,8,1]:\n",
    "    if largest == 0  or isaiah>largest:\n",
    "        largest=isaiah\n",
    "        print('loop:', isaiah, largest)\n",
    "        print('largest:', largest)"
   ]
  },
  {
   "cell_type": "code",
   "execution_count": 12,
   "id": "76c7c2d4",
   "metadata": {},
   "outputs": [
    {
     "name": "stdout",
     "output_type": "stream",
     "text": [
      "before: 0\n",
      "loop: 8 8\n",
      "smallest: 8\n",
      "loop: 4 4\n",
      "smallest: 4\n",
      "loop: 2 2\n",
      "smallest: 2\n"
     ]
    }
   ],
   "source": [
    "smallest=0\n",
    "print('before:', smallest)\n",
    "for dike in [8,9,4,2,10]:\n",
    "    if smallest==0 or dike < smallest:\n",
    "        smallest=dike\n",
    "        print('loop:', dike, smallest)\n",
    "        print('smallest:', smallest)"
   ]
  },
  {
   "cell_type": "code",
   "execution_count": null,
   "id": "746af267",
   "metadata": {},
   "outputs": [],
   "source": [
    "l=9\n",
    "b=5\n",
    "h=83\n",
    "a=l*b*h\n",
    "print(a)\n",
    "if a!=b:\n",
    "    print('sorry')\n",
    "\n",
    "    "
   ]
  },
  {
   "cell_type": "code",
   "execution_count": null,
   "id": "05dc9ae5",
   "metadata": {},
   "outputs": [],
   "source": []
  },
  {
   "cell_type": "code",
   "execution_count": null,
   "id": "aff2e889",
   "metadata": {},
   "outputs": [],
   "source": []
  },
  {
   "cell_type": "code",
   "execution_count": null,
   "id": "83b0120c",
   "metadata": {},
   "outputs": [],
   "source": []
  },
  {
   "cell_type": "code",
   "execution_count": null,
   "id": "83584fdc",
   "metadata": {},
   "outputs": [],
   "source": []
  }
 ],
 "metadata": {
  "kernelspec": {
   "display_name": "Python 3 (ipykernel)",
   "language": "python",
   "name": "python3"
  },
  "language_info": {
   "codemirror_mode": {
    "name": "ipython",
    "version": 3
   },
   "file_extension": ".py",
   "mimetype": "text/x-python",
   "name": "python",
   "nbconvert_exporter": "python",
   "pygments_lexer": "ipython3",
   "version": "3.9.13"
  }
 },
 "nbformat": 4,
 "nbformat_minor": 5
}
